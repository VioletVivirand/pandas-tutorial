{
 "cells": [
  {
   "cell_type": "code",
   "execution_count": 1,
   "metadata": {
    "colab": {
     "autoexec": {
      "startup": false,
      "wait_interval": 0
     }
    },
    "colab_type": "code",
    "id": "uWE64OO25RXi"
   },
   "outputs": [],
   "source": [
    "import os\n",
    "import numpy as np\n",
    "import pandas as pd\n",
    "import matplotlib.pyplot as plt\n",
    "from IPython.display import display"
   ]
  },
  {
   "cell_type": "code",
   "execution_count": 2,
   "metadata": {
    "colab": {
     "autoexec": {
      "startup": false,
      "wait_interval": 0
     }
    },
    "colab_type": "code",
    "id": "Oz4SJTvSsTCQ"
   },
   "outputs": [],
   "source": [
    "AQI_FILEPATH = os.path.join(os.curdir, 'mailiao_aqi.xls')\n",
    "df = pd.read_excel(AQI_FILEPATH)"
   ]
  },
  {
   "cell_type": "code",
   "execution_count": 3,
   "metadata": {
    "colab": {
     "autoexec": {
      "startup": false,
      "wait_interval": 0
     }
    },
    "colab_type": "code",
    "id": "flLLwigPsZsg"
   },
   "outputs": [],
   "source": [
    "df.columns = [str(col) for col in df.columns]  # 把 Column 的名稱全轉換為 Str Type"
   ]
  },
  {
   "cell_type": "code",
   "execution_count": 4,
   "metadata": {
    "colab": {
     "autoexec": {
      "startup": false,
      "wait_interval": 0
     }
    },
    "colab_type": "code",
    "id": "l4Va-aIpsw7L"
   },
   "outputs": [],
   "source": [
    "# 將 Column 名稱由中文修改為英文\n",
    "columns_hours = [str(h).zfill(2) for h in range(0,24)]  # 時間欄位：00, 01, ..., 23\n",
    "columns = ['date', 'location', 'item'] + columns_hours\n",
    "df.columns = columns"
   ]
  },
  {
   "cell_type": "code",
   "execution_count": 5,
   "metadata": {
    "colab": {
     "autoexec": {
      "startup": false,
      "wait_interval": 0
     }
    },
    "colab_type": "code",
    "id": "fWtqaSN7s08D"
   },
   "outputs": [],
   "source": [
    "# 用不同的小時，來將全部資料分割為各個 [\"時間\", \"觀測項目\", \"小時\"] 的 DataFrame\n",
    "hours_split_df = [df.loc[:, ['date', 'item' , hour]] for hour in columns_hours]"
   ]
  },
  {
   "cell_type": "code",
   "execution_count": 6,
   "metadata": {
    "colab": {
     "autoexec": {
      "startup": false,
      "wait_interval": 0
     }
    },
    "colab_type": "code",
    "id": "ElLxnYhQs3ZK"
   },
   "outputs": [],
   "source": [
    "# 把小時的資料獨立成 \"hour\" 的 Column\n",
    "for hour_df in hours_split_df:\n",
    "    hour_df.loc[:, 'hour'] = hour_df.columns[-1]  # 最後一個 Column 的名稱即為小時\n",
    "    hour_df.columns = ['date', 'item', 'value', 'hour']  # 幫最後一個 Column 補上名稱"
   ]
  },
  {
   "cell_type": "code",
   "execution_count": 7,
   "metadata": {
    "colab": {
     "autoexec": {
      "startup": false,
      "wait_interval": 0
     }
    },
    "colab_type": "code",
    "id": "gvRzcz99s41b"
   },
   "outputs": [],
   "source": [
    "# 合併所有以不同小時區分開來的 DataFrame\n",
    "df_concat = pd.concat(hours_split_df)"
   ]
  },
  {
   "cell_type": "code",
   "execution_count": 8,
   "metadata": {
    "colab": {
     "autoexec": {
      "startup": false,
      "wait_interval": 0
     }
    },
    "colab_type": "code",
    "id": "deE1y4L-s6-6"
   },
   "outputs": [],
   "source": [
    "# 製作要轉為日期的欄位\n",
    "df_concat.loc[:, 'date'] = pd.to_datetime(df_concat['date'])  # 轉為 datetime Type\n",
    "df_concat.loc[:, 'year'] = df_concat['date'].dt.year  # 年份\n",
    "df_concat.loc[:, 'month'] = df_concat['date'].dt.month  # 月份\n",
    "df_concat.loc[:, 'day'] = df_concat['date'].dt.day  # 日期\n",
    "df_concat.loc[:, 'datetime'] = pd.to_datetime(df_concat[['year', 'month', 'day', 'hour']])  # 用四個欄位製作日期欄位"
   ]
  },
  {
   "cell_type": "code",
   "execution_count": 9,
   "metadata": {
    "colab": {
     "autoexec": {
      "startup": false,
      "wait_interval": 0
     }
    },
    "colab_type": "code",
    "id": "G1RqV4pMs8fl"
   },
   "outputs": [],
   "source": [
    "df_aqi = df_concat.loc[:, ['datetime', 'item', 'value']].copy()  # 保留需要的欄位\n",
    "# df_aqi.to_csv(os.path.join(os.curdir, 'drive', 'Colab Notebooks', 'Pandas Training', 'Preprocessing', 'aqi_nopivot.csv'), index=False)"
   ]
  },
  {
   "cell_type": "code",
   "execution_count": 10,
   "metadata": {
    "colab": {
     "autoexec": {
      "startup": false,
      "wait_interval": 0
     }
    },
    "colab_type": "code",
    "id": "Hpgw4wkUEIKI"
   },
   "outputs": [],
   "source": [
    "df_aqi_pivot = df_aqi.pivot(index='datetime', columns='item', values='value')  # 用樞紐分析表轉置\n",
    "df_aqi_pivot.replace(r'[-]?\\D*[.]?\\D*[#*x]+', np.nan, regex=True, inplace=True)  # 把 *, #, x 等特殊符號給置換為 NaN"
   ]
  },
  {
   "cell_type": "code",
   "execution_count": 11,
   "metadata": {
    "colab": {
     "autoexec": {
      "startup": false,
      "wait_interval": 0
     },
     "base_uri": "https://localhost:8080/",
     "height": 4060
    },
    "colab_type": "code",
    "executionInfo": {
     "elapsed": 1361,
     "status": "ok",
     "timestamp": 1529473844522,
     "user": {
      "displayName": "黃種平",
      "photoUrl": "//lh3.googleusercontent.com/-ay6h3dmyraY/AAAAAAAAAAI/AAAAAAAADhg/t8F2AGa00fc/s50-c-k-no/photo.jpg",
      "userId": "114874362450166068432"
     },
     "user_tz": -480
    },
    "id": "I6CfLWUCEchs",
    "outputId": "f3393d5a-c547-4676-d917-f2bdf759782b"
   },
   "outputs": [
    {
     "data": {
      "text/html": [
       "<div>\n",
       "<style scoped>\n",
       "    .dataframe tbody tr th:only-of-type {\n",
       "        vertical-align: middle;\n",
       "    }\n",
       "\n",
       "    .dataframe tbody tr th {\n",
       "        vertical-align: top;\n",
       "    }\n",
       "\n",
       "    .dataframe thead th {\n",
       "        text-align: right;\n",
       "    }\n",
       "</style>\n",
       "<table border=\"1\" class=\"dataframe\">\n",
       "  <thead>\n",
       "    <tr style=\"text-align: right;\">\n",
       "      <th>item</th>\n",
       "      <th>AMB_TEMP</th>\n",
       "      <th>CH4</th>\n",
       "      <th>CO</th>\n",
       "      <th>NMHC</th>\n",
       "      <th>NO</th>\n",
       "      <th>NO2</th>\n",
       "      <th>NOx</th>\n",
       "      <th>O3</th>\n",
       "      <th>PM10</th>\n",
       "      <th>PM2.5</th>\n",
       "      <th>RAINFALL</th>\n",
       "      <th>RH</th>\n",
       "      <th>SO2</th>\n",
       "      <th>THC</th>\n",
       "      <th>WD_HR</th>\n",
       "      <th>WIND_DIREC</th>\n",
       "      <th>WIND_SPEED</th>\n",
       "      <th>WS_HR</th>\n",
       "    </tr>\n",
       "    <tr>\n",
       "      <th>datetime</th>\n",
       "      <th></th>\n",
       "      <th></th>\n",
       "      <th></th>\n",
       "      <th></th>\n",
       "      <th></th>\n",
       "      <th></th>\n",
       "      <th></th>\n",
       "      <th></th>\n",
       "      <th></th>\n",
       "      <th></th>\n",
       "      <th></th>\n",
       "      <th></th>\n",
       "      <th></th>\n",
       "      <th></th>\n",
       "      <th></th>\n",
       "      <th></th>\n",
       "      <th></th>\n",
       "      <th></th>\n",
       "    </tr>\n",
       "  </thead>\n",
       "  <tbody>\n",
       "    <tr>\n",
       "      <th>2017-01-01 00:00:00</th>\n",
       "      <td>20.0</td>\n",
       "      <td>2.0</td>\n",
       "      <td>0.20</td>\n",
       "      <td>0.04</td>\n",
       "      <td>1.7</td>\n",
       "      <td>7.5</td>\n",
       "      <td>9.2</td>\n",
       "      <td>25.0</td>\n",
       "      <td>67.0</td>\n",
       "      <td>18.0</td>\n",
       "      <td>NR</td>\n",
       "      <td>88.0</td>\n",
       "      <td>1.5</td>\n",
       "      <td>2.0</td>\n",
       "      <td>33.0</td>\n",
       "      <td>37.0</td>\n",
       "      <td>1.4</td>\n",
       "      <td>0.1</td>\n",
       "    </tr>\n",
       "    <tr>\n",
       "      <th>2017-01-01 01:00:00</th>\n",
       "      <td>20.0</td>\n",
       "      <td>2.2</td>\n",
       "      <td>0.19</td>\n",
       "      <td>0.05</td>\n",
       "      <td>1.9</td>\n",
       "      <td>7.9</td>\n",
       "      <td>9.8</td>\n",
       "      <td>18.0</td>\n",
       "      <td>52.0</td>\n",
       "      <td>14.0</td>\n",
       "      <td>NR</td>\n",
       "      <td>88.0</td>\n",
       "      <td>2.1</td>\n",
       "      <td>2.2</td>\n",
       "      <td>76.0</td>\n",
       "      <td>143.0</td>\n",
       "      <td>0.5</td>\n",
       "      <td>0.6</td>\n",
       "    </tr>\n",
       "    <tr>\n",
       "      <th>2017-01-01 02:00:00</th>\n",
       "      <td>19.0</td>\n",
       "      <td>2.2</td>\n",
       "      <td>0.24</td>\n",
       "      <td>0.08</td>\n",
       "      <td>2.0</td>\n",
       "      <td>9.3</td>\n",
       "      <td>11.0</td>\n",
       "      <td>13.0</td>\n",
       "      <td>59.0</td>\n",
       "      <td>17.0</td>\n",
       "      <td>NR</td>\n",
       "      <td>89.0</td>\n",
       "      <td>2.0</td>\n",
       "      <td>2.3</td>\n",
       "      <td>140.0</td>\n",
       "      <td>142.0</td>\n",
       "      <td>0.5</td>\n",
       "      <td>0.6</td>\n",
       "    </tr>\n",
       "    <tr>\n",
       "      <th>2017-01-01 03:00:00</th>\n",
       "      <td>19.0</td>\n",
       "      <td>2.4</td>\n",
       "      <td>0.24</td>\n",
       "      <td>0.11</td>\n",
       "      <td>1.4</td>\n",
       "      <td>9.5</td>\n",
       "      <td>11.0</td>\n",
       "      <td>8.5</td>\n",
       "      <td>53.0</td>\n",
       "      <td>24.0</td>\n",
       "      <td>NR</td>\n",
       "      <td>90.0</td>\n",
       "      <td>1.8</td>\n",
       "      <td>2.5</td>\n",
       "      <td>107.0</td>\n",
       "      <td>51.0</td>\n",
       "      <td>0.5</td>\n",
       "      <td>0.4</td>\n",
       "    </tr>\n",
       "    <tr>\n",
       "      <th>2017-01-01 04:00:00</th>\n",
       "      <td>18.0</td>\n",
       "      <td>3.4</td>\n",
       "      <td>0.23</td>\n",
       "      <td>0.12</td>\n",
       "      <td>6.8</td>\n",
       "      <td>11.0</td>\n",
       "      <td>17.0</td>\n",
       "      <td>1.8</td>\n",
       "      <td>37.0</td>\n",
       "      <td>25.0</td>\n",
       "      <td>NR</td>\n",
       "      <td>90.0</td>\n",
       "      <td>1.7</td>\n",
       "      <td>3.6</td>\n",
       "      <td>96.0</td>\n",
       "      <td>106.0</td>\n",
       "      <td>1.0</td>\n",
       "      <td>0.5</td>\n",
       "    </tr>\n",
       "  </tbody>\n",
       "</table>\n",
       "</div>"
      ],
      "text/plain": [
       "item                 AMB_TEMP  CH4    CO  NMHC   NO   NO2   NOx    O3  PM10  \\\n",
       "datetime                                                                      \n",
       "2017-01-01 00:00:00      20.0  2.0  0.20  0.04  1.7   7.5   9.2  25.0  67.0   \n",
       "2017-01-01 01:00:00      20.0  2.2  0.19  0.05  1.9   7.9   9.8  18.0  52.0   \n",
       "2017-01-01 02:00:00      19.0  2.2  0.24  0.08  2.0   9.3  11.0  13.0  59.0   \n",
       "2017-01-01 03:00:00      19.0  2.4  0.24  0.11  1.4   9.5  11.0   8.5  53.0   \n",
       "2017-01-01 04:00:00      18.0  3.4  0.23  0.12  6.8  11.0  17.0   1.8  37.0   \n",
       "\n",
       "item                 PM2.5 RAINFALL    RH  SO2  THC  WD_HR  WIND_DIREC  \\\n",
       "datetime                                                                 \n",
       "2017-01-01 00:00:00   18.0       NR  88.0  1.5  2.0   33.0        37.0   \n",
       "2017-01-01 01:00:00   14.0       NR  88.0  2.1  2.2   76.0       143.0   \n",
       "2017-01-01 02:00:00   17.0       NR  89.0  2.0  2.3  140.0       142.0   \n",
       "2017-01-01 03:00:00   24.0       NR  90.0  1.8  2.5  107.0        51.0   \n",
       "2017-01-01 04:00:00   25.0       NR  90.0  1.7  3.6   96.0       106.0   \n",
       "\n",
       "item                 WIND_SPEED  WS_HR  \n",
       "datetime                                \n",
       "2017-01-01 00:00:00         1.4    0.1  \n",
       "2017-01-01 01:00:00         0.5    0.6  \n",
       "2017-01-01 02:00:00         0.5    0.6  \n",
       "2017-01-01 03:00:00         0.5    0.4  \n",
       "2017-01-01 04:00:00         1.0    0.5  "
      ]
     },
     "execution_count": 11,
     "metadata": {},
     "output_type": "execute_result"
    }
   ],
   "source": [
    "df_aqi_pivot.head()"
   ]
  }
 ],
 "metadata": {
  "accelerator": "GPU",
  "colab": {
   "collapsed_sections": [],
   "default_view": {},
   "name": "mailiao_pivot.ipynb",
   "provenance": [],
   "version": "0.3.2",
   "views": {}
  },
  "kernelspec": {
   "display_name": "Python 3",
   "language": "python",
   "name": "python3"
  },
  "language_info": {
   "codemirror_mode": {
    "name": "ipython",
    "version": 3
   },
   "file_extension": ".py",
   "mimetype": "text/x-python",
   "name": "python",
   "nbconvert_exporter": "python",
   "pygments_lexer": "ipython3",
   "version": "3.6.4"
  }
 },
 "nbformat": 4,
 "nbformat_minor": 2
}
