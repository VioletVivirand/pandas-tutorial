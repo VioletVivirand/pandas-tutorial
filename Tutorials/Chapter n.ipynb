{
 "cells": [
  {
   "cell_type": "code",
   "execution_count": 1,
   "metadata": {},
   "outputs": [],
   "source": [
    "import pandas as pd\n",
    "import numpy as np"
   ]
  },
  {
   "cell_type": "markdown",
   "metadata": {
    "colab_type": "text",
    "id": "WcRa95Hpclvu"
   },
   "source": [
    "## 資料結構(Data structures)：Numpy arrays"
   ]
  },
  {
   "cell_type": "markdown",
   "metadata": {
    "colab_type": "text",
    "id": "KdKkxlh83uCF"
   },
   "source": [
    "### Series : 有 index 的一維陣列 (one-dimensional)\n",
    "* 文件連結：\n",
    "    * [pandas.Series](https://pandas.pydata.org/pandas-docs/stable/generated/pandas.Series.html)\n",
    "    * [Pandas 基礎教學](https://oranwind.org/python-pandas-ji-chu-jiao-xue/)"
   ]
  },
  {
   "cell_type": "code",
   "execution_count": 2,
   "metadata": {
    "colab": {
     "autoexec": {
      "startup": false,
      "wait_interval": 0
     }
    },
    "colab_type": "code",
    "id": "wNs_8NEV6cXs"
   },
   "outputs": [
    {
     "name": "stdout",
     "output_type": "stream",
     "text": [
      "0    1.0\n",
      "1    2.0\n",
      "2    3.0\n",
      "dtype: float64\n",
      "\n",
      "<class 'pandas.core.series.Series'>\n",
      "\n",
      "[1. 2. 3.]\n",
      "<class 'numpy.ndarray'>\n",
      "=====================\n",
      "a    1.0\n",
      "b    2.0\n",
      "c    3.0\n",
      "dtype: float64\n",
      "\n",
      "<class 'pandas.core.series.Series'>\n",
      "\n",
      "[1. 2. 3.]\n",
      "<class 'numpy.ndarray'>\n",
      "=====================\n",
      "2018-01-01 00:00:00    1.0\n",
      "2018-01-01 01:00:00    2.0\n",
      "2018-01-01 02:00:00    3.0\n",
      "Freq: H, dtype: float64\n",
      "\n",
      "<class 'pandas.core.series.Series'>\n",
      "\n",
      "[1. 2. 3.]\n",
      "<class 'numpy.ndarray'>\n"
     ]
    }
   ],
   "source": [
    "# 建立一個 series\n",
    "# 預設的 index 為 數值 且 從 0 開始\n",
    "s1 = pd.Series([1., 2., 3.])\n",
    "print(s1)\n",
    "print()\n",
    "print(type(s1))\n",
    "print()\n",
    "# 在 series 後加上 .values 屬性(attributes)，回傳 ndarray-like (numpy.array)\n",
    "print(s1.values)\n",
    "print(type(s1.values))\n",
    "\n",
    "print('=====================')\n",
    "\n",
    "# 建立一個 series，自訂 index 為 文字\n",
    "s2 = pd.Series([1., 2., 3.], index=['a', 'b', 'c'])\n",
    "print(s2)\n",
    "print()\n",
    "print(type(s2))\n",
    "print()\n",
    "# 在 series 後加上 .values 屬性(attributes)，回傳 ndarray-like (numpy.array)\n",
    "print(s2.values)\n",
    "print(type(s2.values))\n",
    "\n",
    "print('=====================')\n",
    "\n",
    "# 建立一個 series，自訂 index 為 datetime(利用 pandas.date_range，freq 為 Hour)\n",
    "s3 = pd.Series([1., 2., 3.], index=pd.date_range('2018-01-01', periods=3, freq='H'))\n",
    "print(s3)\n",
    "print()\n",
    "print(type(s3))\n",
    "print()\n",
    "# 在 series 後加上 .values 屬性(attributes)，回傳 ndarray-like (numpy.array)\n",
    "print(s3.values)\n",
    "print(type(s3.values))"
   ]
  },
  {
   "cell_type": "code",
   "execution_count": 3,
   "metadata": {
    "colab": {
     "autoexec": {
      "startup": false,
      "wait_interval": 0
     }
    },
    "colab_type": "code",
    "id": "MLKMVBrZ3tWc"
   },
   "outputs": [
    {
     "ename": "NameError",
     "evalue": "name 'boolean_vector' is not defined",
     "output_type": "error",
     "traceback": [
      "\u001b[0;31m---------------------------------------------------------------------------\u001b[0m",
      "\u001b[0;31mNameError\u001b[0m                                 Traceback (most recent call last)",
      "\u001b[0;32m<ipython-input-3-b69535c27b81>\u001b[0m in \u001b[0;36m<module>\u001b[0;34m()\u001b[0m\n\u001b[1;32m      1\u001b[0m \u001b[0;31m# 觀察 3.1 boolean index 中 所使用的 boolean vector 其資料格式為 series\u001b[0m\u001b[0;34m\u001b[0m\u001b[0;34m\u001b[0m\u001b[0m\n\u001b[0;32m----> 2\u001b[0;31m \u001b[0mprint\u001b[0m\u001b[0;34m(\u001b[0m\u001b[0mtype\u001b[0m\u001b[0;34m(\u001b[0m\u001b[0mboolean_vector\u001b[0m\u001b[0;34m)\u001b[0m\u001b[0;34m)\u001b[0m\u001b[0;34m\u001b[0m\u001b[0m\n\u001b[0m\u001b[1;32m      3\u001b[0m \u001b[0mprint\u001b[0m\u001b[0;34m(\u001b[0m\u001b[0;34m)\u001b[0m\u001b[0;34m\u001b[0m\u001b[0m\n\u001b[1;32m      4\u001b[0m \u001b[0;31m# 在 series 後加上 .values 屬性(attributes)，回傳 ndarray-like (numpy.array)\u001b[0m\u001b[0;34m\u001b[0m\u001b[0;34m\u001b[0m\u001b[0m\n\u001b[1;32m      5\u001b[0m \u001b[0mprint\u001b[0m\u001b[0;34m(\u001b[0m\u001b[0mboolean_vector\u001b[0m\u001b[0;34m.\u001b[0m\u001b[0mvalues\u001b[0m\u001b[0;34m)\u001b[0m\u001b[0;34m\u001b[0m\u001b[0m\n",
      "\u001b[0;31mNameError\u001b[0m: name 'boolean_vector' is not defined"
     ]
    }
   ],
   "source": [
    "# 觀察 3.1 boolean index 中 所使用的 boolean vector 其資料格式為 series\n",
    "print(type(boolean_vector))\n",
    "print()\n",
    "# 在 series 後加上 .values 屬性(attributes)，回傳 ndarray-like (numpy.array)\n",
    "print(boolean_vector.values)\n",
    "print(type(boolean_vector.values))"
   ]
  },
  {
   "cell_type": "markdown",
   "metadata": {
    "colab_type": "text",
    "id": "32DuErHRKYag"
   },
   "source": [
    "### numpy.array : 陣列，array 之中的每一個元素都必須是相同型態\n",
    "* 文件連結：[numpy.array](https://docs.scipy.org/doc/numpy-1.14.0/reference/generated/numpy.array.html)"
   ]
  },
  {
   "cell_type": "code",
   "execution_count": 11,
   "metadata": {
    "colab": {
     "autoexec": {
      "startup": false,
      "wait_interval": 0
     },
     "base_uri": "https://localhost:8080/",
     "height": 102
    },
    "colab_type": "code",
    "executionInfo": {
     "elapsed": 859,
     "status": "ok",
     "timestamp": 1530864452155,
     "user": {
      "displayName": "黃種平",
      "photoUrl": "//lh3.googleusercontent.com/-ay6h3dmyraY/AAAAAAAAAAI/AAAAAAAADhg/t8F2AGa00fc/s50-c-k-no/photo.jpg",
      "userId": "114874362450166068432"
     },
     "user_tz": -480
    },
    "id": "sKTK8rrq7JHI",
    "outputId": "1969b90f-dc75-4949-ef52-2ae5f130fee2"
   },
   "outputs": [
    {
     "name": "stdout",
     "output_type": "stream",
     "text": [
      "[1 2 3]\n",
      "<class 'numpy.ndarray'>\n",
      "=====================\n",
      "[ True False  True]\n",
      "[1 3]\n"
     ]
    }
   ],
   "source": [
    "# 建立一個 array\n",
    "arr = np.array([1,2,3])\n",
    "print(arr)\n",
    "print(type(arr))\n",
    "\n",
    "print('=====================')\n",
    "\n",
    "# boolean vertor 的用法在 array 上一樣可以使用\n",
    "print(arr != 2)\n",
    "print(arr[arr != 2])"
   ]
  },
  {
   "cell_type": "code",
   "execution_count": null,
   "metadata": {},
   "outputs": [],
   "source": []
  }
 ],
 "metadata": {
  "kernelspec": {
   "display_name": "Python 3",
   "language": "python",
   "name": "python3"
  },
  "language_info": {
   "codemirror_mode": {
    "name": "ipython",
    "version": 3
   },
   "file_extension": ".py",
   "mimetype": "text/x-python",
   "name": "python",
   "nbconvert_exporter": "python",
   "pygments_lexer": "ipython3",
   "version": "3.6.4"
  }
 },
 "nbformat": 4,
 "nbformat_minor": 2
}
