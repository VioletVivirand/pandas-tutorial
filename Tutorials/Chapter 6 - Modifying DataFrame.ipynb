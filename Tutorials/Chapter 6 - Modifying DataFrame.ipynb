{
 "cells": [
  {
   "cell_type": "code",
   "execution_count": 1,
   "metadata": {
    "colab": {
     "autoexec": {
      "startup": false,
      "wait_interval": 0
     }
    },
    "colab_type": "code",
    "id": "uWE64OO25RXi"
   },
   "outputs": [],
   "source": [
    "import os\n",
    "import numpy as np\n",
    "import pandas as pd\n",
    "import matplotlib.pyplot as plt"
   ]
  },
  {
   "cell_type": "code",
   "execution_count": null,
   "metadata": {
    "colab": {
     "autoexec": {
      "startup": false,
      "wait_interval": 0
     }
    },
    "colab_type": "code",
    "id": "nzeYG7whum_S"
   },
   "outputs": [],
   "source": [
    "pd.set_option('max_rows', 20)\n",
    "\n",
    "plt.style.use('default')\n",
    "plt.rcParams['figure.figsize'] = (12, 3)\n",
    "plt.rcParams['font.family'] = 'sans-serif'"
   ]
  },
  {
   "cell_type": "code",
   "execution_count": null,
   "metadata": {
    "colab": {
     "autoexec": {
      "startup": false,
      "wait_interval": 0
     }
    },
    "colab_type": "code",
    "id": "ftyvhZWsD4wC"
   },
   "outputs": [],
   "source": [
    "AQI_FILEPATH = os.path.join(os.curdir, 'data', 'aqi.csv')\n",
    "\n",
    "df = pd.read_csv(filepath_or_buffer=AQI_FILEPATH, parse_dates=['datetime'], index_col='datetime', na_values='NR')\n",
    "df_bak = df.copy()\n",
    "\n",
    "# 保留降雨量為 NR 值的資料\n",
    "df_withnr = pd.read_csv(filepath_or_buffer=AQI_FILEPATH, parse_dates=['datetime'], index_col='datetime')\n",
    "df_withnr_bak = df_withnr.copy()\n",
    "\n",
    "# 保留還未將 datetime 設為 index 的資料\n",
    "df_noindex = pd.read_csv(filepath_or_buffer=AQI_FILEPATH)\n",
    "df_noindex_bak = df_noindex.copy()\n",
    "\n",
    "# 讀取未處理過的原始資料\n",
    "AQI_ORIG_FILEPATH = os.path.join(os.curdir, 'data', 'aqi_original.csv')\n",
    "\n",
    "df_orig = pd.read_csv(AQI_ORIG_FILEPATH)\n",
    "df_orig_bak = df_orig.copy()\n",
    "\n",
    "# 讀取還未使用 pivot_table() 處理過的資料\n",
    "AQI_NOPIVOT_FILEPATH = os.path.join(os.curdir, 'data', 'aqi_nopivot.csv')\n",
    "\n",
    "df_nopivot = pd.read_csv(AQI_NOPIVOT_FILEPATH, na_values=['NR'])\n",
    "df_nopivot.replace(r'[-]?\\D*[.]?\\D*[#*x]+', np.nan, regex=True, inplace=True)\n",
    "df_nopivot.loc[:, 'value'] = df_nopivot.loc[:, 'value'].astype(np.float64)\n",
    "df_nopivot_bak = df_orig.copy()"
   ]
  },
  {
   "cell_type": "code",
   "execution_count": null,
   "metadata": {
    "colab": {
     "autoexec": {
      "startup": false,
      "wait_interval": 0
     },
     "base_uri": "https://localhost:8080/",
     "height": 425
    },
    "colab_type": "code",
    "executionInfo": {
     "elapsed": 858,
     "status": "ok",
     "timestamp": 1530864687923,
     "user": {
      "displayName": "黃種平",
      "photoUrl": "//lh3.googleusercontent.com/-ay6h3dmyraY/AAAAAAAAAAI/AAAAAAAADhg/t8F2AGa00fc/s50-c-k-no/photo.jpg",
      "userId": "114874362450166068432"
     },
     "user_tz": -480
    },
    "id": "gZD-m9TRlVtU",
    "outputId": "dd4566a5-40fc-46f6-aec6-63380a179fde"
   },
   "outputs": [],
   "source": [
    "df.head()"
   ]
  },
  {
   "cell_type": "markdown",
   "metadata": {
    "colab_type": "text",
    "id": "5f6_5I9XRcto"
   },
   "source": [
    "# 第 6 章：修改資料"
   ]
  },
  {
   "cell_type": "markdown",
   "metadata": {
    "colab_type": "text",
    "id": "I3H4x5J6nOPa"
   },
   "source": [
    "有時候僅僅執行運算或是篩選是不夠的。我們常常聽到「清理資料」的名詞，意思就是在分析以前，資料常常要經過大規模的整理，才能夠被順利地使用。\n",
    "\n",
    "這個章節將會介紹許多涵蓋整份資料結構改變的操作，例如轉換資料型別、轉置、或是將部分資料結合再運算、以及清除遺漏的值、也可能要進行補值。\n",
    "\n",
    "希望經過這些處理以後，可以讓各位要進行分析的數據更完整、也更準確！"
   ]
  },
  {
   "cell_type": "markdown",
   "metadata": {
    "colab_type": "text",
    "id": "QAcWOyIXFFwD"
   },
   "source": [
    "## 修正資料"
   ]
  },
  {
   "cell_type": "markdown",
   "metadata": {
    "colab_type": "text",
    "id": "S63KAv_X5YoS"
   },
   "source": [
    "### 利用 `.loc` 和 `.iloc` 在特定範圍修改資料"
   ]
  },
  {
   "cell_type": "markdown",
   "metadata": {
    "colab_type": "text",
    "id": "X8Crgkz8L4qV"
   },
   "source": [
    "`.loc`, `.iloc` attribute 除了可以取得指定範圍的資料之外，也可以用來編輯該範圍的資料內容。\n",
    "\n",
    "編輯多筆資料時，請注意資料的形狀是否與指定的範圍相同；而如果只對她們指定單一數值，將會把該範圍的數值都用單一數值取代。"
   ]
  },
  {
   "cell_type": "code",
   "execution_count": null,
   "metadata": {
    "colab": {
     "autoexec": {
      "startup": false,
      "wait_interval": 0
     },
     "base_uri": "https://localhost:8080/",
     "height": 221
    },
    "colab_type": "code",
    "executionInfo": {
     "elapsed": 844,
     "status": "ok",
     "timestamp": 1530864689110,
     "user": {
      "displayName": "黃種平",
      "photoUrl": "//lh3.googleusercontent.com/-ay6h3dmyraY/AAAAAAAAAAI/AAAAAAAADhg/t8F2AGa00fc/s50-c-k-no/photo.jpg",
      "userId": "114874362450166068432"
     },
     "user_tz": -480
    },
    "id": "J-Dvxnaa6hAY",
    "outputId": "3c4be694-b774-4384-cbe7-03566836a78e"
   },
   "outputs": [],
   "source": [
    "# 觀察降雨量 (column label: 'RAINFALL') 中，無降雨量資料的情況\n",
    "df.loc[:, 'RAINFALL'].head(10)"
   ]
  },
  {
   "cell_type": "code",
   "execution_count": null,
   "metadata": {
    "colab": {
     "autoexec": {
      "startup": false,
      "wait_interval": 0
     },
     "base_uri": "https://localhost:8080/",
     "height": 221
    },
    "colab_type": "code",
    "executionInfo": {
     "elapsed": 848,
     "status": "ok",
     "timestamp": 1530864690388,
     "user": {
      "displayName": "黃種平",
      "photoUrl": "//lh3.googleusercontent.com/-ay6h3dmyraY/AAAAAAAAAAI/AAAAAAAADhg/t8F2AGa00fc/s50-c-k-no/photo.jpg",
      "userId": "114874362450166068432"
     },
     "user_tz": -480
    },
    "id": "0ZWCGhXmB6iJ",
    "outputId": "eb13872c-682b-427d-ba1b-21a39a8b484e"
   },
   "outputs": [],
   "source": [
    "# 例：利用先前介紹的 isna() 來為遺漏值補值\n",
    "rainfall_isna = df.loc[:, 'RAINFALL'].isna()\n",
    "df.loc[rainfall_isna, :] = 0\n",
    "display(df.loc[:, 'RAINFALL'].head(10))\n",
    "\n",
    "# 當然，這了例子使用這種做法不夠直覺\n",
    "# 我們之後還會講到 `.fillna()` method，更好用！"
   ]
  },
  {
   "cell_type": "code",
   "execution_count": null,
   "metadata": {},
   "outputs": [],
   "source": [
    "# 還原資料\n",
    "df = df_bak.copy()"
   ]
  },
  {
   "cell_type": "markdown",
   "metadata": {
    "colab_type": "text",
    "id": "qgc7y2fsa3H4"
   },
   "source": [
    "### `.replace()`：替換數值\n",
    "\n",
    "`.replace()` method 的用法，除了單純將固定的數值或文字替換掉以外，更進階且快速的用法則可以使用正規表示式來建立取代的條件，礙於篇幅無法介紹，請自行參閱正規表示式的相關文章。\n",
    "\n",
    "* 常用 Parameters：\n",
    "    1. `inplace`：是否選擇直接修改資料而不回傳處理結果，預設為 `False`\n",
    "* 參考文件：\n",
    "    * [pandas.DataFrame.replace](https://pandas.pydata.org/pandas-docs/stable/generated/pandas.DataFrame.replace.html)\n",
    "    * [pandas.Series.replace](https://pandas.pydata.org/pandas-docs/stable/generated/pandas.Series.replace.html)\n",
    "    * [Wikipedia | 正規表示式](https://zh.wikipedia.org/zh-tw/正規表示式)\n"
   ]
  },
  {
   "cell_type": "code",
   "execution_count": null,
   "metadata": {
    "colab": {
     "autoexec": {
      "startup": false,
      "wait_interval": 0
     },
     "base_uri": "https://localhost:8080/",
     "height": 221
    },
    "colab_type": "code",
    "executionInfo": {
     "elapsed": 851,
     "status": "ok",
     "timestamp": 1530864696552,
     "user": {
      "displayName": "黃種平",
      "photoUrl": "//lh3.googleusercontent.com/-ay6h3dmyraY/AAAAAAAAAAI/AAAAAAAADhg/t8F2AGa00fc/s50-c-k-no/photo.jpg",
      "userId": "114874362450166068432"
     },
     "user_tz": -480
    },
    "id": "azVo0gRRDRvU",
    "outputId": "5dc44a98-38db-44b4-b032-f0d33378045e"
   },
   "outputs": [],
   "source": [
    "# 觀察降雨量 (column label: 'RAINFALL') 中，\n",
    "# 無降雨量資料 (NR) 的情況\n",
    "df_withnr.loc[:, 'RAINFALL'].head(10)"
   ]
  },
  {
   "cell_type": "code",
   "execution_count": null,
   "metadata": {
    "colab": {
     "autoexec": {
      "startup": false,
      "wait_interval": 0
     },
     "base_uri": "https://localhost:8080/",
     "height": 221
    },
    "colab_type": "code",
    "executionInfo": {
     "elapsed": 982,
     "status": "ok",
     "timestamp": 1530864697817,
     "user": {
      "displayName": "黃種平",
      "photoUrl": "//lh3.googleusercontent.com/-ay6h3dmyraY/AAAAAAAAAAI/AAAAAAAADhg/t8F2AGa00fc/s50-c-k-no/photo.jpg",
      "userId": "114874362450166068432"
     },
     "user_tz": -480
    },
    "id": "AATl_Hb8r6T4",
    "outputId": "4cf1c79f-7ebf-4057-b71e-0f0881d1aa0a"
   },
   "outputs": [],
   "source": [
    "# 將降雨量數值為 NR 的取代成 0\n",
    "df_withnr.replace({'RAINFALL': {'NR': 0}}, inplace=True)\n",
    "display(df_withnr.loc[:, 'RAINFALL'].head(10))"
   ]
  },
  {
   "cell_type": "code",
   "execution_count": null,
   "metadata": {},
   "outputs": [],
   "source": [
    "# 還原資料\n",
    "df_withnr = df_withnr_bak.copy()"
   ]
  },
  {
   "cell_type": "markdown",
   "metadata": {
    "colab_type": "text",
    "id": "zkdQUUVpJGJC"
   },
   "source": [
    "### `.rename()`：編輯 Row 或 Column 的 Label"
   ]
  },
  {
   "cell_type": "markdown",
   "metadata": {
    "colab_type": "text",
    "id": "VQsSRAFe8zV7"
   },
   "source": [
    "如果 label 不易辨識或是不如預期時，之後操作時出錯的機率可能會上升，像是取錯 column 放入其他函式的問題，造成結果也是錯的。為了避免這種情況發生，事前將 label 準備成容易一眼辨識的名稱也是很重要的。\n",
    "\n",
    "取代規則的格式可以是一個 `dict` 物件，他們的 key 跟 value 則分別是**被取代的 label** 跟**取代之後的 label**；也可以放入一個 function。\n",
    "\n",
    "參考文件：\n",
    "* [pandas.DataFrame.rename](https://pandas.pydata.org/pandas-docs/stable/generated/pandas.DataFrame.rename.html#pandas.DataFrame.rename)\n",
    "* [pandas.Series.rename](https://pandas.pydata.org/pandas-docs/stable/generated/pandas.Series.rename.html)\n",
    "    "
   ]
  },
  {
   "cell_type": "code",
   "execution_count": null,
   "metadata": {
    "colab": {
     "autoexec": {
      "startup": false,
      "wait_interval": 0
     },
     "base_uri": "https://localhost:8080/",
     "height": 85
    },
    "colab_type": "code",
    "executionInfo": {
     "elapsed": 834,
     "status": "ok",
     "timestamp": 1530864698953,
     "user": {
      "displayName": "黃種平",
      "photoUrl": "//lh3.googleusercontent.com/-ay6h3dmyraY/AAAAAAAAAAI/AAAAAAAADhg/t8F2AGa00fc/s50-c-k-no/photo.jpg",
      "userId": "114874362450166068432"
     },
     "user_tz": -480
    },
    "id": "Cof6epkrJJkN",
    "outputId": "ec9c0f51-fb56-4fa9-96a9-abc4f9df92c4"
   },
   "outputs": [],
   "source": [
    "# 示範使用 dict (Dictionary) 逐一修改\n",
    "# 例：將 columns label 為 'AMB_TEMP' 以及 'WIND_SPEED'\n",
    "# 改成小寫英文字母，且將 '_' 改成 ' '\n",
    "df.rename(columns={'AMB_TEMP':'amb temp', 'WIND_SPEED':'wind speed'}, inplace=True)\n",
    "display(df.columns)"
   ]
  },
  {
   "cell_type": "code",
   "execution_count": null,
   "metadata": {},
   "outputs": [],
   "source": [
    "# 還原資料\n",
    "df = df_bak.copy()"
   ]
  },
  {
   "cell_type": "code",
   "execution_count": null,
   "metadata": {
    "colab": {
     "autoexec": {
      "startup": false,
      "wait_interval": 0
     },
     "base_uri": "https://localhost:8080/",
     "height": 85
    },
    "colab_type": "code",
    "executionInfo": {
     "elapsed": 990,
     "status": "ok",
     "timestamp": 1530864700237,
     "user": {
      "displayName": "黃種平",
      "photoUrl": "//lh3.googleusercontent.com/-ay6h3dmyraY/AAAAAAAAAAI/AAAAAAAADhg/t8F2AGa00fc/s50-c-k-no/photo.jpg",
      "userId": "114874362450166068432"
     },
     "user_tz": -480
    },
    "id": "LUo-P1vOes-k",
    "outputId": "fb956e70-7f6e-4271-b67d-85db64bbaeef"
   },
   "outputs": [],
   "source": [
    "# 示範使用 lambda function\n",
    "# 例：將所有 columns label 改成小寫英文字母，且將 '_' 改成 ' '\n",
    "df.rename(columns=lambda x: x.lower().replace('_', ' '), inplace=True)\n",
    "display(df.columns)"
   ]
  },
  {
   "cell_type": "code",
   "execution_count": null,
   "metadata": {},
   "outputs": [],
   "source": [
    "# 還原資料\n",
    "df = df_bak.copy()"
   ]
  },
  {
   "cell_type": "markdown",
   "metadata": {
    "colab_type": "text",
    "id": "oc5VQmMN9BDF"
   },
   "source": [
    "### `.sort_values()`：以數值大小排序"
   ]
  },
  {
   "cell_type": "markdown",
   "metadata": {
    "colab_type": "text",
    "id": "zRgXGV2O9dS_"
   },
   "source": [
    "適當的將資料給排序也有助於觀察資料的樣態。這裡先介紹的是依照數值大小來排序的 method，往後還會介紹到針對 index (row index) 來排序的 method。\n",
    "\n",
    "* 常用 Parameters（以 DataFrame 為例）：\n",
    "    1. `axis`：操作的座標軸\n",
    "        * `0`：將 dataframe 以 row 方向排序\n",
    "        * `1`：將 dataframe 以 column 方向排序\n",
    "    1. `by`：設定排序參照的對象\n",
    "        * `str`：以某一個 columns label 或 row label 排序\n",
    "        * `list`：依照順序以多個 columns label 或 row label 排序\n",
    "    1. `ascending`：是否使用升冪排序，預設為 `True`\n",
    "    1. `na_position`：資料中有 `NaN` 數值時，指定排序後要將 `NaN` 放置於開頭或結尾，預設為 `last`\n",
    "        * `first`：把 NaN 放在開頭\n",
    "        * `last`：把 NaN 放在最後\n",
    "    1. `inplace`：是否選擇直接修改資料而不回傳處理結果，預設為 `False`\n",
    "* 參考文件：\n",
    "    * [pandas.DataFrame.sort_values](https://pandas.pydata.org/pandas-docs/stable/generated/pandas.DataFrame.sort_values.html)\n",
    "    * [pandas.Series.sort_values](https://pandas.pydata.org/pandas-docs/stable/generated/pandas.Series.sort_values.html)\n"
   ]
  },
  {
   "cell_type": "code",
   "execution_count": null,
   "metadata": {
    "colab": {
     "autoexec": {
      "startup": false,
      "wait_interval": 0
     },
     "base_uri": "https://localhost:8080/",
     "height": 221
    },
    "colab_type": "code",
    "executionInfo": {
     "elapsed": 1007,
     "status": "ok",
     "timestamp": 1530864701583,
     "user": {
      "displayName": "黃種平",
      "photoUrl": "//lh3.googleusercontent.com/-ay6h3dmyraY/AAAAAAAAAAI/AAAAAAAADhg/t8F2AGa00fc/s50-c-k-no/photo.jpg",
      "userId": "114874362450166068432"
     },
     "user_tz": -480
    },
    "id": "7_wi8WSdJ1A_",
    "outputId": "d69e4685-b991-4ff0-a5cc-fef0f62f752e"
   },
   "outputs": [],
   "source": [
    "# 將資料以一氧化碳 (columns label: 'CO') 由小到大排序，且 NaN 放在開頭\n",
    "df.sort_values(axis=0, by='CO', ascending=True, na_position='first', inplace=True)\n",
    "display(df.loc[:, 'CO'].tail(10))"
   ]
  },
  {
   "cell_type": "code",
   "execution_count": null,
   "metadata": {},
   "outputs": [],
   "source": [
    "# 還原資料\n",
    "df = df_bak.copy()"
   ]
  },
  {
   "cell_type": "code",
   "execution_count": null,
   "metadata": {
    "colab": {
     "autoexec": {
      "startup": false,
      "wait_interval": 0
     },
     "base_uri": "https://localhost:8080/",
     "height": 221
    },
    "colab_type": "code",
    "executionInfo": {
     "elapsed": 835,
     "status": "ok",
     "timestamp": 1530864702689,
     "user": {
      "displayName": "黃種平",
      "photoUrl": "//lh3.googleusercontent.com/-ay6h3dmyraY/AAAAAAAAAAI/AAAAAAAADhg/t8F2AGa00fc/s50-c-k-no/photo.jpg",
      "userId": "114874362450166068432"
     },
     "user_tz": -480
    },
    "id": "68NcSepXWdKM",
    "outputId": "69f5ddd9-87b6-442c-bdc1-cd1fd08d0fcb"
   },
   "outputs": [],
   "source": [
    "# Series 也可以調用 sort_values()\n",
    "df.loc[:, 'CO'].sort_values(ascending=False).head(10)"
   ]
  },
  {
   "cell_type": "markdown",
   "metadata": {
    "colab_type": "text",
    "id": "Afk2L10i85Pt"
   },
   "source": [
    "### `.sort_index()`：以 Index Label 大小排序"
   ]
  },
  {
   "cell_type": "markdown",
   "metadata": {
    "colab_type": "text",
    "id": "gNFpCMIa8vS-"
   },
   "source": [
    "比較常見的情況在於使用 `datetime` 物件當作 row index 時，可以讓資料依照時間順序來排列。\n",
    "\n",
    "* 常用 Parameters : \n",
    "    1. `axis`：操作的座標軸\n",
    "        * `0`：將 dataframe 以 row 方向排序\n",
    "        * `1`：將 dataframe 以 column 方向排序\n",
    "    1. `ascending`：是否使用升冪排序，預設為 `True`\n",
    "    1. `inplace`：是否選擇直接修改資料而不回傳處理結果，預設為 `False`\n",
    "* 參考文件：\n",
    "    * [pandas.DataFrame.sort_index](https://pandas.pydata.org/pandas-docs/stable/generated/pandas.DataFrame.sort_index.html)\n",
    "    * [pandas.Series.sort_index](https://pandas.pydata.org/pandas-docs/stable/generated/pandas.Series.sort_values.html)\n"
   ]
  },
  {
   "cell_type": "code",
   "execution_count": null,
   "metadata": {
    "colab": {
     "autoexec": {
      "startup": false,
      "wait_interval": 0
     },
     "base_uri": "https://localhost:8080/",
     "height": 425
    },
    "colab_type": "code",
    "executionInfo": {
     "elapsed": 957,
     "status": "ok",
     "timestamp": 1530864704095,
     "user": {
      "displayName": "黃種平",
      "photoUrl": "//lh3.googleusercontent.com/-ay6h3dmyraY/AAAAAAAAAAI/AAAAAAAADhg/t8F2AGa00fc/s50-c-k-no/photo.jpg",
      "userId": "114874362450166068432"
     },
     "user_tz": -480
    },
    "id": "4g35gqVUHhgg",
    "outputId": "2c1ce1ba-a974-480b-9a0f-e18be6730cc3"
   },
   "outputs": [],
   "source": [
    "# 將資料以 row index 降冪排序\n",
    "df.sort_index(ascending=False, inplace=True)\n",
    "display(df.head())"
   ]
  },
  {
   "cell_type": "code",
   "execution_count": null,
   "metadata": {},
   "outputs": [],
   "source": [
    "# 還原資料\n",
    "df = df_bak.copy()"
   ]
  },
  {
   "cell_type": "code",
   "execution_count": null,
   "metadata": {
    "colab": {
     "autoexec": {
      "startup": false,
      "wait_interval": 0
     },
     "base_uri": "https://localhost:8080/",
     "height": 425
    },
    "colab_type": "code",
    "executionInfo": {
     "elapsed": 1003,
     "status": "ok",
     "timestamp": 1530864706237,
     "user": {
      "displayName": "黃種平",
      "photoUrl": "//lh3.googleusercontent.com/-ay6h3dmyraY/AAAAAAAAAAI/AAAAAAAADhg/t8F2AGa00fc/s50-c-k-no/photo.jpg",
      "userId": "114874362450166068432"
     },
     "user_tz": -480
    },
    "id": "AtzgbnkThlNC",
    "outputId": "863eed9d-3787-4589-ae5a-66402df445af"
   },
   "outputs": [],
   "source": [
    "# 將 columns index 升冪（字母 A 到 Z 排序）\n",
    "df.sort_index(axis=1, inplace=True, ascending=True)\n",
    "display(df.head())"
   ]
  },
  {
   "cell_type": "code",
   "execution_count": null,
   "metadata": {},
   "outputs": [],
   "source": [
    "# 還原資料\n",
    "df = df_bak.copy()"
   ]
  },
  {
   "cell_type": "markdown",
   "metadata": {
    "colab_type": "text",
    "id": "-TMiiDoKJJrm"
   },
   "source": [
    "### `.reset_index()`：重設 Index Label "
   ]
  },
  {
   "cell_type": "markdown",
   "metadata": {
    "colab_type": "text",
    "id": "M9nO1yYj9qCP"
   },
   "source": [
    "預設會將 row index 給重設為從 0 開始的數列，在常見的使用情境在資料列有修改的情況，例如用 `.drop()` method 刪除部分的 row 以後。\n",
    "\n",
    "* 常用 Parameters：\n",
    "    1. `drop`：重設 index 之後是否刪除被取代的 index\n",
    "        * `True`：刪除原始的 row index\n",
    "        * `False`：保留原始的 row index\n",
    "    1. `inplace`：是否選擇直接修改資料而不回傳處理結果，預設為 `False`\n",
    "* 參考文件：\n",
    "    * [pandas.DataFrame.reset_index](https://pandas.pydata.org/pandas-docs/stable/generated/pandas.DataFrame.reset_index.html)\n",
    "    * [pandas.Series.reset_index](https://pandas.pydata.org/pandas-docs/stable/generated/pandas.Series.reset_index.html)"
   ]
  },
  {
   "cell_type": "code",
   "execution_count": null,
   "metadata": {
    "colab": {
     "autoexec": {
      "startup": false,
      "wait_interval": 0
     },
     "base_uri": "https://localhost:8080/",
     "height": 425
    },
    "colab_type": "code",
    "executionInfo": {
     "elapsed": 1035,
     "status": "ok",
     "timestamp": 1530864707589,
     "user": {
      "displayName": "黃種平",
      "photoUrl": "//lh3.googleusercontent.com/-ay6h3dmyraY/AAAAAAAAAAI/AAAAAAAADhg/t8F2AGa00fc/s50-c-k-no/photo.jpg",
      "userId": "114874362450166068432"
     },
     "user_tz": -480
    },
    "id": "kE53BgkDXjYJ",
    "outputId": "868979be-6000-406c-bb29-20e16812d995"
   },
   "outputs": [],
   "source": [
    "# 觀察一下原本的 index label\n",
    "df.head()"
   ]
  },
  {
   "cell_type": "code",
   "execution_count": null,
   "metadata": {
    "colab": {
     "autoexec": {
      "startup": false,
      "wait_interval": 0
     },
     "base_uri": "https://localhost:8080/",
     "height": 394
    },
    "colab_type": "code",
    "executionInfo": {
     "elapsed": 1225,
     "status": "ok",
     "timestamp": 1530864709059,
     "user": {
      "displayName": "黃種平",
      "photoUrl": "//lh3.googleusercontent.com/-ay6h3dmyraY/AAAAAAAAAAI/AAAAAAAADhg/t8F2AGa00fc/s50-c-k-no/photo.jpg",
      "userId": "114874362450166068432"
     },
     "user_tz": -480
    },
    "id": "OlLhf9fQX0QN",
    "outputId": "fd39ee27-0b7c-4400-9cfe-c3fa84f7c6de"
   },
   "outputs": [],
   "source": [
    "# 重設 index label 且保留原本的 index label 作為一個 column\n",
    "df.reset_index(drop=False).head()"
   ]
  },
  {
   "cell_type": "code",
   "execution_count": null,
   "metadata": {
    "colab": {
     "autoexec": {
      "startup": false,
      "wait_interval": 0
     },
     "base_uri": "https://localhost:8080/",
     "height": 224
    },
    "colab_type": "code",
    "executionInfo": {
     "elapsed": 1155,
     "status": "ok",
     "timestamp": 1530864710498,
     "user": {
      "displayName": "黃種平",
      "photoUrl": "//lh3.googleusercontent.com/-ay6h3dmyraY/AAAAAAAAAAI/AAAAAAAADhg/t8F2AGa00fc/s50-c-k-no/photo.jpg",
      "userId": "114874362450166068432"
     },
     "user_tz": -480
    },
    "id": "1659vd3AJKQI",
    "outputId": "e0a60ffa-562c-46da-9a6e-c1e2c1ad5a86"
   },
   "outputs": [],
   "source": [
    "# 重設 index label 且\"不\"保留原本的 index label\n",
    "df.reset_index(drop=True).head()"
   ]
  },
  {
   "cell_type": "markdown",
   "metadata": {
    "colab_type": "text",
    "id": "s7mZaDXO9rie"
   },
   "source": [
    "### `.set_index()`：將某個 Column (Column Labels) 設為 Index (Row Labels)"
   ]
  },
  {
   "cell_type": "markdown",
   "metadata": {
    "colab_type": "text",
    "id": "XlPzqi2q9rLJ"
   },
   "source": [
    "調用 `set_index()` method 以將目前的 index (row labels) 用某個 column 的內容 (column labels) 來取代，常見的情境可以將帶有 `datetime` 物件的 column 給設為 index。\n",
    "\n",
    "參考文件：[pandas.DataFrame.set_index](https://pandas.pydata.org/pandas-docs/stable/generated/pandas.DataFrame.set_index.html)\n",
    "\n",
    "    "
   ]
  },
  {
   "cell_type": "code",
   "execution_count": null,
   "metadata": {
    "colab": {
     "autoexec": {
      "startup": false,
      "wait_interval": 0
     },
     "base_uri": "https://localhost:8080/",
     "height": 425
    },
    "colab_type": "code",
    "executionInfo": {
     "elapsed": 1534,
     "status": "ok",
     "timestamp": 1530864712308,
     "user": {
      "displayName": "黃種平",
      "photoUrl": "//lh3.googleusercontent.com/-ay6h3dmyraY/AAAAAAAAAAI/AAAAAAAADhg/t8F2AGa00fc/s50-c-k-no/photo.jpg",
      "userId": "114874362450166068432"
     },
     "user_tz": -480
    },
    "id": "Qnlvn7fFBXWA",
    "outputId": "d0c35b84-fae1-4180-9e99-418687599e94"
   },
   "outputs": [],
   "source": [
    "# set_index\n",
    "# 將 日期 設定為 index\n",
    "df_noindex.set_index('datetime', inplace=True)\n",
    "display(df_noindex.head())"
   ]
  },
  {
   "cell_type": "code",
   "execution_count": null,
   "metadata": {},
   "outputs": [],
   "source": [
    "# 還原資料\n",
    "df_noindex = df_noindex_bak.copy()"
   ]
  },
  {
   "cell_type": "markdown",
   "metadata": {
    "colab_type": "text",
    "id": "gQm9jm4SJ1ka"
   },
   "source": [
    "### `.drop()`：刪除特定的 row 或 column\n"
   ]
  },
  {
   "cell_type": "markdown",
   "metadata": {
    "colab_type": "text",
    "id": "vb9xIoE3971f"
   },
   "source": [
    "調用 `drop()` method 可以用來刪除指定的 row/column。\n",
    "\n",
    "使用時，可以在 parameter `labels` 指定要刪除的 index (row label) 或是 column (column label)，或是個別在 parameter `index` 或 `columns` 指定要刪除的 label。\n",
    "\n",
    "* 文件連結：\n",
    "    * [pandas.DataFrame.drop](https://pandas.pydata.org/pandas-docs/stable/generated/pandas.DataFrame.drop.html)\n",
    "    * [pandas.Series.drop](https://pandas.pydata.org/pandas-docs/stable/generated/pandas.Series.drop.html)\n",
    "\n"
   ]
  },
  {
   "cell_type": "code",
   "execution_count": null,
   "metadata": {
    "colab": {
     "autoexec": {
      "startup": false,
      "wait_interval": 0
     },
     "base_uri": "https://localhost:8080/",
     "height": 170
    },
    "colab_type": "code",
    "executionInfo": {
     "elapsed": 1186,
     "status": "ok",
     "timestamp": 1530864714247,
     "user": {
      "displayName": "黃種平",
      "photoUrl": "//lh3.googleusercontent.com/-ay6h3dmyraY/AAAAAAAAAAI/AAAAAAAADhg/t8F2AGa00fc/s50-c-k-no/photo.jpg",
      "userId": "114874362450166068432"
     },
     "user_tz": -480
    },
    "id": "APAKRbYoYw-0",
    "outputId": "8ee80209-4aca-438e-bf4b-d23471c042ad"
   },
   "outputs": [],
   "source": [
    "# 先使用 describe 觀察非甲烷碳氫化合物 (column label: 'NMHC') 的資料分佈\n",
    "df['NMHC'].describe()"
   ]
  },
  {
   "cell_type": "code",
   "execution_count": null,
   "metadata": {
    "colab": {
     "autoexec": {
      "startup": false,
      "wait_interval": 0
     },
     "base_uri": "https://localhost:8080/",
     "height": 170
    },
    "colab_type": "code",
    "executionInfo": {
     "elapsed": 1336,
     "status": "ok",
     "timestamp": 1530864716197,
     "user": {
      "displayName": "黃種平",
      "photoUrl": "//lh3.googleusercontent.com/-ay6h3dmyraY/AAAAAAAAAAI/AAAAAAAADhg/t8F2AGa00fc/s50-c-k-no/photo.jpg",
      "userId": "114874362450166068432"
     },
     "user_tz": -480
    },
    "id": "D3EZVEgfmcxZ",
    "outputId": "44eb777e-2b06-4c72-813f-a82a489efb71"
   },
   "outputs": [],
   "source": [
    "# 例：刪除非甲烷碳氫化合物為負值的資料\n",
    "# 使用 boolean index 取得非甲烷碳氫化合物 為 0 的 index (row label)\n",
    "nmhc_iszero_indexes = df.loc[df['NMHC'] == 0, :].index\n",
    "\n",
    "# 使用 drop 將這些 index (row label) 的資料刪除\n",
    "# 再觀察資料分佈\n",
    "df.drop(index=nmhc_iszero_indexes)['NMHC'].describe()"
   ]
  },
  {
   "cell_type": "code",
   "execution_count": null,
   "metadata": {},
   "outputs": [],
   "source": [
    "# 還原資料\n",
    "df = df_bak.copy()"
   ]
  },
  {
   "cell_type": "markdown",
   "metadata": {
    "colab_type": "text",
    "id": "N8-aZ2Vd-Thp"
   },
   "source": [
    "### `.dropna()`：刪除遺漏值 (NA)"
   ]
  },
  {
   "cell_type": "markdown",
   "metadata": {
    "colab_type": "text",
    "id": "9BakDpY7-S7s"
   },
   "source": [
    "將資料中帶有遺漏值的部分給刪除。\n",
    "\n",
    "* 常用 Parameters：\n",
    "    1. `axis`：操作的座標軸\n",
    "        * `0`：將 dataframe 以 row 方向排序\n",
    "        * `1`：將 dataframe 以 column 方向排序\n",
    "    1. `how`：刪除資料的策略，預設為 `any`\n",
    "        * `all`：若此 column 或 row 的每一個數值全部都是 `NaN`，才刪除此 column 或 index\n",
    "        * `any`：若此 column 或 row 的只要有任何數值為 `NaN`，就刪除此 column  或 index\n",
    "* 參考文件：\n",
    "    * [pandas.DataFrame.dropna](https://pandas.pydata.org/pandas-docs/stable/generated/pandas.DataFrame.dropna.html)\n",
    "    * [pandas.Series.dropna](https://pandas.pydata.org/pandas-docs/stable/generated/pandas.Series.dropna.html)"
   ]
  },
  {
   "cell_type": "code",
   "execution_count": null,
   "metadata": {
    "colab": {
     "autoexec": {
      "startup": false,
      "wait_interval": 0
     },
     "base_uri": "https://localhost:8080/",
     "height": 173
    },
    "colab_type": "code",
    "executionInfo": {
     "elapsed": 1385,
     "status": "ok",
     "timestamp": 1530864719098,
     "user": {
      "displayName": "黃種平",
      "photoUrl": "//lh3.googleusercontent.com/-ay6h3dmyraY/AAAAAAAAAAI/AAAAAAAADhg/t8F2AGa00fc/s50-c-k-no/photo.jpg",
      "userId": "114874362450166068432"
     },
     "user_tz": -480
    },
    "id": "Kh5Xwk_5Z523",
    "outputId": "f7529a08-9038-4ee9-a008-21d60332c8f7"
   },
   "outputs": [],
   "source": [
    "# 先製作一個比較小的 DataFrame 來展示功能\n",
    "tmp_dropna = pd.DataFrame({\"A\" : [10, 10, 11, np.nan], \n",
    "                           \"B\" : [5.5, 5.5, np.nan, 10.2], \n",
    "                           \"C\" : [np.nan, 200, 230, 260],\n",
    "                           \"D\" : [10, 5.5, 11.0, 10.2]})\n",
    "tmp_dropna"
   ]
  },
  {
   "cell_type": "code",
   "execution_count": null,
   "metadata": {
    "colab": {
     "autoexec": {
      "startup": false,
      "wait_interval": 0
     },
     "base_uri": "https://localhost:8080/",
     "height": 80
    },
    "colab_type": "code",
    "executionInfo": {
     "elapsed": 1440,
     "status": "ok",
     "timestamp": 1530864721353,
     "user": {
      "displayName": "黃種平",
      "photoUrl": "//lh3.googleusercontent.com/-ay6h3dmyraY/AAAAAAAAAAI/AAAAAAAADhg/t8F2AGa00fc/s50-c-k-no/photo.jpg",
      "userId": "114874362450166068432"
     },
     "user_tz": -480
    },
    "id": "AYZk2R3fmeWZ",
    "outputId": "8dc38256-733c-459f-d7b9-ca1d5c9f140c"
   },
   "outputs": [],
   "source": [
    "# 例：若 row 出現 NaN，則刪除此筆資料\n",
    "tmp_dropna.dropna(axis=0, how='any')"
   ]
  },
  {
   "cell_type": "code",
   "execution_count": null,
   "metadata": {
    "colab": {
     "autoexec": {
      "startup": false,
      "wait_interval": 0
     },
     "base_uri": "https://localhost:8080/",
     "height": 173
    },
    "colab_type": "code",
    "executionInfo": {
     "elapsed": 1438,
     "status": "ok",
     "timestamp": 1530864723548,
     "user": {
      "displayName": "黃種平",
      "photoUrl": "//lh3.googleusercontent.com/-ay6h3dmyraY/AAAAAAAAAAI/AAAAAAAADhg/t8F2AGa00fc/s50-c-k-no/photo.jpg",
      "userId": "114874362450166068432"
     },
     "user_tz": -480
    },
    "id": "8fAJXuHlci0X",
    "outputId": "1e10a6a6-d18e-4efe-e905-4b3c01656de8"
   },
   "outputs": [],
   "source": [
    "# 若 column 出現 NaN 則刪除此筆資料\n",
    "tmp_dropna.dropna(axis=1, how='any')"
   ]
  },
  {
   "cell_type": "markdown",
   "metadata": {
    "colab_type": "text",
    "id": "l3Vr13g2a48x"
   },
   "source": [
    "### `.fillna()`：為遺漏值補上數值\n",
    "\n",
    "`.fillna()` method 可以為資料提供一個統一的策略，產生數值來替代遺漏值。\n",
    "    \n",
    "\n",
    "* 常用 Parameters：\n",
    "    1. `value`：給定一個值（可以是 Series，Dataframe，dict）去填補遺失值，例如 `0`\n",
    "    1. `method`：設定補值策略\n",
    "        * `bfill` / `backfill`：由後往前補值\n",
    "        * `pad` / `ffill`：由前往後補值\n",
    "    1. `inplace`：是否選擇直接修改資料而不回傳處理結果，預設為 `False`\n",
    "* 參考文件：\n",
    "    * [pandas.DataFrame.fillna](https://pandas.pydata.org/pandas-docs/stable/generated/pandas.DataFrame.fillna.html)\n",
    "    * [pandas.Series.fillna](https://pandas.pydata.org/pandas-docs/stable/generated/pandas.Series.fillna.html)\n",
    "    * [10 MInutes to pandas | Missing Data](https://pandas.pydata.org/pandas-docs/stable/10min.html#missing-data)\n",
    "    * [Working with missing data | Cleaning / filling missing data | Filling missing values: fillna](https://pandas.pydata.org/pandas-docs/stable/missing_data.html#filling-missing-values-fillna)\n"
   ]
  },
  {
   "cell_type": "markdown",
   "metadata": {
    "colab_type": "text",
    "id": "o442sX0HQGsM"
   },
   "source": [
    "> 備註—有關遺漏值的兩三事：\n",
    ">\n",
    "> 所謂的**遺漏值，在文件中常稱為 NA (Not available)**，包含 `None`  或  `NaN` (`numpy.NaN`)，\n",
    ">\n",
    "> 但是 `' '`（空白字元）或 `numpy.inf`（無限大數）則不屬於 **NA**。"
   ]
  },
  {
   "cell_type": "code",
   "execution_count": null,
   "metadata": {
    "colab": {
     "autoexec": {
      "startup": false,
      "wait_interval": 0
     },
     "base_uri": "https://localhost:8080/",
     "height": 235
    },
    "colab_type": "code",
    "executionInfo": {
     "elapsed": 825,
     "status": "ok",
     "timestamp": 1530864691718,
     "user": {
      "displayName": "黃種平",
      "photoUrl": "//lh3.googleusercontent.com/-ay6h3dmyraY/AAAAAAAAAAI/AAAAAAAADhg/t8F2AGa00fc/s50-c-k-no/photo.jpg",
      "userId": "114874362450166068432"
     },
     "user_tz": -480
    },
    "id": "ITIh7sdvJGBt",
    "outputId": "fe9a4ab5-825b-4c23-c844-761957703213"
   },
   "outputs": [],
   "source": [
    "# 先製作一個比較小的 DataFrame 來展示功能\n",
    "tmp_fillna = pd.DataFrame({'A' : pd.Series([1, np.nan, 2, np.nan, np.nan, 3]),\n",
    "                           'B' : pd.Series([np.nan, np.nan, 200, np.nan, np.nan, 300])})\n",
    "tmp_fillna"
   ]
  },
  {
   "cell_type": "code",
   "execution_count": null,
   "metadata": {
    "colab": {
     "autoexec": {
      "startup": false,
      "wait_interval": 0
     },
     "base_uri": "https://localhost:8080/",
     "height": 235
    },
    "colab_type": "code",
    "executionInfo": {
     "elapsed": 827,
     "status": "ok",
     "timestamp": 1530864692813,
     "user": {
      "displayName": "黃種平",
      "photoUrl": "//lh3.googleusercontent.com/-ay6h3dmyraY/AAAAAAAAAAI/AAAAAAAADhg/t8F2AGa00fc/s50-c-k-no/photo.jpg",
      "userId": "114874362450166068432"
     },
     "user_tz": -480
    },
    "id": "sd7KK8EF0JKO",
    "outputId": "aeee0ed4-5aa1-4b8d-8f64-b7c629dc5891"
   },
   "outputs": [],
   "source": [
    "# 補值方法 1: 設定 value 為特定值\n",
    "# 例：以該 column 的平均值來補值\n",
    "tmp_fillna.fillna(tmp_fillna.mean())"
   ]
  },
  {
   "cell_type": "code",
   "execution_count": null,
   "metadata": {
    "colab": {
     "autoexec": {
      "startup": false,
      "wait_interval": 0
     },
     "base_uri": "https://localhost:8080/",
     "height": 235
    },
    "colab_type": "code",
    "executionInfo": {
     "elapsed": 839,
     "status": "ok",
     "timestamp": 1530864693945,
     "user": {
      "displayName": "黃種平",
      "photoUrl": "//lh3.googleusercontent.com/-ay6h3dmyraY/AAAAAAAAAAI/AAAAAAAADhg/t8F2AGa00fc/s50-c-k-no/photo.jpg",
      "userId": "114874362450166068432"
     },
     "user_tz": -480
    },
    "id": "YrsZAMuU0Lbc",
    "outputId": "fe5c93a1-0f09-4984-bb03-1ae0f7624f75"
   },
   "outputs": [],
   "source": [
    "# 補值方法 2: bfill（由後往前補值）\n",
    "tmp_fillna.fillna(method='bfill')"
   ]
  },
  {
   "cell_type": "code",
   "execution_count": null,
   "metadata": {
    "colab": {
     "autoexec": {
      "startup": false,
      "wait_interval": 0
     },
     "base_uri": "https://localhost:8080/",
     "height": 235
    },
    "colab_type": "code",
    "executionInfo": {
     "elapsed": 1165,
     "status": "ok",
     "timestamp": 1530864695413,
     "user": {
      "displayName": "黃種平",
      "photoUrl": "//lh3.googleusercontent.com/-ay6h3dmyraY/AAAAAAAAAAI/AAAAAAAADhg/t8F2AGa00fc/s50-c-k-no/photo.jpg",
      "userId": "114874362450166068432"
     },
     "user_tz": -480
    },
    "id": "rhdJ_4Ou0NpN",
    "outputId": "a6f6c9c0-79ff-40ed-f28e-b8d0e5726e37"
   },
   "outputs": [],
   "source": [
    "# 補值方法 3: ffill（由前往後補值）\n",
    "# .fillna(method='ffill')\n",
    "tmp_fillna.fillna(method='ffill')"
   ]
  },
  {
   "cell_type": "markdown",
   "metadata": {
    "colab_type": "text",
    "id": "vtDOm44KKIqU"
   },
   "source": [
    "### `.T`：DataFrame 轉置\n",
    "\n",
    "回傳以對角線為對稱方向對調後的資料。\n",
    "\n",
    "* 文件連結：[pandas.DataFrame.transpose](http://pandas.pydata.org/pandas-docs/stable/generated/pandas.DataFrame.transpose.html)\n"
   ]
  },
  {
   "cell_type": "code",
   "execution_count": null,
   "metadata": {
    "colab": {
     "autoexec": {
      "startup": false,
      "wait_interval": 0
     }
    },
    "colab_type": "code",
    "id": "a67EJ6WPVjBe"
   },
   "outputs": [],
   "source": [
    "# transpose\n",
    "\n",
    "# 在 dataframe 資料顯示上，會將 觀察項目 作為 columns，而每一筆觀察資料 作為 rows\n",
    "# 但是當拿到一份資料時，可能資料紀錄的方式剛好相反，如下，觀察項目在 rows，每個時間點的觀察資料為 columns\n",
    "# 這時候可以使用 .T 進行轉置"
   ]
  },
  {
   "cell_type": "code",
   "execution_count": null,
   "metadata": {
    "colab": {
     "autoexec": {
      "startup": false,
      "wait_interval": 0
     },
     "base_uri": "https://localhost:8080/",
     "height": 173
    },
    "colab_type": "code",
    "executionInfo": {
     "elapsed": 842,
     "status": "ok",
     "timestamp": 1530864726850,
     "user": {
      "displayName": "黃種平",
      "photoUrl": "//lh3.googleusercontent.com/-ay6h3dmyraY/AAAAAAAAAAI/AAAAAAAADhg/t8F2AGa00fc/s50-c-k-no/photo.jpg",
      "userId": "114874362450166068432"
     },
     "user_tz": -480
    },
    "id": "t3wv8jo6Aw27",
    "outputId": "648e3836-4e53-46dc-a9a0-01abef0f690b"
   },
   "outputs": [],
   "source": [
    "# 先製作一個比較小的 DataFrame 來展示功能\n",
    "test_t = pd.DataFrame({'2017-01-01 01:00:00':[20.0, 2.0, 0.20, 0.04], \n",
    "                       '2017-01-01 02:00:00':[20.0, 2.2, 0.19, 0.05], \n",
    "                       '2017-01-01 03:00:00':[19.0, 2.2, 0.24, 0.08]},\n",
    "                       index=['AMB_TEMP', 'CH4', 'CO', 'NMHC'])\n",
    "test_t"
   ]
  },
  {
   "cell_type": "code",
   "execution_count": null,
   "metadata": {
    "colab": {
     "autoexec": {
      "startup": false,
      "wait_interval": 0
     },
     "base_uri": "https://localhost:8080/",
     "height": 142
    },
    "colab_type": "code",
    "executionInfo": {
     "elapsed": 1534,
     "status": "ok",
     "timestamp": 1530864729047,
     "user": {
      "displayName": "黃種平",
      "photoUrl": "//lh3.googleusercontent.com/-ay6h3dmyraY/AAAAAAAAAAI/AAAAAAAADhg/t8F2AGa00fc/s50-c-k-no/photo.jpg",
      "userId": "114874362450166068432"
     },
     "user_tz": -480
    },
    "id": "02VdW_n4A5Ee",
    "outputId": "89956a18-d3d8-4c30-963c-79368c80ce29"
   },
   "outputs": [],
   "source": [
    "# 嘗試轉置\n",
    "test_t.T"
   ]
  },
  {
   "cell_type": "markdown",
   "metadata": {
    "colab_type": "text",
    "id": "vMyIr8gdeE2h"
   },
   "source": [
    "### `.pivot_table()`：樞紐分析表\n",
    "\n",
    "樞紐分析表是一種「將一個表格的資料彙總到另一個表格」的分析方法，並對彙總的資料做結合、排序、加總等等操作。\n",
    "\n",
    "因為資料庫管理系統 (Database Management System, DBMS) 的設計關係，有時候在取出來的資料中，會發現應該置於 column label 的資料會被放在 column values 之內，這時候也可以用樞紐分析表來製作我們較易於用來分析的資料格式。\n",
    "\n",
    "參考文件：\n",
    "\n",
    "* [pandas.DataFrame.pivot_table](http://pandas.pydata.org/pandas-docs/stable/generated/pandas.DataFrame.pivot_table.html)\n",
    "* [pandas.pivot_table](https://pandas.pydata.org/pandas-docs/stable/generated/pandas.pivot_table.html)\n",
    "* [10 Minutes to pandas | Reshaping | Pivot Tables](https://pandas.pydata.org/pandas-docs/stable/10min.html#pivot-tables)\n",
    "* [Reshaping and Pivot Tables | Pivot tables](https://pandas.pydata.org/pandas-docs/stable/reshaping.html#pivot-tables)\n",
    "* [Microsoft Office 支援 | 建立樞紐分析表來分析工作表的資料](https://support.office.com/zh-tw/article/a9a84538-bfe9-40a9-a8e9-f99134456576)\n"
   ]
  },
  {
   "cell_type": "code",
   "execution_count": null,
   "metadata": {
    "colab": {
     "autoexec": {
      "startup": false,
      "wait_interval": 0
     },
     "base_uri": "https://localhost:8080/",
     "height": 204
    },
    "colab_type": "code",
    "executionInfo": {
     "elapsed": 1284,
     "status": "ok",
     "timestamp": 1530864730999,
     "user": {
      "displayName": "黃種平",
      "photoUrl": "//lh3.googleusercontent.com/-ay6h3dmyraY/AAAAAAAAAAI/AAAAAAAADhg/t8F2AGa00fc/s50-c-k-no/photo.jpg",
      "userId": "114874362450166068432"
     },
     "user_tz": -480
    },
    "id": "57txXh4WFJ2s",
    "outputId": "18bcd040-b0a7-4a34-ec03-f16b926273c8"
   },
   "outputs": [],
   "source": [
    "# 觀察一下尚未做樞紐分析表之前的資料\n",
    "df_nopivot.head()"
   ]
  },
  {
   "cell_type": "code",
   "execution_count": null,
   "metadata": {
    "colab": {
     "autoexec": {
      "startup": false,
      "wait_interval": 0
     },
     "base_uri": "https://localhost:8080/",
     "height": 425
    },
    "colab_type": "code",
    "executionInfo": {
     "elapsed": 1580,
     "status": "ok",
     "timestamp": 1530864733299,
     "user": {
      "displayName": "黃種平",
      "photoUrl": "//lh3.googleusercontent.com/-ay6h3dmyraY/AAAAAAAAAAI/AAAAAAAADhg/t8F2AGa00fc/s50-c-k-no/photo.jpg",
      "userId": "114874362450166068432"
     },
     "user_tz": -480
    },
    "id": "VGCr989EBjWi",
    "outputId": "616ecec6-8212-42aa-da2e-e1ace54924ae"
   },
   "outputs": [],
   "source": [
    "# 製作樞紐分析表\n",
    "df_pivot = df_nopivot.pivot_table(index='datetime', columns='item', values='value')\n",
    "# 上面的操作與以下等價\n",
    "# pd.pivot_table(df_nopivot, index='datetime', columns='item', values='value')\n",
    "\n",
    "df_pivot.head()"
   ]
  },
  {
   "cell_type": "code",
   "execution_count": null,
   "metadata": {
    "colab": {
     "autoexec": {
      "startup": false,
      "wait_interval": 0
     },
     "base_uri": "https://localhost:8080/",
     "height": 204
    },
    "colab_type": "code",
    "executionInfo": {
     "elapsed": 1088,
     "status": "ok",
     "timestamp": 1530864735148,
     "user": {
      "displayName": "黃種平",
      "photoUrl": "//lh3.googleusercontent.com/-ay6h3dmyraY/AAAAAAAAAAI/AAAAAAAADhg/t8F2AGa00fc/s50-c-k-no/photo.jpg",
      "userId": "114874362450166068432"
     },
     "user_tz": -480
    },
    "id": "7dPL2IHmKZlX",
    "outputId": "e386206e-d7c0-44e7-88d4-16ff919bee7b"
   },
   "outputs": [],
   "source": [
    "# 同場加映：將樞紐分析表給還原，用 `melt()`\n",
    "# 因為程序有點複雜，應用的場景看起來也不多，這裡先保留不講解\n",
    "\n",
    "# 請自行執行看看，並測試如果不把 column index 的 name 給刪除，會是什麼情況？\n",
    "del(df_pivot.columns.name)\n",
    "\n",
    "# 把 row index 給還原回 column\n",
    "df_pivot.reset_index(inplace=True)\n",
    "\n",
    "# 「融化」她！\n",
    "df_pivot.melt(id_vars='datetime', var_name='item', value_name='value').head()\n",
    "# 上面的操作與以下等價\n",
    "# pd.melt(df_pivot, id_vars='datetime', var_name='item', value_name='value').head()"
   ]
  },
  {
   "cell_type": "markdown",
   "metadata": {
    "colab_type": "text",
    "id": "6_ViQkjNIB_J"
   },
   "source": [
    "### `.apply()`：套用函式"
   ]
  },
  {
   "cell_type": "markdown",
   "metadata": {
    "colab_type": "text",
    "id": "0aVTeUWVPGGg"
   },
   "source": [
    "DataFrame 的資料將會依照指定的 Axis 方向套用函式，Series 則會將所有資料套用函式，最後回傳使用公式轉換後的資料。\n",
    "\n",
    "常見的公式可以直接套用 [Numpy](https://docs.scipy.org/doc/numpy/index.html, [Scipy](http://scipy.org/) 套件提供數學及統計學類的 function，例如：\n",
    "\n",
    "* [`numpy.sum()`](https://docs.scipy.org/doc/numpy/reference/generated/numpy.sum.html#numpy.sum)：總和\n",
    "* [`numpy.mean()`](https://docs.scipy.org/doc/numpy/reference/generated/numpy.mean.html#numpy.mean)：算數平均數\n",
    "* [`numpy.median()`](https://docs.scipy.org/doc/numpy/reference/generated/numpy.median.html#numpy.median)：中位數\n",
    "* [`scipy.stats.mode()`](https://docs.scipy.org/doc/scipy/reference/generated/scipy.stats.mode.html#scipy.stats.mode)：眾數\n",
    "* [`numpy.percentile()`](https://docs.scipy.org/doc/numpy/reference/generated/numpy.percentile.html#numpy.percentile)：四分位數\n",
    "* [`numpy.var()`](https://docs.scipy.org/doc/numpy/reference/generated/numpy.var.html#numpy.var)：變異數\n",
    "* [`numpy.std()`](https://docs.scipy.org/doc/numpy/reference/generated/numpy.std.html#numpy.std)：標準差\n",
    "* [`numpy.amax()`](https://docs.scipy.org/doc/numpy/reference/generated/numpy.amax.html#numpy.amax)：最大值\n",
    "* [`numpy.amin()`](https://docs.scipy.org/doc/numpy/reference/generated/numpy.amin.html#numpy.amin)：最小值\n",
    "\n",
    "也可以使用 Python 內建的 Function，或是自訂 Function 來轉換資料。\n",
    "\n",
    "參考文件：\n",
    "\n",
    "* [pandas.DataFrame.apply](https://pandas.pydata.org/pandas-docs/stable/generated/pandas.DataFrame.apply.html)\n",
    "* [Numpy | Mathematical functions](https://docs.scipy.org/doc/numpy/reference/routines.math.html)\n",
    "* [Numpy | Statistics](https://docs.scipy.org/doc/numpy/reference/routines.statistics.html)\n",
    "* [Scipy | Statistical functions (scipy.stats)](https://docs.scipy.org/doc/scipy/reference/stats.html)"
   ]
  },
  {
   "cell_type": "code",
   "execution_count": null,
   "metadata": {
    "colab": {
     "autoexec": {
      "startup": false,
      "wait_interval": 0
     },
     "base_uri": "https://localhost:8080/",
     "height": 340
    },
    "colab_type": "code",
    "executionInfo": {
     "elapsed": 836,
     "status": "ok",
     "timestamp": 1530864816676,
     "user": {
      "displayName": "黃種平",
      "photoUrl": "//lh3.googleusercontent.com/-ay6h3dmyraY/AAAAAAAAAAI/AAAAAAAADhg/t8F2AGa00fc/s50-c-k-no/photo.jpg",
      "userId": "114874362450166068432"
     },
     "user_tz": -480
    },
    "id": "goQZ5H8DX4X8",
    "outputId": "eb2d9dc2-e592-45e1-9bd0-51c0ecc54f4b"
   },
   "outputs": [],
   "source": [
    "# 計算所有空氣品質資料監測項目的最大值\n",
    "df.apply(np.amax)\n",
    "# 與 df.apply(np.amax, axis=0) 等價\n",
    "# 與 df.apply(np.amax, axis='index') 等價"
   ]
  },
  {
   "cell_type": "code",
   "execution_count": null,
   "metadata": {
    "colab": {
     "autoexec": {
      "startup": false,
      "wait_interval": 0
     },
     "base_uri": "https://localhost:8080/",
     "height": 85
    },
    "colab_type": "code",
    "executionInfo": {
     "elapsed": 903,
     "status": "ok",
     "timestamp": 1530864817870,
     "user": {
      "displayName": "黃種平",
      "photoUrl": "//lh3.googleusercontent.com/-ay6h3dmyraY/AAAAAAAAAAI/AAAAAAAADhg/t8F2AGa00fc/s50-c-k-no/photo.jpg",
      "userId": "114874362450166068432"
     },
     "user_tz": -480
    },
    "id": "OrKDrPkwKahH",
    "outputId": "af4d4ddc-26b7-40cf-d60a-e35e4a4b5f9c"
   },
   "outputs": [],
   "source": [
    "# 自訂 Function\n",
    "def max_minus_min(x):\n",
    "    return x.max() - x.min()\n",
    "# 與 max_minus_min = lambda x: x.max() - x.min() 等價\n",
    "\n",
    "# 計算大氣溫度、甲烷、一氧化碳（column label：'AMB_TEMP', 'CH4', 'CO'）濃度的最大值與最小值的差\n",
    "df.loc[:, ['AMB_TEMP', 'CH4', 'CO']].apply(max_minus_min)\n",
    "# 與 df.loc[:, ['AMB_TEMP', 'CH4', 'CO']].apply(lambda x: x.max() - x.min()) 等價"
   ]
  },
  {
   "cell_type": "markdown",
   "metadata": {
    "colab_type": "text",
    "id": "E98iiOenJUE8"
   },
   "source": [
    "#### 補充：apply(), applymap(), map()"
   ]
  },
  {
   "cell_type": "markdown",
   "metadata": {
    "colab_type": "text",
    "id": "aNxW60hEJZ3O"
   },
   "source": [
    "雖然 `apply()` 也可以使用在 Series 上面，但是跟套用於 DataFrame 上的動作卻略有不同：對 DataFrame 調用 `.apply()` method 時，可以選擇將 Column 或是 Row 給輸入 function 做運算；而對 Series 調用時，則會將每一個元素給一一置入 function。\n",
    "\n",
    "所以建議在處理不同的問題時，根據情況分別使用 `apply()`, `applymap()`, `map()` Methods。\n",
    "\n",
    "補充比較這三個常見的 Method 的用途：\n",
    "\n",
    "* `apply()`：常用於 DataFrame 上，將以 Row 或 Column 為單位，將資料分割為許多一維向量，再套用 Function\n",
    "* `applymap()`：常用於 DataFrame 上，為每一個元素套用 Function\n",
    "* `map()`：常用於 Series 上，為每一個元素套用 Function（與 `pandas.Series.apply()` 等價）\n",
    "\n",
    "參考文件：[Difference between map, applymap and apply methods in Pandas\n",
    "](https://stackoverflow.com/a/19798528/2975670)"
   ]
  },
  {
   "cell_type": "code",
   "execution_count": null,
   "metadata": {
    "colab": {
     "autoexec": {
      "startup": false,
      "wait_interval": 0
     },
     "base_uri": "https://localhost:8080/",
     "height": 136
    },
    "colab_type": "code",
    "executionInfo": {
     "elapsed": 767,
     "status": "ok",
     "timestamp": 1530864818954,
     "user": {
      "displayName": "黃種平",
      "photoUrl": "//lh3.googleusercontent.com/-ay6h3dmyraY/AAAAAAAAAAI/AAAAAAAADhg/t8F2AGa00fc/s50-c-k-no/photo.jpg",
      "userId": "114874362450166068432"
     },
     "user_tz": -480
    },
    "id": "THs1UXYVZvYD",
    "outputId": "0c0e2b6c-dc14-4668-f6f5-ddfd8ddb7973"
   },
   "outputs": [],
   "source": [
    "# 自訂 Function\n",
    "# 例：自訂一個將所有數值 +2 的 Function\n",
    "plus_two = lambda x: x+2\n",
    "\n",
    "# 將所有一氧化氮濃度（Column 名稱：'NO'）數值 +2\n",
    "s_amb_temp = df.loc[:, 'AMB_TEMP']\n",
    "\n",
    "s_amb_temp.map(plus_two).head()\n",
    "# 以上操作與以下等價\n",
    "# s.apply(plus_two) "
   ]
  },
  {
   "cell_type": "markdown",
   "metadata": {
    "colab_type": "text",
    "id": "dErJvQa4N1Ny"
   },
   "source": [
    "而若要將 Series 當作一維向量直接套用 Function 計算的話，可以考慮調用 `pandas.Series.values` Arrtibute 取出 `numpy.ndarray` 物件，再將物件置入 Function 內計算。"
   ]
  },
  {
   "cell_type": "code",
   "execution_count": null,
   "metadata": {
    "colab": {
     "autoexec": {
      "startup": false,
      "wait_interval": 0
     },
     "base_uri": "https://localhost:8080/",
     "height": 34
    },
    "colab_type": "code",
    "executionInfo": {
     "elapsed": 1056,
     "status": "ok",
     "timestamp": 1530864820370,
     "user": {
      "displayName": "黃種平",
      "photoUrl": "//lh3.googleusercontent.com/-ay6h3dmyraY/AAAAAAAAAAI/AAAAAAAADhg/t8F2AGa00fc/s50-c-k-no/photo.jpg",
      "userId": "114874362450166068432"
     },
     "user_tz": -480
    },
    "id": "xUQdTsouOMpB",
    "outputId": "9edb1b16-d00f-417d-88b8-839782507401"
   },
   "outputs": [],
   "source": [
    "# 例：計算一氧化氮濃度（column label：'NO'）的最小值\n",
    "# Function 使用 Numpy.amin()\n",
    "np.amin(s_amb_temp.dropna().values)  # 有些 Function 不支援輸入 NaN 值，\n",
    "                            # 保險起見，可以使用 dropna() Method 預先排除掉"
   ]
  },
  {
   "cell_type": "markdown",
   "metadata": {
    "colab_type": "text",
    "id": "BSlfxQOdxhqI"
   },
   "source": [
    "## 轉換特定 Data Type 的資料"
   ]
  },
  {
   "cell_type": "markdown",
   "metadata": {
    "colab_type": "text",
    "id": "VbIpfW2YlspQ"
   },
   "source": [
    "對於 `str` 或是 `datetime` 類型的資料，Pandas 提供了簡易的 method 或 attribute，可以在調用之後擷取出部分的資訊，例如對 `str` 類型的資料做轉換大小寫、分割、取代，對 `datetime` 類型的資料則可以取出年份、月份、日期等資料。"
   ]
  },
  {
   "cell_type": "markdown",
   "metadata": {
    "colab_type": "text",
    "id": "_AgX4YpisqcR"
   },
   "source": [
    "### `.str`：調用特定 Function 轉換 `str` Type 的資料\n",
    "\n",
    "對 `str` type 的資料調用 `.str` attribute 之後，可以緊接著調用他們的 method 或 attribute，來做一些常用的轉換。舉例如下：\n",
    "\n",
    " * `.str.upper()`：將全部英文字母轉換成大寫\n",
    " * `.str.lower()` :  將全部英文字母轉換成小寫\n",
    " * `.str.replace()`：將固定的數值或文字替換掉以外\n",
    " * `.str[ : ]`：取得一部分的文字 (就是 Slice)\n",
    " * `.str.len()`：回傳文字長度\n",
    " * `.str.startswith()`：檢查文字的開頭是否與文字相符\n",
    " * `.str.contains()`：檢查否包含文字\n",
    " \n",
    "參考文件：\n",
    " \n",
    "* [Working with Text Data](https://pandas.pydata.org/pandas-docs/stable/text.html)\n",
    "* [Series | String handling](https://pandas.pydata.org/pandas-docs/stable/api.html#string-handling)"
   ]
  },
  {
   "cell_type": "code",
   "execution_count": null,
   "metadata": {
    "colab": {
     "autoexec": {
      "startup": false,
      "wait_interval": 0
     },
     "base_uri": "https://localhost:8080/",
     "height": 34
    },
    "colab_type": "code",
    "executionInfo": {
     "elapsed": 1386,
     "status": "ok",
     "timestamp": 1530864737156,
     "user": {
      "displayName": "黃種平",
      "photoUrl": "//lh3.googleusercontent.com/-ay6h3dmyraY/AAAAAAAAAAI/AAAAAAAADhg/t8F2AGa00fc/s50-c-k-no/photo.jpg",
      "userId": "114874362450166068432"
     },
     "user_tz": -480
    },
    "id": "9kSj4JuLM0A5",
    "outputId": "69519ba4-d4f8-40ee-e28f-6f8b340816e0"
   },
   "outputs": [],
   "source": [
    "# 檢查 'datetime' column 的 date type\n",
    "df_noindex.dtypes['datetime']"
   ]
  },
  {
   "cell_type": "code",
   "execution_count": null,
   "metadata": {
    "colab": {
     "autoexec": {
      "startup": false,
      "wait_interval": 0
     },
     "base_uri": "https://localhost:8080/",
     "height": 119
    },
    "colab_type": "code",
    "executionInfo": {
     "elapsed": 1491,
     "status": "ok",
     "timestamp": 1530864739304,
     "user": {
      "displayName": "黃種平",
      "photoUrl": "//lh3.googleusercontent.com/-ay6h3dmyraY/AAAAAAAAAAI/AAAAAAAADhg/t8F2AGa00fc/s50-c-k-no/photo.jpg",
      "userId": "114874362450166068432"
     },
     "user_tz": -480
    },
    "id": "yA2DDX_8NuD7",
    "outputId": "83bb1410-498c-4064-b193-dfe05f519ce0"
   },
   "outputs": [],
   "source": [
    "# 取得 'datetime' column 的年份，也就是 str[:4]\n",
    "df_noindex.loc[:, 'datetime'].str[:4].head()"
   ]
  },
  {
   "cell_type": "code",
   "execution_count": null,
   "metadata": {
    "colab": {
     "autoexec": {
      "startup": false,
      "wait_interval": 0
     },
     "base_uri": "https://localhost:8080/",
     "height": 119
    },
    "colab_type": "code",
    "executionInfo": {
     "elapsed": 1186,
     "status": "ok",
     "timestamp": 1530864742100,
     "user": {
      "displayName": "黃種平",
      "photoUrl": "//lh3.googleusercontent.com/-ay6h3dmyraY/AAAAAAAAAAI/AAAAAAAADhg/t8F2AGa00fc/s50-c-k-no/photo.jpg",
      "userId": "114874362450166068432"
     },
     "user_tz": -480
    },
    "id": "s2aKUsS-N7VU",
    "outputId": "4ee650f0-ec21-4763-e128-3b0b2fead060"
   },
   "outputs": [],
   "source": [
    "# 取得 'datetime' column 的月份，也就是 str[5:7]\n",
    "df_noindex.loc[:, 'datetime'].str[5:7].head()"
   ]
  },
  {
   "cell_type": "markdown",
   "metadata": {
    "colab_type": "text",
    "id": "UHg-4ouTRyTl"
   },
   "source": [
    "### `.dt`：調用特定 Attribute 以取得 `datetime` Type 物件的資訊\n",
    "\n",
    "對 `datetime` type 的資料調用 `.dt` attribute 之後，可以緊接著調用他們的 attribute，來取得一些常用的資訊。舉例如下：\n",
    "\n",
    "* `datetime.year`：回傳年份\n",
    "* `datetime.month`：回傳月份\n",
    "* `datetime.day`：回傳日期\n",
    "* `datetime.hour`：回傳小時\n",
    "* `datetime.minute`：回傳分鐘\n",
    "* `datetime.second`：回傳秒數\n",
    "* `datetime.weekday`：回傳星期幾（依序為星期一 = `0`、星期二 = `1`⋯⋯星期天 = `6`）"
   ]
  },
  {
   "cell_type": "code",
   "execution_count": null,
   "metadata": {
    "colab": {
     "autoexec": {
      "startup": false,
      "wait_interval": 0
     },
     "base_uri": "https://localhost:8080/",
     "height": 34
    },
    "colab_type": "code",
    "executionInfo": {
     "elapsed": 1477,
     "status": "ok",
     "timestamp": 1530864744199,
     "user": {
      "displayName": "黃種平",
      "photoUrl": "//lh3.googleusercontent.com/-ay6h3dmyraY/AAAAAAAAAAI/AAAAAAAADhg/t8F2AGa00fc/s50-c-k-no/photo.jpg",
      "userId": "114874362450166068432"
     },
     "user_tz": -480
    },
    "id": "qPIHYiDnPQQP",
    "outputId": "8b06a7d4-1f8f-4c0e-8603-b56659333f14"
   },
   "outputs": [],
   "source": [
    "# 先將 df_noindex 的 'datetime' column 的 data type 轉換為 datetime\n",
    "df_noindex.loc[:, 'datetime'] = pd.to_datetime(df_noindex.loc[:, 'datetime'])\n",
    "df_noindex.dtypes['datetime']\n",
    "# 如果直接查詢 df_noindex.dtypes['datetime'] 會得到 '<M8[ns]' 的結果\n",
    "# 其實也是 datetime\n",
    "# 請參見：https://stackoverflow.com/a/29218694/2975670"
   ]
  },
  {
   "cell_type": "code",
   "execution_count": null,
   "metadata": {
    "colab": {
     "autoexec": {
      "startup": false,
      "wait_interval": 0
     },
     "base_uri": "https://localhost:8080/",
     "height": 119
    },
    "colab_type": "code",
    "executionInfo": {
     "elapsed": 946,
     "status": "ok",
     "timestamp": 1530864745756,
     "user": {
      "displayName": "黃種平",
      "photoUrl": "//lh3.googleusercontent.com/-ay6h3dmyraY/AAAAAAAAAAI/AAAAAAAADhg/t8F2AGa00fc/s50-c-k-no/photo.jpg",
      "userId": "114874362450166068432"
     },
     "user_tz": -480
    },
    "id": "Q4ZTLkmRPi_i",
    "outputId": "9fd2e821-52ec-4b28-e507-77f0e125b272"
   },
   "outputs": [],
   "source": [
    "# 取得 'datetime' column 的小時\n",
    "df_noindex['datetime'].dt.hour.head()"
   ]
  },
  {
   "cell_type": "code",
   "execution_count": null,
   "metadata": {
    "colab": {
     "autoexec": {
      "startup": false,
      "wait_interval": 0
     },
     "base_uri": "https://localhost:8080/",
     "height": 119
    },
    "colab_type": "code",
    "executionInfo": {
     "elapsed": 1033,
     "status": "ok",
     "timestamp": 1530864747545,
     "user": {
      "displayName": "黃種平",
      "photoUrl": "//lh3.googleusercontent.com/-ay6h3dmyraY/AAAAAAAAAAI/AAAAAAAADhg/t8F2AGa00fc/s50-c-k-no/photo.jpg",
      "userId": "114874362450166068432"
     },
     "user_tz": -480
    },
    "id": "dX1VdvrfQUdI",
    "outputId": "e4d922e8-ad76-49ac-ba70-04260b44db69"
   },
   "outputs": [],
   "source": [
    "# 取得 'datetime' column 的星期幾\n",
    "df_noindex['datetime'].dt.weekday.head()"
   ]
  },
  {
   "cell_type": "code",
   "execution_count": null,
   "metadata": {
    "colab": {
     "autoexec": {
      "startup": false,
      "wait_interval": 0
     }
    },
    "colab_type": "code",
    "id": "JDeYc0hqPohq"
   },
   "outputs": [],
   "source": [
    "# 還原資料\n",
    "df_noindex = df_noindex_bak.copy()"
   ]
  },
  {
   "cell_type": "markdown",
   "metadata": {
    "colab_type": "text",
    "id": "xCVWzHwH3_G8"
   },
   "source": [
    "## 對資料做結合運算"
   ]
  },
  {
   "cell_type": "markdown",
   "metadata": {
    "colab_type": "text",
    "id": "XXV_5k8Rm1sv"
   },
   "source": [
    "許多時候我們會把有共同 column 的資料先結合起來，再對他們做一些運算，例如：將許多相同月份的數據集合起來取平均值。這時候就會調用 `.groupby()` method，以節省運算的時間。\n",
    "\n",
    "相關的操作在[關聯式資料庫 (Relational Database, RDB)](https://zh.wikipedia.org/zh-tw/關聯式資料庫) 上也是很常見的。\n",
    "\n",
    "參考文件：\n",
    "\n",
    "* [10 Minuste to pandas | Grouping](https://pandas.pydata.org/pandas-docs/stable/10min.html#grouping)\n",
    "* [Group By: split-apply-combine](https://pandas.pydata.org/pandas-docs/stable/groupby.html#groupby)"
   ]
  },
  {
   "cell_type": "code",
   "execution_count": null,
   "metadata": {
    "colab": {
     "autoexec": {
      "startup": false,
      "wait_interval": 0
     },
     "base_uri": "https://localhost:8080/",
     "height": 221
    },
    "colab_type": "code",
    "executionInfo": {
     "elapsed": 936,
     "status": "ok",
     "timestamp": 1530864753674,
     "user": {
      "displayName": "黃種平",
      "photoUrl": "//lh3.googleusercontent.com/-ay6h3dmyraY/AAAAAAAAAAI/AAAAAAAADhg/t8F2AGa00fc/s50-c-k-no/photo.jpg",
      "userId": "114874362450166068432"
     },
     "user_tz": -480
    },
    "id": "jIj3rgA6RS50",
    "outputId": "b0980659-e7e8-4ceb-e42a-e68e67faf9ef"
   },
   "outputs": [],
   "source": [
    "# 讓我們把這個小節會用到的 column：年份、月份、給做出來。\n",
    "# 先觀察一下 index (row index)\n",
    "df.index"
   ]
  },
  {
   "cell_type": "code",
   "execution_count": null,
   "metadata": {
    "colab": {
     "autoexec": {
      "startup": false,
      "wait_interval": 0
     },
     "base_uri": "https://localhost:8080/",
     "height": 102
    },
    "colab_type": "code",
    "executionInfo": {
     "elapsed": 1063,
     "status": "ok",
     "timestamp": 1530864757011,
     "user": {
      "displayName": "黃種平",
      "photoUrl": "//lh3.googleusercontent.com/-ay6h3dmyraY/AAAAAAAAAAI/AAAAAAAADhg/t8F2AGa00fc/s50-c-k-no/photo.jpg",
      "userId": "114874362450166068432"
     },
     "user_tz": -480
    },
    "id": "5eTnEaksTRT0",
    "outputId": "4916ce1c-dab8-4ba5-d4b4-a283b309eb01"
   },
   "outputs": [],
   "source": [
    "# Row index 的型態是 datetime，所以可以直接調用 datetime 的 year, month......等屬性\n",
    "# 就利用這個特性來做出新的 column\n",
    "df['year'] = df.index.year\n",
    "df['month'] = df.index.month\n",
    "df['day'] = df.index.day\n",
    "df['hour'] = df.index.hour\n",
    "df['minute'] = df.index.minute\n",
    "df['second'] = df.index.second\n",
    "df['weekday'] = df.index.weekday\n",
    "\n",
    "df.columns"
   ]
  },
  {
   "cell_type": "code",
   "execution_count": null,
   "metadata": {},
   "outputs": [],
   "source": [
    "df.head()"
   ]
  },
  {
   "cell_type": "code",
   "execution_count": null,
   "metadata": {},
   "outputs": [],
   "source": [
    "pd.to_datetime(df[['year', 'month', 'day', 'hour', 'minute', 'second']])"
   ]
  },
  {
   "cell_type": "markdown",
   "metadata": {
    "colab_type": "text",
    "id": "GZ73MSPjS9Ti"
   },
   "source": [
    "### `.groupby()`：將具有相同 Column 的資料結合\n",
    "\n",
    "結合資料後會回傳一個 [`GroupBy` 物件](https://pandas.pydata.org/pandas-docs/stable/api.html#groupby)，可以直接接著呼叫她的 method 來做處理。\n",
    "\n",
    "* 參考文件：\n",
    "    * [pandas.DataFrame.groupby](https://pandas.pydata.org/pandas-docs/stable/generated/pandas.DataFrame.groupby.html)\n",
    "    * [pandas.Series.groupby](https://pandas.pydata.org/pandas-docs/stable/generated/pandas.Series.groupby.html)"
   ]
  },
  {
   "cell_type": "markdown",
   "metadata": {
    "colab_type": "text",
    "id": "2qyrVXH-pIeb"
   },
   "source": [
    "#### 調用 `GroupBy` 物件的 method"
   ]
  },
  {
   "cell_type": "markdown",
   "metadata": {
    "colab_type": "text",
    "id": "XVAhVDSEpeX1"
   },
   "source": [
    "可以執行的 method 主要分為 [Indexing, iteration](https://pandas.pydata.org/pandas-docs/stable/api.html#id38)、[Function application](https://pandas.pydata.org/pandas-docs/stable/api.html#function-application) 和 [Computations / Descriptive Stats](https://pandas.pydata.org/pandas-docs/stable/api.html#id39)，請自行參考  API References 文件。\n",
    "\n",
    "這裡只舉幾個例子。像是用 `.mean()` 來計算平均數：\n",
    "\n",
    "參考文件：[pandas.core.groupby.GroupBy.mean](https://pandas.pydata.org/pandas-docs/stable/generated/pandas.core.groupby.GroupBy.mean.html)"
   ]
  },
  {
   "cell_type": "code",
   "execution_count": null,
   "metadata": {
    "colab": {
     "autoexec": {
      "startup": false,
      "wait_interval": 0
     },
     "base_uri": "https://localhost:8080/",
     "height": 501
    },
    "colab_type": "code",
    "executionInfo": {
     "elapsed": 1396,
     "status": "ok",
     "timestamp": 1530864759031,
     "user": {
      "displayName": "黃種平",
      "photoUrl": "//lh3.googleusercontent.com/-ay6h3dmyraY/AAAAAAAAAAI/AAAAAAAADhg/t8F2AGa00fc/s50-c-k-no/photo.jpg",
      "userId": "114874362450166068432"
     },
     "user_tz": -480
    },
    "id": "kVYHWJec7bBz",
    "outputId": "10b30c98-ece1-43bd-dabe-ab6759f34a78"
   },
   "outputs": [],
   "source": [
    "# 例：觀察同年、月份的各個空氣品質指標的平均數\n",
    "df.groupby(['year', 'month']).mean()"
   ]
  },
  {
   "cell_type": "markdown",
   "metadata": {
    "colab_type": "text",
    "id": "AZ8CxmiHUB27"
   },
   "source": [
    "另一個例子：使用 `.count()` : 計數。在做計數時，遺漏值 NA 將不列入計數對象。\n",
    "\n",
    "參考文件：\n",
    "\n",
    "* [pandas.core.groupby.GroupBy.count](https://pandas.pydata.org/pandas-docs/stable/generated/pandas.core.groupby.GroupBy.count.html)"
   ]
  },
  {
   "cell_type": "code",
   "execution_count": null,
   "metadata": {
    "colab": {
     "autoexec": {
      "startup": false,
      "wait_interval": 0
     },
     "base_uri": "https://localhost:8080/",
     "height": 501
    },
    "colab_type": "code",
    "executionInfo": {
     "elapsed": 1303,
     "status": "ok",
     "timestamp": 1530864761029,
     "user": {
      "displayName": "黃種平",
      "photoUrl": "//lh3.googleusercontent.com/-ay6h3dmyraY/AAAAAAAAAAI/AAAAAAAADhg/t8F2AGa00fc/s50-c-k-no/photo.jpg",
      "userId": "114874362450166068432"
     },
     "user_tz": -480
    },
    "id": "_MW8-7xGCJeK",
    "outputId": "249fad71-1467-4581-ee1f-505bc7693601"
   },
   "outputs": [],
   "source": [
    "# 例：觀察同年、月份的各項空氣品質指標，各有多少筆資料（排除遺漏值）\n",
    "display(df.groupby(['year', 'month']).count())"
   ]
  },
  {
   "cell_type": "markdown",
   "metadata": {
    "colab_type": "text",
    "id": "ckVFv4C0-oZm"
   },
   "source": [
    "#### `.resample()`：同場加映——重新抽樣：不用 `groupby()` 也可以對日期分群"
   ]
  },
  {
   "cell_type": "markdown",
   "metadata": {
    "colab_type": "text",
    "id": "fM_ap9iQAb6N"
   },
   "source": [
    "當我們需要轉換**時間序列資料**的頻率跟重新抽樣的時候，就是一個方便的工具。先用 `resample()` method 指定重新抽樣的方式，再搭配  `.apply()` 指定轉換的 function。\n",
    "\n",
    "在使用時，Series 或 DataFrame 的 Index 需為 **`datetime` 型態的時間序列資料**。\n",
    "\n",
    "* 參考文件\n",
    "    * [Time Series / Date functionality | Resampling](http://pandas.pydata.org/pandas-docs/stable/timeseries.html#resampling)\n",
    "    * [pandas.Series.resample](http://pandas.pydata.org/pandas-docs/stable/generated/pandas.Series.resample.html)\n",
    "    * [pandas.DataFrame.resample](https://pandas.pydata.org/pandas-docs/stable/generated/pandas.DataFrame.resample.html)"
   ]
  },
  {
   "cell_type": "code",
   "execution_count": null,
   "metadata": {
    "colab": {
     "autoexec": {
      "startup": false,
      "wait_interval": 0
     },
     "base_uri": "https://localhost:8080/",
     "height": 255
    },
    "colab_type": "code",
    "executionInfo": {
     "elapsed": 1242,
     "status": "ok",
     "timestamp": 1530864763015,
     "user": {
      "displayName": "黃種平",
      "photoUrl": "//lh3.googleusercontent.com/-ay6h3dmyraY/AAAAAAAAAAI/AAAAAAAADhg/t8F2AGa00fc/s50-c-k-no/photo.jpg",
      "userId": "114874362450166068432"
     },
     "user_tz": -480
    },
    "id": "dHLVTcp5AsVZ",
    "outputId": "a7a28f96-cd96-429f-b1f6-0185b08eef96"
   },
   "outputs": [],
   "source": [
    "# 對 PM2.5 的資料（column label：'PM2.5'）重新抽樣，再計算出各月 PM 2.5 濃度的平均數\n",
    "s_pm25 = df.loc[:, 'PM2.5']\n",
    "s_pm25.resample('M').apply(np.median)"
   ]
  },
  {
   "cell_type": "code",
   "execution_count": null,
   "metadata": {
    "colab": {
     "autoexec": {
      "startup": false,
      "wait_interval": 0
     },
     "base_uri": "https://localhost:8080/",
     "height": 347
    },
    "colab_type": "code",
    "executionInfo": {
     "elapsed": 1301,
     "status": "ok",
     "timestamp": 1530864765208,
     "user": {
      "displayName": "黃種平",
      "photoUrl": "//lh3.googleusercontent.com/-ay6h3dmyraY/AAAAAAAAAAI/AAAAAAAADhg/t8F2AGa00fc/s50-c-k-no/photo.jpg",
      "userId": "114874362450166068432"
     },
     "user_tz": -480
    },
    "id": "N8l7Dn8IC341",
    "outputId": "ba413777-dec7-47ac-b94d-640c5c46c8d0"
   },
   "outputs": [],
   "source": [
    "# 畫出各月 PM 2.5 濃度的平均數折線圖\n",
    "s_pm25.resample('M').apply(np.median).plot()"
   ]
  },
  {
   "cell_type": "markdown",
   "metadata": {
    "colab_type": "text",
    "id": "J7RSsEntNCKn"
   },
   "source": [
    "若 DataFrame 的 index 不為 `datetime` 型態的時間序列資料，可以使用 parameter `on=` 來指定 `datetime` 型態時間序列資料的 Column 名稱。"
   ]
  },
  {
   "cell_type": "code",
   "execution_count": null,
   "metadata": {
    "colab": {
     "autoexec": {
      "startup": false,
      "wait_interval": 0
     }
    },
    "colab_type": "code",
    "id": "qdEFVDjVG2Tl"
   },
   "outputs": [],
   "source": [
    "# 先將 df_noindex 的 'datetime' column 的 data type 轉換為 datetime\n",
    "df_noindex['datetime'] = pd.to_datetime(df_noindex.loc[:, 'datetime'])\n",
    "\n",
    "# 對 PM2.5、PM10 （column label：'PM10'）的資料重新抽樣，再計算出各月 PM 2.5 濃度的算數平均數\n",
    "df_orig_pm25_pm10 = df_noindex.loc[:, ['datetime', 'PM2.5', 'PM10']]\n",
    "df_orig_pm25_pm10.resample('M', on='datetime').apply(np.mean)\n",
    "\n",
    "# 還原資料\n",
    "df_noindex = df_noindex_bak.copy()"
   ]
  },
  {
   "cell_type": "markdown",
   "metadata": {
    "colab_type": "text",
    "id": "vlfevsGgUF80"
   },
   "source": [
    "### `.aggregate()` : 對結合後的資料調用多個敘述統計 function\n",
    "\n",
    "如果要對一份資料同時製作多個敘述性統計分析，除了調用 `.drescibe()` method 以外，當還有額外的需求時，也可以利用這個 method 來達成。\n",
    "\n",
    "* 參考文件：\n",
    "    * [pandas.DataFrame.aggregate](https://pandas.pydata.org/pandas-docs/stable/generated/pandas.DataFrame.aggregate.html)\n",
    "    * [GroupBy: split-apply-combine](https://pandas.pydata.org/pandas-docs/stable/groupby.html#aggregation)"
   ]
  },
  {
   "cell_type": "code",
   "execution_count": null,
   "metadata": {
    "colab": {
     "autoexec": {
      "startup": false,
      "wait_interval": 0
     },
     "base_uri": "https://localhost:8080/",
     "height": 391
    },
    "colab_type": "code",
    "executionInfo": {
     "elapsed": 1125,
     "status": "ok",
     "timestamp": 1530864769300,
     "user": {
      "displayName": "黃種平",
      "photoUrl": "//lh3.googleusercontent.com/-ay6h3dmyraY/AAAAAAAAAAI/AAAAAAAADhg/t8F2AGa00fc/s50-c-k-no/photo.jpg",
      "userId": "114874362450166068432"
     },
     "user_tz": -480
    },
    "id": "XjyY_bVwHCYS",
    "outputId": "8660cdd1-92d2-4c09-aaa2-f67aaaedd337"
   },
   "outputs": [],
   "source": [
    "# 僅使用單一敘述統計的 function\n",
    "# 例：計算各項空氣品質指摽的平均\n",
    "display(df.aggregate('mean'))"
   ]
  },
  {
   "cell_type": "code",
   "execution_count": null,
   "metadata": {
    "colab": {
     "autoexec": {
      "startup": false,
      "wait_interval": 0
     },
     "base_uri": "https://localhost:8080/",
     "height": 85
    },
    "colab_type": "code",
    "executionInfo": {
     "elapsed": 1132,
     "status": "ok",
     "timestamp": 1530864771323,
     "user": {
      "displayName": "黃種平",
      "photoUrl": "//lh3.googleusercontent.com/-ay6h3dmyraY/AAAAAAAAAAI/AAAAAAAADhg/t8F2AGa00fc/s50-c-k-no/photo.jpg",
      "userId": "114874362450166068432"
     },
     "user_tz": -480
    },
    "id": "IYMbUGd0brtH",
    "outputId": "2d43be67-fd81-4da4-d6ca-cff0b485e4e5"
   },
   "outputs": [],
   "source": [
    "# 針對各個 column 指定執行不同的敘述統計 function\n",
    "# 作法：寫在 dict 內\n",
    "# 例：計算大氣溫度 (column label: 'AMB_TEMP') 的最小值、\n",
    "# PM 2.5 (column label: 'PM2.5') 的平均值\n",
    "# 以及一氧化氮 (column label: 'NO') 的最大值\n",
    "df.aggregate({'AMB_TEMP':'min', 'PM2.5':'mean', 'NO': 'max'})"
   ]
  },
  {
   "cell_type": "code",
   "execution_count": null,
   "metadata": {
    "colab": {
     "autoexec": {
      "startup": false,
      "wait_interval": 0
     },
     "base_uri": "https://localhost:8080/",
     "height": 222
    },
    "colab_type": "code",
    "executionInfo": {
     "elapsed": 1007,
     "status": "ok",
     "timestamp": 1530864773495,
     "user": {
      "displayName": "黃種平",
      "photoUrl": "//lh3.googleusercontent.com/-ay6h3dmyraY/AAAAAAAAAAI/AAAAAAAADhg/t8F2AGa00fc/s50-c-k-no/photo.jpg",
      "userId": "114874362450166068432"
     },
     "user_tz": -480
    },
    "id": "Y2yO9eekbvA1",
    "outputId": "ec26f7c2-bfa5-41f0-cf92-891254a79cf8"
   },
   "outputs": [],
   "source": [
    "# 對所有 column 指定執行多種不同的敘述統計 function\n",
    "# 作法：寫在 list 內\n",
    "# 力：觀察所有空氣品質指標的平均、最大值、最小值、標準差\n",
    "df.aggregate(['mean', 'max', 'min', 'std'])"
   ]
  },
  {
   "cell_type": "code",
   "execution_count": null,
   "metadata": {
    "colab": {
     "autoexec": {
      "startup": false,
      "wait_interval": 0
     },
     "base_uri": "https://localhost:8080/",
     "height": 532
    },
    "colab_type": "code",
    "executionInfo": {
     "elapsed": 1082,
     "status": "ok",
     "timestamp": 1530864775718,
     "user": {
      "displayName": "黃種平",
      "photoUrl": "//lh3.googleusercontent.com/-ay6h3dmyraY/AAAAAAAAAAI/AAAAAAAADhg/t8F2AGa00fc/s50-c-k-no/photo.jpg",
      "userId": "114874362450166068432"
     },
     "user_tz": -480
    },
    "id": "JHtHZsVIbyYG",
    "outputId": "f1d03c32-e934-4081-b356-db03d9061ad4"
   },
   "outputs": [],
   "source": [
    "# 也可以配合 groupby() 使用，預先集合相同條件的資料再執行敘述統計 function\n",
    "# 例：觀察同年、月份資料的平均值、標準差\n",
    "df.groupby(['year', 'month']).aggregate(['mean', 'std'])"
   ]
  },
  {
   "cell_type": "code",
   "execution_count": null,
   "metadata": {
    "colab": {
     "autoexec": {
      "startup": false,
      "wait_interval": 0
     }
    },
    "colab_type": "code",
    "id": "pZ6HEFGKoY0Z"
   },
   "outputs": [],
   "source": []
  }
 ],
 "metadata": {
  "colab": {
   "collapsed_sections": [],
   "default_view": {},
   "name": "Chapter 6 - Modifying DataFrame.ipynb",
   "provenance": [],
   "toc_visible": true,
   "version": "0.3.2",
   "views": {}
  },
  "kernelspec": {
   "display_name": "Python 3",
   "language": "python",
   "name": "python3"
  },
  "language_info": {
   "codemirror_mode": {
    "name": "ipython",
    "version": 3
   },
   "file_extension": ".py",
   "mimetype": "text/x-python",
   "name": "python",
   "nbconvert_exporter": "python",
   "pygments_lexer": "ipython3",
   "version": "3.6.4"
  }
 },
 "nbformat": 4,
 "nbformat_minor": 2
}
