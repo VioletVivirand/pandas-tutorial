{
 "cells": [
  {
   "cell_type": "code",
   "execution_count": 1,
   "metadata": {
    "colab": {
     "autoexec": {
      "startup": false,
      "wait_interval": 0
     }
    },
    "colab_type": "code",
    "id": "uWE64OO25RXi"
   },
   "outputs": [],
   "source": [
    "import os\n",
    "import numpy as np\n",
    "import pandas as pd\n",
    "import matplotlib.pyplot as plt"
   ]
  },
  {
   "cell_type": "code",
   "execution_count": 2,
   "metadata": {
    "colab": {
     "autoexec": {
      "startup": false,
      "wait_interval": 0
     }
    },
    "colab_type": "code",
    "id": "nzeYG7whum_S"
   },
   "outputs": [],
   "source": [
    "pd.set_option('max_rows', 20)\n",
    "\n",
    "plt.style.use('default')\n",
    "plt.rcParams['figure.figsize'] = (12, 3)\n",
    "plt.rcParams['font.family'] = 'sans-serif'"
   ]
  },
  {
   "cell_type": "code",
   "execution_count": 3,
   "metadata": {
    "colab": {
     "autoexec": {
      "startup": false,
      "wait_interval": 0
     }
    },
    "colab_type": "code",
    "id": "ftyvhZWsD4wC"
   },
   "outputs": [],
   "source": [
    "AQI_FILEPATH = os.path.join(os.curdir, 'data', 'aqi.csv')\n",
    "\n",
    "df = pd.read_csv(filepath_or_buffer=AQI_FILEPATH, parse_dates=['datetime'], index_col='datetime', na_values='NR')\n",
    "df_bak = df.copy()\n",
    "\n",
    "# 保留降雨量為 NR 值的資料\n",
    "df_withnr = pd.read_csv(filepath_or_buffer=AQI_FILEPATH, parse_dates=['datetime'], index_col='datetime')\n",
    "df_withnr_bak = df_withnr.copy()\n",
    "\n",
    "# 保留還未將 datetime 設為 index 的資料\n",
    "df_noindex = pd.read_csv(filepath_or_buffer=AQI_FILEPATH)\n",
    "df_noindex_bak = df_noindex.copy()\n",
    "\n",
    "# 讀取未處理過的原始資料\n",
    "AQI_ORIG_FILEPATH = os.path.join(os.curdir, 'data', 'aqi_original.csv')\n",
    "\n",
    "df_orig = pd.read_csv(AQI_ORIG_FILEPATH)\n",
    "df_orig_bak = df_orig.copy()\n",
    "\n",
    "# 讀取還未使用 pivot_table() 處理過的資料\n",
    "AQI_NOPIVOT_FILEPATH = os.path.join(os.curdir, 'data', 'aqi_nopivot.csv')\n",
    "\n",
    "df_nopivot = pd.read_csv(AQI_NOPIVOT_FILEPATH, na_values=['NR'])\n",
    "df_nopivot.replace(r'[-]?\\D*[.]?\\D*[#*x]+', np.nan, regex=True, inplace=True)\n",
    "df_nopivot.loc[:, 'value'] = df_nopivot.loc[:, 'value'].astype(np.float64)\n",
    "df_nopivot_bak = df_orig.copy()"
   ]
  },
  {
   "cell_type": "code",
   "execution_count": 4,
   "metadata": {
    "colab": {
     "autoexec": {
      "startup": false,
      "wait_interval": 0
     },
     "base_uri": "https://localhost:8080/",
     "height": 425
    },
    "colab_type": "code",
    "executionInfo": {
     "elapsed": 977,
     "status": "ok",
     "timestamp": 1531288415368,
     "user": {
      "displayName": "黃種平",
      "photoUrl": "//lh3.googleusercontent.com/-ay6h3dmyraY/AAAAAAAAAAI/AAAAAAAADhg/t8F2AGa00fc/s50-c-k-no/photo.jpg",
      "userId": "114874362450166068432"
     },
     "user_tz": -480
    },
    "id": "jCZLhvbblUkP",
    "outputId": "3717d103-e02e-445a-c140-0616038f43f0"
   },
   "outputs": [
    {
     "data": {
      "text/html": [
       "<div>\n",
       "<style scoped>\n",
       "    .dataframe tbody tr th:only-of-type {\n",
       "        vertical-align: middle;\n",
       "    }\n",
       "\n",
       "    .dataframe tbody tr th {\n",
       "        vertical-align: top;\n",
       "    }\n",
       "\n",
       "    .dataframe thead th {\n",
       "        text-align: right;\n",
       "    }\n",
       "</style>\n",
       "<table border=\"1\" class=\"dataframe\">\n",
       "  <thead>\n",
       "    <tr style=\"text-align: right;\">\n",
       "      <th></th>\n",
       "      <th>AMB_TEMP</th>\n",
       "      <th>CH4</th>\n",
       "      <th>CO</th>\n",
       "      <th>NMHC</th>\n",
       "      <th>NO</th>\n",
       "      <th>NO2</th>\n",
       "      <th>NOx</th>\n",
       "      <th>O3</th>\n",
       "      <th>PM10</th>\n",
       "      <th>PM2.5</th>\n",
       "      <th>RAINFALL</th>\n",
       "      <th>RH</th>\n",
       "      <th>SO2</th>\n",
       "      <th>THC</th>\n",
       "      <th>WD_HR</th>\n",
       "      <th>WIND_DIREC</th>\n",
       "      <th>WIND_SPEED</th>\n",
       "      <th>WS_HR</th>\n",
       "    </tr>\n",
       "    <tr>\n",
       "      <th>datetime</th>\n",
       "      <th></th>\n",
       "      <th></th>\n",
       "      <th></th>\n",
       "      <th></th>\n",
       "      <th></th>\n",
       "      <th></th>\n",
       "      <th></th>\n",
       "      <th></th>\n",
       "      <th></th>\n",
       "      <th></th>\n",
       "      <th></th>\n",
       "      <th></th>\n",
       "      <th></th>\n",
       "      <th></th>\n",
       "      <th></th>\n",
       "      <th></th>\n",
       "      <th></th>\n",
       "      <th></th>\n",
       "    </tr>\n",
       "  </thead>\n",
       "  <tbody>\n",
       "    <tr>\n",
       "      <th>2017-01-01 00:00:00</th>\n",
       "      <td>20.0</td>\n",
       "      <td>2.0</td>\n",
       "      <td>0.20</td>\n",
       "      <td>0.04</td>\n",
       "      <td>1.7</td>\n",
       "      <td>7.5</td>\n",
       "      <td>9.2</td>\n",
       "      <td>25.0</td>\n",
       "      <td>67.0</td>\n",
       "      <td>18.0</td>\n",
       "      <td>NaN</td>\n",
       "      <td>88.0</td>\n",
       "      <td>1.5</td>\n",
       "      <td>2.0</td>\n",
       "      <td>33.0</td>\n",
       "      <td>37.0</td>\n",
       "      <td>1.4</td>\n",
       "      <td>0.1</td>\n",
       "    </tr>\n",
       "    <tr>\n",
       "      <th>2017-01-01 01:00:00</th>\n",
       "      <td>20.0</td>\n",
       "      <td>2.2</td>\n",
       "      <td>0.19</td>\n",
       "      <td>0.05</td>\n",
       "      <td>1.9</td>\n",
       "      <td>7.9</td>\n",
       "      <td>9.8</td>\n",
       "      <td>18.0</td>\n",
       "      <td>52.0</td>\n",
       "      <td>14.0</td>\n",
       "      <td>NaN</td>\n",
       "      <td>88.0</td>\n",
       "      <td>2.1</td>\n",
       "      <td>2.2</td>\n",
       "      <td>76.0</td>\n",
       "      <td>143.0</td>\n",
       "      <td>0.5</td>\n",
       "      <td>0.6</td>\n",
       "    </tr>\n",
       "    <tr>\n",
       "      <th>2017-01-01 02:00:00</th>\n",
       "      <td>19.0</td>\n",
       "      <td>2.2</td>\n",
       "      <td>0.24</td>\n",
       "      <td>0.08</td>\n",
       "      <td>2.0</td>\n",
       "      <td>9.3</td>\n",
       "      <td>11.0</td>\n",
       "      <td>13.0</td>\n",
       "      <td>59.0</td>\n",
       "      <td>17.0</td>\n",
       "      <td>NaN</td>\n",
       "      <td>89.0</td>\n",
       "      <td>2.0</td>\n",
       "      <td>2.3</td>\n",
       "      <td>140.0</td>\n",
       "      <td>142.0</td>\n",
       "      <td>0.5</td>\n",
       "      <td>0.6</td>\n",
       "    </tr>\n",
       "    <tr>\n",
       "      <th>2017-01-01 03:00:00</th>\n",
       "      <td>19.0</td>\n",
       "      <td>2.4</td>\n",
       "      <td>0.24</td>\n",
       "      <td>0.11</td>\n",
       "      <td>1.4</td>\n",
       "      <td>9.5</td>\n",
       "      <td>11.0</td>\n",
       "      <td>8.5</td>\n",
       "      <td>53.0</td>\n",
       "      <td>24.0</td>\n",
       "      <td>NaN</td>\n",
       "      <td>90.0</td>\n",
       "      <td>1.8</td>\n",
       "      <td>2.5</td>\n",
       "      <td>107.0</td>\n",
       "      <td>51.0</td>\n",
       "      <td>0.5</td>\n",
       "      <td>0.4</td>\n",
       "    </tr>\n",
       "    <tr>\n",
       "      <th>2017-01-01 04:00:00</th>\n",
       "      <td>18.0</td>\n",
       "      <td>3.4</td>\n",
       "      <td>0.23</td>\n",
       "      <td>0.12</td>\n",
       "      <td>6.8</td>\n",
       "      <td>11.0</td>\n",
       "      <td>17.0</td>\n",
       "      <td>1.8</td>\n",
       "      <td>37.0</td>\n",
       "      <td>25.0</td>\n",
       "      <td>NaN</td>\n",
       "      <td>90.0</td>\n",
       "      <td>1.7</td>\n",
       "      <td>3.6</td>\n",
       "      <td>96.0</td>\n",
       "      <td>106.0</td>\n",
       "      <td>1.0</td>\n",
       "      <td>0.5</td>\n",
       "    </tr>\n",
       "  </tbody>\n",
       "</table>\n",
       "</div>"
      ],
      "text/plain": [
       "                     AMB_TEMP  CH4    CO  NMHC   NO   NO2   NOx    O3  PM10  \\\n",
       "datetime                                                                      \n",
       "2017-01-01 00:00:00      20.0  2.0  0.20  0.04  1.7   7.5   9.2  25.0  67.0   \n",
       "2017-01-01 01:00:00      20.0  2.2  0.19  0.05  1.9   7.9   9.8  18.0  52.0   \n",
       "2017-01-01 02:00:00      19.0  2.2  0.24  0.08  2.0   9.3  11.0  13.0  59.0   \n",
       "2017-01-01 03:00:00      19.0  2.4  0.24  0.11  1.4   9.5  11.0   8.5  53.0   \n",
       "2017-01-01 04:00:00      18.0  3.4  0.23  0.12  6.8  11.0  17.0   1.8  37.0   \n",
       "\n",
       "                     PM2.5  RAINFALL    RH  SO2  THC  WD_HR  WIND_DIREC  \\\n",
       "datetime                                                                  \n",
       "2017-01-01 00:00:00   18.0       NaN  88.0  1.5  2.0   33.0        37.0   \n",
       "2017-01-01 01:00:00   14.0       NaN  88.0  2.1  2.2   76.0       143.0   \n",
       "2017-01-01 02:00:00   17.0       NaN  89.0  2.0  2.3  140.0       142.0   \n",
       "2017-01-01 03:00:00   24.0       NaN  90.0  1.8  2.5  107.0        51.0   \n",
       "2017-01-01 04:00:00   25.0       NaN  90.0  1.7  3.6   96.0       106.0   \n",
       "\n",
       "                     WIND_SPEED  WS_HR  \n",
       "datetime                                \n",
       "2017-01-01 00:00:00         1.4    0.1  \n",
       "2017-01-01 01:00:00         0.5    0.6  \n",
       "2017-01-01 02:00:00         0.5    0.6  \n",
       "2017-01-01 03:00:00         0.5    0.4  \n",
       "2017-01-01 04:00:00         1.0    0.5  "
      ]
     },
     "execution_count": 4,
     "metadata": {},
     "output_type": "execute_result"
    }
   ],
   "source": [
    "df.head()"
   ]
  },
  {
   "cell_type": "markdown",
   "metadata": {
    "colab_type": "text",
    "id": "T-ex2xjzcvE5"
   },
   "source": [
    "# 第 5 章：計算"
   ]
  },
  {
   "cell_type": "markdown",
   "metadata": {
    "colab_type": "text",
    "id": "ywgZ8koTUT_o"
   },
   "source": [
    "## 四則運算"
   ]
  },
  {
   "cell_type": "markdown",
   "metadata": {
    "colab_type": "text",
    "id": "faPx2WWpUdAp"
   },
   "source": [
    "在 Pandas 內做四則運算是相當容易的，只要加上對應的運算子 `+`, `-`, `*`, `/` 就可以了。"
   ]
  },
  {
   "cell_type": "code",
   "execution_count": 5,
   "metadata": {},
   "outputs": [
    {
     "data": {
      "text/html": [
       "<div>\n",
       "<style scoped>\n",
       "    .dataframe tbody tr th:only-of-type {\n",
       "        vertical-align: middle;\n",
       "    }\n",
       "\n",
       "    .dataframe tbody tr th {\n",
       "        vertical-align: top;\n",
       "    }\n",
       "\n",
       "    .dataframe thead th {\n",
       "        text-align: right;\n",
       "    }\n",
       "</style>\n",
       "<table border=\"1\" class=\"dataframe\">\n",
       "  <thead>\n",
       "    <tr style=\"text-align: right;\">\n",
       "      <th></th>\n",
       "      <th>AMB_TEMP</th>\n",
       "      <th>CH4</th>\n",
       "      <th>CO</th>\n",
       "      <th>NMHC</th>\n",
       "      <th>NO</th>\n",
       "      <th>NO2</th>\n",
       "      <th>NOx</th>\n",
       "      <th>O3</th>\n",
       "      <th>PM10</th>\n",
       "      <th>PM2.5</th>\n",
       "      <th>RAINFALL</th>\n",
       "      <th>RH</th>\n",
       "      <th>SO2</th>\n",
       "      <th>THC</th>\n",
       "      <th>WD_HR</th>\n",
       "      <th>WIND_DIREC</th>\n",
       "      <th>WIND_SPEED</th>\n",
       "      <th>WS_HR</th>\n",
       "      <th>ONE</th>\n",
       "    </tr>\n",
       "    <tr>\n",
       "      <th>datetime</th>\n",
       "      <th></th>\n",
       "      <th></th>\n",
       "      <th></th>\n",
       "      <th></th>\n",
       "      <th></th>\n",
       "      <th></th>\n",
       "      <th></th>\n",
       "      <th></th>\n",
       "      <th></th>\n",
       "      <th></th>\n",
       "      <th></th>\n",
       "      <th></th>\n",
       "      <th></th>\n",
       "      <th></th>\n",
       "      <th></th>\n",
       "      <th></th>\n",
       "      <th></th>\n",
       "      <th></th>\n",
       "      <th></th>\n",
       "    </tr>\n",
       "  </thead>\n",
       "  <tbody>\n",
       "    <tr>\n",
       "      <th>2017-01-01 00:00:00</th>\n",
       "      <td>20.0</td>\n",
       "      <td>2.0</td>\n",
       "      <td>0.20</td>\n",
       "      <td>0.04</td>\n",
       "      <td>1.7</td>\n",
       "      <td>7.5</td>\n",
       "      <td>9.2</td>\n",
       "      <td>25.0</td>\n",
       "      <td>67.0</td>\n",
       "      <td>18.0</td>\n",
       "      <td>NaN</td>\n",
       "      <td>88.0</td>\n",
       "      <td>1.5</td>\n",
       "      <td>2.0</td>\n",
       "      <td>33.0</td>\n",
       "      <td>37.0</td>\n",
       "      <td>1.4</td>\n",
       "      <td>0.1</td>\n",
       "      <td>1</td>\n",
       "    </tr>\n",
       "    <tr>\n",
       "      <th>2017-01-01 01:00:00</th>\n",
       "      <td>20.0</td>\n",
       "      <td>2.2</td>\n",
       "      <td>0.19</td>\n",
       "      <td>0.05</td>\n",
       "      <td>1.9</td>\n",
       "      <td>7.9</td>\n",
       "      <td>9.8</td>\n",
       "      <td>18.0</td>\n",
       "      <td>52.0</td>\n",
       "      <td>14.0</td>\n",
       "      <td>NaN</td>\n",
       "      <td>88.0</td>\n",
       "      <td>2.1</td>\n",
       "      <td>2.2</td>\n",
       "      <td>76.0</td>\n",
       "      <td>143.0</td>\n",
       "      <td>0.5</td>\n",
       "      <td>0.6</td>\n",
       "      <td>1</td>\n",
       "    </tr>\n",
       "    <tr>\n",
       "      <th>2017-01-01 02:00:00</th>\n",
       "      <td>19.0</td>\n",
       "      <td>2.2</td>\n",
       "      <td>0.24</td>\n",
       "      <td>0.08</td>\n",
       "      <td>2.0</td>\n",
       "      <td>9.3</td>\n",
       "      <td>11.0</td>\n",
       "      <td>13.0</td>\n",
       "      <td>59.0</td>\n",
       "      <td>17.0</td>\n",
       "      <td>NaN</td>\n",
       "      <td>89.0</td>\n",
       "      <td>2.0</td>\n",
       "      <td>2.3</td>\n",
       "      <td>140.0</td>\n",
       "      <td>142.0</td>\n",
       "      <td>0.5</td>\n",
       "      <td>0.6</td>\n",
       "      <td>1</td>\n",
       "    </tr>\n",
       "    <tr>\n",
       "      <th>2017-01-01 03:00:00</th>\n",
       "      <td>19.0</td>\n",
       "      <td>2.4</td>\n",
       "      <td>0.24</td>\n",
       "      <td>0.11</td>\n",
       "      <td>1.4</td>\n",
       "      <td>9.5</td>\n",
       "      <td>11.0</td>\n",
       "      <td>8.5</td>\n",
       "      <td>53.0</td>\n",
       "      <td>24.0</td>\n",
       "      <td>NaN</td>\n",
       "      <td>90.0</td>\n",
       "      <td>1.8</td>\n",
       "      <td>2.5</td>\n",
       "      <td>107.0</td>\n",
       "      <td>51.0</td>\n",
       "      <td>0.5</td>\n",
       "      <td>0.4</td>\n",
       "      <td>1</td>\n",
       "    </tr>\n",
       "    <tr>\n",
       "      <th>2017-01-01 04:00:00</th>\n",
       "      <td>18.0</td>\n",
       "      <td>3.4</td>\n",
       "      <td>0.23</td>\n",
       "      <td>0.12</td>\n",
       "      <td>6.8</td>\n",
       "      <td>11.0</td>\n",
       "      <td>17.0</td>\n",
       "      <td>1.8</td>\n",
       "      <td>37.0</td>\n",
       "      <td>25.0</td>\n",
       "      <td>NaN</td>\n",
       "      <td>90.0</td>\n",
       "      <td>1.7</td>\n",
       "      <td>3.6</td>\n",
       "      <td>96.0</td>\n",
       "      <td>106.0</td>\n",
       "      <td>1.0</td>\n",
       "      <td>0.5</td>\n",
       "      <td>1</td>\n",
       "    </tr>\n",
       "  </tbody>\n",
       "</table>\n",
       "</div>"
      ],
      "text/plain": [
       "                     AMB_TEMP  CH4    CO  NMHC   NO   NO2   NOx    O3  PM10  \\\n",
       "datetime                                                                      \n",
       "2017-01-01 00:00:00      20.0  2.0  0.20  0.04  1.7   7.5   9.2  25.0  67.0   \n",
       "2017-01-01 01:00:00      20.0  2.2  0.19  0.05  1.9   7.9   9.8  18.0  52.0   \n",
       "2017-01-01 02:00:00      19.0  2.2  0.24  0.08  2.0   9.3  11.0  13.0  59.0   \n",
       "2017-01-01 03:00:00      19.0  2.4  0.24  0.11  1.4   9.5  11.0   8.5  53.0   \n",
       "2017-01-01 04:00:00      18.0  3.4  0.23  0.12  6.8  11.0  17.0   1.8  37.0   \n",
       "\n",
       "                     PM2.5  RAINFALL    RH  SO2  THC  WD_HR  WIND_DIREC  \\\n",
       "datetime                                                                  \n",
       "2017-01-01 00:00:00   18.0       NaN  88.0  1.5  2.0   33.0        37.0   \n",
       "2017-01-01 01:00:00   14.0       NaN  88.0  2.1  2.2   76.0       143.0   \n",
       "2017-01-01 02:00:00   17.0       NaN  89.0  2.0  2.3  140.0       142.0   \n",
       "2017-01-01 03:00:00   24.0       NaN  90.0  1.8  2.5  107.0        51.0   \n",
       "2017-01-01 04:00:00   25.0       NaN  90.0  1.7  3.6   96.0       106.0   \n",
       "\n",
       "                     WIND_SPEED  WS_HR  ONE  \n",
       "datetime                                     \n",
       "2017-01-01 00:00:00         1.4    0.1    1  \n",
       "2017-01-01 01:00:00         0.5    0.6    1  \n",
       "2017-01-01 02:00:00         0.5    0.6    1  \n",
       "2017-01-01 03:00:00         0.5    0.4    1  \n",
       "2017-01-01 04:00:00         1.0    0.5    1  "
      ]
     },
     "execution_count": 5,
     "metadata": {},
     "output_type": "execute_result"
    }
   ],
   "source": [
    "df['ONE'] = 1\n",
    "df.head()"
   ]
  },
  {
   "cell_type": "code",
   "execution_count": 6,
   "metadata": {
    "colab": {
     "autoexec": {
      "startup": false,
      "wait_interval": 0
     },
     "base_uri": "https://localhost:8080/",
     "height": 408
    },
    "colab_type": "code",
    "executionInfo": {
     "elapsed": 951,
     "status": "ok",
     "timestamp": 1530864513413,
     "user": {
      "displayName": "黃種平",
      "photoUrl": "//lh3.googleusercontent.com/-ay6h3dmyraY/AAAAAAAAAAI/AAAAAAAADhg/t8F2AGa00fc/s50-c-k-no/photo.jpg",
      "userId": "114874362450166068432"
     },
     "user_tz": -480
    },
    "id": "uRABtx7UK6Nw",
    "outputId": "5f337ea6-cecc-417a-b011-ce6df29656df"
   },
   "outputs": [
    {
     "data": {
      "text/plain": [
       "datetime\n",
       "2017-01-01 00:00:00     85.0\n",
       "2017-01-01 01:00:00     66.0\n",
       "2017-01-01 02:00:00     76.0\n",
       "2017-01-01 03:00:00     77.0\n",
       "2017-01-01 04:00:00     62.0\n",
       "2017-01-01 05:00:00     85.0\n",
       "2017-01-01 06:00:00     74.0\n",
       "2017-01-01 07:00:00     96.0\n",
       "2017-01-01 08:00:00     91.0\n",
       "2017-01-01 09:00:00    120.0\n",
       "                       ...  \n",
       "2017-12-31 14:00:00    308.0\n",
       "2017-12-31 15:00:00    271.0\n",
       "2017-12-31 16:00:00    257.0\n",
       "2017-12-31 17:00:00    207.0\n",
       "2017-12-31 18:00:00    159.0\n",
       "2017-12-31 19:00:00    141.0\n",
       "2017-12-31 20:00:00    130.0\n",
       "2017-12-31 21:00:00    135.0\n",
       "2017-12-31 22:00:00    123.0\n",
       "2017-12-31 23:00:00    112.0\n",
       "Name: TSP, Length: 8760, dtype: float64"
      ]
     },
     "execution_count": 6,
     "metadata": {},
     "output_type": "execute_result"
    }
   ],
   "source": [
    "# 例：計算總懸浮微粒(TSP)\n",
    "# 單位：μg／m3(微克／立方公尺)\n",
    "# \n",
    "# 參考資料：http://terms.naer.edu.tw/detail/1320663/\n",
    "# 節錄：\n",
    "# 懸浮在空氣中之粒狀物質之總稱，包括10微米以下可被人體呼吸道吸入者，及10微米以上者，兩者總合稱為總懸浮微粒。\n",
    "# 總懸浮微粒為評量大氣中粒狀物質污染程度之指標。\n",
    "# 中華民國台灣地區環境空氣品質標準所定之總懸浮微粒濃度二十四小時平均值為 250μg/m3，年幾何平均值為 130μg/m3。\n",
    "\n",
    "df['TSP'] = df['PM10'] + df['PM2.5']\n",
    "df['TSP']"
   ]
  },
  {
   "cell_type": "markdown",
   "metadata": {
    "colab_type": "text",
    "id": "MCnkhCqVQwe_"
   },
   "source": [
    "## Date Type 相關"
   ]
  },
  {
   "cell_type": "markdown",
   "metadata": {
    "colab_type": "text",
    "id": "wd4oc6eYbJjJ"
   },
   "source": [
    "### `.astype()` :  轉換 Data Type (dtype)\n",
    "\n",
    "每一筆資料都帶有不同的 Column，記錄著不同的資料，這些資料的型態有可能為文字、數值、時間等等，要幫資料賦予正確資料型態，才有辦法做相對應的處理。\n",
    "\n",
    "參考文件：\n",
    "\n",
    "* [pandas.DataFrame.astype](https://pandas.pydata.org/pandas-docs/stable/generated/pandas.DataFrame.astype.html)\n",
    "* [pandas.Series.astype](https://pandas.pydata.org/pandas-docs/stable/generated/pandas.Series.astype.html)\n"
   ]
  },
  {
   "cell_type": "code",
   "execution_count": 7,
   "metadata": {
    "colab": {
     "autoexec": {
      "startup": false,
      "wait_interval": 0
     },
     "base_uri": "https://localhost:8080/",
     "height": 34
    },
    "colab_type": "code",
    "executionInfo": {
     "elapsed": 1218,
     "status": "ok",
     "timestamp": 1530864514958,
     "user": {
      "displayName": "黃種平",
      "photoUrl": "//lh3.googleusercontent.com/-ay6h3dmyraY/AAAAAAAAAAI/AAAAAAAADhg/t8F2AGa00fc/s50-c-k-no/photo.jpg",
      "userId": "114874362450166068432"
     },
     "user_tz": -480
    },
    "id": "wIfgPII9WTIP",
    "outputId": "5068a554-3591-4c42-84dd-8a172e487f9b"
   },
   "outputs": [
    {
     "data": {
      "text/plain": [
       "dtype('float64')"
      ]
     },
     "execution_count": 7,
     "metadata": {},
     "output_type": "execute_result"
    }
   ],
   "source": [
    "# 觀察大氣溫度 (column label: 'AMB_TEMP') 的資料型態\n",
    "df.dtypes['AMB_TEMP']"
   ]
  },
  {
   "cell_type": "code",
   "execution_count": 8,
   "metadata": {
    "colab": {
     "autoexec": {
      "startup": false,
      "wait_interval": 0
     },
     "base_uri": "https://localhost:8080/",
     "height": 34
    },
    "colab_type": "code",
    "executionInfo": {
     "elapsed": 890,
     "status": "ok",
     "timestamp": 1530864516137,
     "user": {
      "displayName": "黃種平",
      "photoUrl": "//lh3.googleusercontent.com/-ay6h3dmyraY/AAAAAAAAAAI/AAAAAAAADhg/t8F2AGa00fc/s50-c-k-no/photo.jpg",
      "userId": "114874362450166068432"
     },
     "user_tz": -480
    },
    "id": "_Thd1_jpRbHP",
    "outputId": "736d1388-f06a-426f-80f8-8ba19b3c552c"
   },
   "outputs": [
    {
     "data": {
      "text/plain": [
       "dtype('O')"
      ]
     },
     "execution_count": 8,
     "metadata": {},
     "output_type": "execute_result"
    }
   ],
   "source": [
    "# 再將大氣溫度轉換成文字型態 (str)\n",
    "df['AMB_TEMP'] = df['AMB_TEMP'].astype(str)\n",
    "# 觀察變化\n",
    "df.dtypes['AMB_TEMP']"
   ]
  },
  {
   "cell_type": "code",
   "execution_count": 9,
   "metadata": {},
   "outputs": [
    {
     "data": {
      "text/plain": [
       "AMB_TEMP       object\n",
       "CH4           float64\n",
       "CO            float64\n",
       "NMHC          float64\n",
       "NO            float64\n",
       "NO2           float64\n",
       "NOx           float64\n",
       "O3            float64\n",
       "PM10          float64\n",
       "PM2.5         float64\n",
       "RAINFALL      float64\n",
       "RH            float64\n",
       "SO2           float64\n",
       "THC           float64\n",
       "WD_HR         float64\n",
       "WIND_DIREC    float64\n",
       "WIND_SPEED    float64\n",
       "WS_HR         float64\n",
       "ONE             int64\n",
       "TSP           float64\n",
       "dtype: object"
      ]
     },
     "execution_count": 9,
     "metadata": {},
     "output_type": "execute_result"
    }
   ],
   "source": [
    "df.dtypes"
   ]
  },
  {
   "cell_type": "code",
   "execution_count": 10,
   "metadata": {
    "colab": {
     "autoexec": {
      "startup": false,
      "wait_interval": 0
     },
     "base_uri": "https://localhost:8080/",
     "height": 34
    },
    "colab_type": "code",
    "executionInfo": {
     "elapsed": 1015,
     "status": "ok",
     "timestamp": 1530864517521,
     "user": {
      "displayName": "黃種平",
      "photoUrl": "//lh3.googleusercontent.com/-ay6h3dmyraY/AAAAAAAAAAI/AAAAAAAADhg/t8F2AGa00fc/s50-c-k-no/photo.jpg",
      "userId": "114874362450166068432"
     },
     "user_tz": -480
    },
    "id": "FXiITdp_WmK3",
    "outputId": "0b8c4f56-26e1-47ac-8593-77b287bd56fa"
   },
   "outputs": [
    {
     "data": {
      "text/plain": [
       "dtype('float64')"
      ]
     },
     "execution_count": 10,
     "metadata": {},
     "output_type": "execute_result"
    }
   ],
   "source": [
    "# 再將大氣溫度轉換成浮點數型態 (float)\n",
    "df['AMB_TEMP'] = df['AMB_TEMP'].astype(float)\n",
    "# 觀察變化\n",
    "df.dtypes['AMB_TEMP']"
   ]
  },
  {
   "cell_type": "markdown",
   "metadata": {
    "colab_type": "text",
    "id": "6qAPStn9QnUy"
   },
   "source": [
    "### `pandas.to_datetime()`：自動轉換日期資料，並將 Date Type 轉換為 datetime"
   ]
  },
  {
   "cell_type": "markdown",
   "metadata": {
    "colab_type": "text",
    "id": "vt9KZiwhUEnm"
   },
   "source": [
    "當資料中有關於與日期相關的 column 時，可以考慮轉換成 `datetime` 的 data type 以利處理。\n",
    "\n",
    "轉換的情境有兩個：\n",
    "\n",
    "1. 某個 column 有時間日期的相關資料，如 `2018-01-01`, `2018/01/01`, `20180101`, `20180101 01:00:00`......等\n",
    "1. 分散在多個 column 的日期相關資料，如 `pd.DataFrame({'year':[2018], 'month':[1], 'day': [1]]})`\n",
    "\n",
    "Pandas 在處理的時候，會依照部分預設的規則，去猜測時間日期的格式進而轉換，當然也可以手動設定時間日期格式。\n",
    "\n",
    "* 常用 Parameters：\n",
    "    1. `format`：時間日期的格式，例如 `%d-%m-%y` 即為「年-月-日」的格式。有關日期格式的指定方法，請參見 Python 官方文件中，有關 [`strftime()`  和 `strptime()` function 的說明])(https://docs.python.org/3/library/datetime.html#strftime-and-strptime-behavior)\n",
    "    1. `infer_datetime_format`：是否要在沒有指定時間日期格式的情況，自行推論日期格式。\n",
    "        * `True`：選擇讓 Pandas 推論時間日期格式。如果確定資料格式是可以被推論的，將此 Parameter 設為 True 時，將可以加快處理的速度。\n",
    "        * `False`：選擇不讓 Pandas 推論時間日期格式。通常設定為 `False` 時，會搭配設定時間日期格式。\n",
    "* 參考文件：\n",
    "    * [pandas.to_datetime](https://pandas.pydata.org/pandas-docs/stable/generated/pandas.to_datetime.html)\n",
    "    * [Time Series / Date functionality | Converting to Timestamps](http://pandas.pydata.org/pandas-docs/stable/timeseries.html#converting-to-timestamps)"
   ]
  },
  {
   "cell_type": "code",
   "execution_count": 11,
   "metadata": {
    "colab": {
     "autoexec": {
      "startup": false,
      "wait_interval": 0
     },
     "base_uri": "https://localhost:8080/",
     "height": 391
    },
    "colab_type": "code",
    "executionInfo": {
     "elapsed": 914,
     "status": "ok",
     "timestamp": 1531288662507,
     "user": {
      "displayName": "黃種平",
      "photoUrl": "//lh3.googleusercontent.com/-ay6h3dmyraY/AAAAAAAAAAI/AAAAAAAADhg/t8F2AGa00fc/s50-c-k-no/photo.jpg",
      "userId": "114874362450166068432"
     },
     "user_tz": -480
    },
    "id": "YmMUNzmh6keg",
    "outputId": "be786867-6150-4f4d-c92e-147949e27a2c"
   },
   "outputs": [
    {
     "data": {
      "text/plain": [
       "0      2017-01-01 00:00:00\n",
       "1      2017-01-01 01:00:00\n",
       "2      2017-01-01 02:00:00\n",
       "3      2017-01-01 03:00:00\n",
       "4      2017-01-01 04:00:00\n",
       "5      2017-01-01 05:00:00\n",
       "6      2017-01-01 06:00:00\n",
       "7      2017-01-01 07:00:00\n",
       "8      2017-01-01 08:00:00\n",
       "9      2017-01-01 09:00:00\n",
       "               ...        \n",
       "8750   2017-12-31 14:00:00\n",
       "8751   2017-12-31 15:00:00\n",
       "8752   2017-12-31 16:00:00\n",
       "8753   2017-12-31 17:00:00\n",
       "8754   2017-12-31 18:00:00\n",
       "8755   2017-12-31 19:00:00\n",
       "8756   2017-12-31 20:00:00\n",
       "8757   2017-12-31 21:00:00\n",
       "8758   2017-12-31 22:00:00\n",
       "8759   2017-12-31 23:00:00\n",
       "Name: datetime, Length: 8760, dtype: datetime64[ns]"
      ]
     },
     "execution_count": 11,
     "metadata": {},
     "output_type": "execute_result"
    }
   ],
   "source": [
    "pd.to_datetime(df_noindex['datetime'])"
   ]
  },
  {
   "cell_type": "code",
   "execution_count": 12,
   "metadata": {},
   "outputs": [
    {
     "name": "stdout",
     "output_type": "stream",
     "text": [
      "4.77 ms ± 1.58 ms per loop (mean ± std. dev. of 7 runs, 100 loops each)\n"
     ]
    }
   ],
   "source": [
    "%timeit pd.to_datetime(df_noindex['datetime'])"
   ]
  },
  {
   "cell_type": "code",
   "execution_count": 13,
   "metadata": {},
   "outputs": [
    {
     "name": "stdout",
     "output_type": "stream",
     "text": [
      "5.76 ms ± 995 µs per loop (mean ± std. dev. of 7 runs, 100 loops each)\n"
     ]
    }
   ],
   "source": [
    "%timeit pd.to_datetime(df_noindex['datetime'], infer_datetime_format=True)"
   ]
  },
  {
   "cell_type": "markdown",
   "metadata": {
    "colab_type": "text",
    "id": "xd-fUpqJlgV_"
   },
   "source": [
    "## DataFrame 常用運算方法\n"
   ]
  },
  {
   "cell_type": "markdown",
   "metadata": {
    "colab_type": "text",
    "id": "pyOVTpvvbo87"
   },
   "source": [
    "### `.min()` : 計算最小值\n",
    "\n",
    "* 常用 Parameters：\n",
    "    1. `axis`：\n",
    "        * `1` : 以 column 方向計算\n",
    "        * `0` : 以 row 方向計算\n",
    "    1. `skipna`：預設為 `True`\n",
    "        * `True` : 計算統計量的時候忽略 NA (`np.nan`，`None`)\n",
    "        * `False` : 只要資料中出現一筆 NA，則回傳 `NaN`\n",
    "* Return : Series 或 DataFrame\n",
    "* 參考文件：\n",
    "    * [pandas.DataFrame.min](https://pandas.pydata.org/pandas-docs/stable/generated/pandas.DataFrame.min.html)\n",
    "    * [pandas.Series.min](http://pandas.pydata.org/pandas-docs/stable/generated/pandas.Series.min.html)\n"
   ]
  },
  {
   "cell_type": "code",
   "execution_count": 14,
   "metadata": {
    "colab": {
     "autoexec": {
      "startup": false,
      "wait_interval": 0
     },
     "base_uri": "https://localhost:8080/",
     "height": 357
    },
    "colab_type": "code",
    "executionInfo": {
     "elapsed": 812,
     "status": "ok",
     "timestamp": 1530864518674,
     "user": {
      "displayName": "黃種平",
      "photoUrl": "//lh3.googleusercontent.com/-ay6h3dmyraY/AAAAAAAAAAI/AAAAAAAADhg/t8F2AGa00fc/s50-c-k-no/photo.jpg",
      "userId": "114874362450166068432"
     },
     "user_tz": -480
    },
    "id": "vyLCIRAtbrVi",
    "outputId": "3722c3d1-5418-445f-b730-c988281200d0"
   },
   "outputs": [
    {
     "name": "stdout",
     "output_type": "stream",
     "text": [
      "AMB_TEMP      13.00\n",
      "CH4            1.70\n",
      "CO             0.02\n",
      "NMHC          -0.03\n",
      "NO            -0.50\n",
      "NO2            0.70\n",
      "NOx            1.30\n",
      "O3             1.00\n",
      "PM10           9.00\n",
      "PM2.5          2.00\n",
      "RAINFALL       0.20\n",
      "RH            29.00\n",
      "SO2            0.00\n",
      "THC            1.70\n",
      "WD_HR          0.00\n",
      "WIND_DIREC     0.00\n",
      "WIND_SPEED     0.40\n",
      "WS_HR          0.00\n",
      "ONE            1.00\n",
      "TSP           11.00\n",
      "dtype: float64\n"
     ]
    }
   ],
   "source": [
    "# 例：計算各空氣品質監測項目的最小值\n",
    "print(df.min())"
   ]
  },
  {
   "cell_type": "markdown",
   "metadata": {
    "colab_type": "text",
    "id": "vONaIB0_MswE"
   },
   "source": [
    "### `.max()`：計算最大值\n",
    "\n",
    "* 常用 Parameters：\n",
    "    1. `axis`：\n",
    "        * `1` : 以 column 方向計算\n",
    "        * `0` : 以 row 方向計算\n",
    "    1. `skipna`：預設為 `True`\n",
    "        * `True` : 計算統計量的時候忽略 NA (`np.nan`，`None`)\n",
    "        * `False` : 只要資料中出現一筆 NA，則回傳 `NaN`\n",
    "* Return : Series 或 DataFrame\n",
    "* 參考文件\n",
    "    * [pandas.DataFrame.max](https://pandas.pydata.org/pandas-docs/stable/generated/pandas.DataFrame.max.html)\n",
    "    * [pandas.Series.max](https://pandas.pydata.org/pandas-docs/stable/generated/pandas.Series.max.html)\n",
    "\n",
    "    \n"
   ]
  },
  {
   "cell_type": "code",
   "execution_count": 15,
   "metadata": {
    "colab": {
     "autoexec": {
      "startup": false,
      "wait_interval": 0
     },
     "base_uri": "https://localhost:8080/",
     "height": 357
    },
    "colab_type": "code",
    "executionInfo": {
     "elapsed": 1008,
     "status": "ok",
     "timestamp": 1530864520122,
     "user": {
      "displayName": "黃種平",
      "photoUrl": "//lh3.googleusercontent.com/-ay6h3dmyraY/AAAAAAAAAAI/AAAAAAAADhg/t8F2AGa00fc/s50-c-k-no/photo.jpg",
      "userId": "114874362450166068432"
     },
     "user_tz": -480
    },
    "id": "TakL2MskhZcj",
    "outputId": "fbd9a8cf-f516-4f1a-fea0-456e76765052"
   },
   "outputs": [
    {
     "name": "stdout",
     "output_type": "stream",
     "text": [
      "AMB_TEMP       34.00\n",
      "CH4             8.60\n",
      "CO              1.84\n",
      "NMHC            3.09\n",
      "NO             38.00\n",
      "NO2            38.00\n",
      "NOx            65.00\n",
      "O3            105.00\n",
      "PM10          549.00\n",
      "PM2.5         121.00\n",
      "RAINFALL       72.00\n",
      "RH             93.00\n",
      "SO2            43.00\n",
      "THC             8.60\n",
      "WD_HR         360.00\n",
      "WIND_DIREC    360.00\n",
      "WIND_SPEED     12.00\n",
      "WS_HR          10.00\n",
      "ONE             1.00\n",
      "TSP           586.00\n",
      "dtype: float64\n"
     ]
    }
   ],
   "source": [
    "# 例：計算各空氣品質監測項目的最大值\n",
    "print(df.max())"
   ]
  },
  {
   "cell_type": "markdown",
   "metadata": {
    "colab_type": "text",
    "id": "ZmRndpVcMvTb"
   },
   "source": [
    "### `.mean()`：計算平均值\n",
    "\n",
    "* 常用 Parameters：\n",
    "    1. `axis`：\n",
    "        * `1` : 以 column 方向計算\n",
    "        * `0` : 以 row 方向計算\n",
    "    1. `skipna`：預設為 `True`\n",
    "        * `True` : 計算統計量的時候忽略 NA (`np.nan`，`None`)\n",
    "        * `False` : 只要資料中出現一筆 NA，則回傳 `NaN`\n",
    "* Return : Series 或 DataFrame\n",
    "* 參考文件\n",
    "    * [pandas.DataFrame.mean](https://pandas.pydata.org/pandas-docs/stable/generated/pandas.DataFrame.mean.html)\n",
    "    * [pandas.Series.mean](https://pandas.pydata.org/pandas-docs/stable/generated/pandas.Series.mean.html)\n",
    "\n"
   ]
  },
  {
   "cell_type": "code",
   "execution_count": 16,
   "metadata": {
    "colab": {
     "autoexec": {
      "startup": false,
      "wait_interval": 0
     },
     "base_uri": "https://localhost:8080/",
     "height": 357
    },
    "colab_type": "code",
    "executionInfo": {
     "elapsed": 1367,
     "status": "ok",
     "timestamp": 1530864521860,
     "user": {
      "displayName": "黃種平",
      "photoUrl": "//lh3.googleusercontent.com/-ay6h3dmyraY/AAAAAAAAAAI/AAAAAAAADhg/t8F2AGa00fc/s50-c-k-no/photo.jpg",
      "userId": "114874362450166068432"
     },
     "user_tz": -480
    },
    "id": "PMbJOOWWhcjv",
    "outputId": "e523c787-c368-4666-e879-553b09e14a92"
   },
   "outputs": [
    {
     "name": "stdout",
     "output_type": "stream",
     "text": [
      "AMB_TEMP       24.590633\n",
      "CH4             2.034242\n",
      "CO              0.281980\n",
      "NMHC            0.072598\n",
      "NO              2.197697\n",
      "NO2             9.169885\n",
      "NOx            11.363841\n",
      "O3             31.892605\n",
      "PM10           70.665159\n",
      "PM2.5          27.819263\n",
      "RAINFALL        3.712289\n",
      "RH             78.943999\n",
      "SO2             2.953423\n",
      "THC             2.105518\n",
      "WD_HR         111.034743\n",
      "WIND_DIREC    113.507639\n",
      "WIND_SPEED      3.393404\n",
      "WS_HR           2.495462\n",
      "ONE             1.000000\n",
      "TSP            98.328892\n",
      "dtype: float64\n"
     ]
    }
   ],
   "source": [
    "# 例：計算各空氣品質監測項目的平均值\n",
    "print(df.mean())"
   ]
  },
  {
   "cell_type": "markdown",
   "metadata": {
    "colab_type": "text",
    "id": "TBz5MvgUMwdV"
   },
   "source": [
    "### `.std()`：計算標準差\n",
    "\n",
    "* 常用 Parameters：\n",
    "    1. `axis`：\n",
    "        * `1` : 以 column 方向計算\n",
    "        * `0` : 以 row 方向計算\n",
    "    1. `skipna`：預設為 `True`\n",
    "        * `True` : 計算統計量的時候忽略 NA (`np.nan`，`None`)\n",
    "        * `False` : 只要資料中出現一筆 NA，則回傳 `NaN`\n",
    "* Return : Series 或 DataFrame\n",
    "* 參考文件：\n",
    "    * [pandas.DataFrame.std](https://pandas.pydata.org/pandas-docs/stable/generated/pandas.DataFrame.std.html)\n",
    "    * [pandas.Series.std](https://pandas.pydata.org/pandas-docs/stable/generated/pandas.Series.std.html)"
   ]
  },
  {
   "cell_type": "code",
   "execution_count": 17,
   "metadata": {
    "colab": {
     "autoexec": {
      "startup": false,
      "wait_interval": 0
     },
     "base_uri": "https://localhost:8080/",
     "height": 357
    },
    "colab_type": "code",
    "executionInfo": {
     "elapsed": 1025,
     "status": "ok",
     "timestamp": 1530864523295,
     "user": {
      "displayName": "黃種平",
      "photoUrl": "//lh3.googleusercontent.com/-ay6h3dmyraY/AAAAAAAAAAI/AAAAAAAADhg/t8F2AGa00fc/s50-c-k-no/photo.jpg",
      "userId": "114874362450166068432"
     },
     "user_tz": -480
    },
    "id": "xe-JtffUhfe0",
    "outputId": "dae5fdc0-fcfb-4379-90f4-3d0df9c89e82"
   },
   "outputs": [
    {
     "name": "stdout",
     "output_type": "stream",
     "text": [
      "AMB_TEMP        5.065055\n",
      "CH4             0.334770\n",
      "CO              0.133750\n",
      "NMHC            0.077559\n",
      "NO              2.084884\n",
      "NO2             5.037761\n",
      "NOx             6.142313\n",
      "O3             17.085349\n",
      "PM10           48.478237\n",
      "PM2.5          15.274430\n",
      "RAINFALL        8.064943\n",
      "RH              9.033272\n",
      "SO2             1.877609\n",
      "THC             0.366224\n",
      "WD_HR         101.564899\n",
      "WIND_DIREC    102.146535\n",
      "WIND_SPEED      2.139149\n",
      "WS_HR           1.829496\n",
      "ONE             0.000000\n",
      "TSP            57.952604\n",
      "dtype: float64\n"
     ]
    }
   ],
   "source": [
    "# 例：計算各空氣品質監測項目的標準差\n",
    "print(df.std())"
   ]
  },
  {
   "cell_type": "markdown",
   "metadata": {
    "colab_type": "text",
    "id": "vjZ4ZBqwMxUf"
   },
   "source": [
    "### `.median()`：計算中位數\n",
    "\n",
    "* 常用 Parameters：\n",
    "    1. `axis`：\n",
    "        * `1` : 以 column 方向計算\n",
    "        * `0` : 以 row 方向計算\n",
    "    1. `skipna`：預設為 `True`\n",
    "        * `True` : 計算統計量的時候忽略 NA (`np.nan`，`None`)\n",
    "        * `False` : 只要資料中出現一筆 NA，則回傳 `NaN`\n",
    "* Return : Series 或 DataFrame\n",
    "* 參考文件：\n",
    "    * [pandas.DataFrame.median](https://pandas.pydata.org/pandas-docs/stable/generated/pandas.DataFrame.median.html)\n",
    "    * [pandas.Series.median](https://pandas.pydata.org/pandas-docs/stable/generated/pandas.Series.median.html)\n",
    "\n",
    "\n"
   ]
  },
  {
   "cell_type": "code",
   "execution_count": 18,
   "metadata": {
    "colab": {
     "autoexec": {
      "startup": false,
      "wait_interval": 0
     },
     "base_uri": "https://localhost:8080/",
     "height": 357
    },
    "colab_type": "code",
    "executionInfo": {
     "elapsed": 1071,
     "status": "ok",
     "timestamp": 1530864524635,
     "user": {
      "displayName": "黃種平",
      "photoUrl": "//lh3.googleusercontent.com/-ay6h3dmyraY/AAAAAAAAAAI/AAAAAAAADhg/t8F2AGa00fc/s50-c-k-no/photo.jpg",
      "userId": "114874362450166068432"
     },
     "user_tz": -480
    },
    "id": "mgAf6MlnhmGN",
    "outputId": "0a5cc4a4-4d81-44ff-c6f1-a5d2f7c5f8a2"
   },
   "outputs": [
    {
     "name": "stdout",
     "output_type": "stream",
     "text": [
      "AMB_TEMP      25.00\n",
      "CH4            1.90\n",
      "CO             0.26\n",
      "NMHC           0.06\n",
      "NO             1.70\n",
      "NO2            8.00\n",
      "NOx            9.90\n",
      "O3            30.00\n",
      "PM10          59.00\n",
      "PM2.5         24.00\n",
      "RAINFALL       0.80\n",
      "RH            80.00\n",
      "SO2            2.40\n",
      "THC            2.00\n",
      "WD_HR         68.00\n",
      "WIND_DIREC    71.00\n",
      "WIND_SPEED     2.90\n",
      "WS_HR          2.00\n",
      "ONE            1.00\n",
      "TSP           85.00\n",
      "dtype: float64\n"
     ]
    }
   ],
   "source": [
    "# 例：計算各空氣品質監測項目的中位數\n",
    "print(df.median())"
   ]
  },
  {
   "cell_type": "markdown",
   "metadata": {
    "colab_type": "text",
    "id": "rKJUnWAkMz07"
   },
   "source": [
    "### .quantile()：計算分位數\n",
    "\n",
    "* 常用 Parameters : \n",
    "    1. `q` : 分位數，預設為 0.5。可以輸入\n",
    "        * 浮點數 `float` (例如 `0.25`, `0.5`, `0.75`)：計算一個分位數\n",
    "        * `array-like` （可迭代）的物件 (例如 \\[0.25, 0.5\\])：計算多個分位數\n",
    "    1. `axis`：\n",
    "        * `1` : 以 column 方向計算\n",
    "        * `0` : 以 row 方向計算\n",
    "    1. `numeric_only`：是否僅允許輸入數值型資料，預設為 `True`\n",
    "        * `True`：只計算數值型資料\n",
    "        * `False`：不只數值型資料，若資料中包含 `datetime` 和 `timedelta` 也會計算\n",
    "    1. `interpolation` : 插補法，預設為 `linear`（線性）\n",
    "* 參考文件：\n",
    "    * [pandas.DataFrame.quantile](https://pandas.pydata.org/pandas-docs/stable/generated/pandas.DataFrame.quantile.html)\n",
    "    * [pandas.Series.quantile](https://pandas.pydata.org/pandas-docs/stable/generated/pandas.Series.quantile.html)\n",
    "\n"
   ]
  },
  {
   "cell_type": "markdown",
   "metadata": {
    "colab_type": "text",
    "id": "8kUXhl-5tjCa"
   },
   "source": [
    "> 備註：\n",
    ">\n",
    "> 計算分位數時，如果資料中有包含 NA，則會自動忽略此筆資料。\n",
    "> \n",
    "> 例如有 10 筆資料，其中一筆為 NA，則計算時只會拿 9 筆資料來計算分位數。"
   ]
  },
  {
   "cell_type": "code",
   "execution_count": 19,
   "metadata": {
    "colab": {
     "autoexec": {
      "startup": false,
      "wait_interval": 0
     },
     "base_uri": "https://localhost:8080/",
     "height": 131
    },
    "colab_type": "code",
    "executionInfo": {
     "elapsed": 910,
     "status": "ok",
     "timestamp": 1530864537118,
     "user": {
      "displayName": "黃種平",
      "photoUrl": "//lh3.googleusercontent.com/-ay6h3dmyraY/AAAAAAAAAAI/AAAAAAAADhg/t8F2AGa00fc/s50-c-k-no/photo.jpg",
      "userId": "114874362450166068432"
     },
     "user_tz": -480
    },
    "id": "YJmWwjrgoBXY",
    "outputId": "e7ed2914-3d90-40dc-e806-c81cbf67f6b2"
   },
   "outputs": [
    {
     "data": {
      "text/html": [
       "<div>\n",
       "<style scoped>\n",
       "    .dataframe tbody tr th:only-of-type {\n",
       "        vertical-align: middle;\n",
       "    }\n",
       "\n",
       "    .dataframe tbody tr th {\n",
       "        vertical-align: top;\n",
       "    }\n",
       "\n",
       "    .dataframe thead th {\n",
       "        text-align: right;\n",
       "    }\n",
       "</style>\n",
       "<table border=\"1\" class=\"dataframe\">\n",
       "  <thead>\n",
       "    <tr style=\"text-align: right;\">\n",
       "      <th></th>\n",
       "      <th>AMB_TEMP</th>\n",
       "      <th>CH4</th>\n",
       "      <th>CO</th>\n",
       "      <th>NMHC</th>\n",
       "      <th>NO</th>\n",
       "      <th>NO2</th>\n",
       "      <th>NOx</th>\n",
       "      <th>O3</th>\n",
       "      <th>PM10</th>\n",
       "      <th>PM2.5</th>\n",
       "      <th>RAINFALL</th>\n",
       "      <th>RH</th>\n",
       "      <th>SO2</th>\n",
       "      <th>THC</th>\n",
       "      <th>WD_HR</th>\n",
       "      <th>WIND_DIREC</th>\n",
       "      <th>WIND_SPEED</th>\n",
       "      <th>WS_HR</th>\n",
       "      <th>ONE</th>\n",
       "      <th>TSP</th>\n",
       "    </tr>\n",
       "  </thead>\n",
       "  <tbody>\n",
       "    <tr>\n",
       "      <th>0.25</th>\n",
       "      <td>20.0</td>\n",
       "      <td>1.9</td>\n",
       "      <td>0.19</td>\n",
       "      <td>0.04</td>\n",
       "      <td>1.1</td>\n",
       "      <td>5.5</td>\n",
       "      <td>7.1</td>\n",
       "      <td>19.0</td>\n",
       "      <td>42.0</td>\n",
       "      <td>18.0</td>\n",
       "      <td>0.4</td>\n",
       "      <td>73.0</td>\n",
       "      <td>1.8</td>\n",
       "      <td>1.9</td>\n",
       "      <td>24.5</td>\n",
       "      <td>27.0</td>\n",
       "      <td>1.7</td>\n",
       "      <td>1.1</td>\n",
       "      <td>1.0</td>\n",
       "      <td>60.0</td>\n",
       "    </tr>\n",
       "    <tr>\n",
       "      <th>0.75</th>\n",
       "      <td>29.0</td>\n",
       "      <td>2.1</td>\n",
       "      <td>0.35</td>\n",
       "      <td>0.09</td>\n",
       "      <td>2.6</td>\n",
       "      <td>12.0</td>\n",
       "      <td>14.0</td>\n",
       "      <td>43.0</td>\n",
       "      <td>83.0</td>\n",
       "      <td>35.0</td>\n",
       "      <td>3.2</td>\n",
       "      <td>86.0</td>\n",
       "      <td>3.5</td>\n",
       "      <td>2.2</td>\n",
       "      <td>192.0</td>\n",
       "      <td>196.0</td>\n",
       "      <td>4.7</td>\n",
       "      <td>3.3</td>\n",
       "      <td>1.0</td>\n",
       "      <td>120.0</td>\n",
       "    </tr>\n",
       "  </tbody>\n",
       "</table>\n",
       "</div>"
      ],
      "text/plain": [
       "      AMB_TEMP  CH4    CO  NMHC   NO   NO2   NOx    O3  PM10  PM2.5  RAINFALL  \\\n",
       "0.25      20.0  1.9  0.19  0.04  1.1   5.5   7.1  19.0  42.0   18.0       0.4   \n",
       "0.75      29.0  2.1  0.35  0.09  2.6  12.0  14.0  43.0  83.0   35.0       3.2   \n",
       "\n",
       "        RH  SO2  THC  WD_HR  WIND_DIREC  WIND_SPEED  WS_HR  ONE    TSP  \n",
       "0.25  73.0  1.8  1.9   24.5        27.0         1.7    1.1  1.0   60.0  \n",
       "0.75  86.0  3.5  2.2  192.0       196.0         4.7    3.3  1.0  120.0  "
      ]
     },
     "execution_count": 19,
     "metadata": {},
     "output_type": "execute_result"
    }
   ],
   "source": [
    "# 例：計算各空氣品質監測項目的「第一四分位數」和「第三四分位數」\n",
    "df.quantile(q=[0.25, 0.75])"
   ]
  },
  {
   "cell_type": "markdown",
   "metadata": {
    "colab_type": "text",
    "id": "m9OqdI3bMyG1"
   },
   "source": [
    "### `.mode()` : 計算眾數 \n",
    "\n",
    "* 常用 Parameters：\n",
    "    1. `axis`：\n",
    "        * `1` : 以 column 方向計算\n",
    "        * `0` : 以 row 方向計算\n",
    "    1. `skipna`：預設為 `True`\n",
    "        * `True` : 計算統計量的時候忽略 NA (`np.nan`，`None`)\n",
    "        * `False` : 只要資料中出現一筆 NA，則回傳 `NaN`\n",
    "* Return : Series 或 DataFrame\n",
    "* 參考文件：\n",
    "    * [pandas.DataFrame.mode](https://pandas.pydata.org/pandas-docs/stable/generated/pandas.DataFrame.mode.html)\n",
    "    * [pandas.Series.mode](https://pandas.pydata.org/pandas-docs/stable/generated/pandas.Series.mode.html)\n",
    "\n",
    "\n"
   ]
  },
  {
   "cell_type": "code",
   "execution_count": 20,
   "metadata": {
    "colab": {
     "autoexec": {
      "startup": false,
      "wait_interval": 0
     },
     "base_uri": "https://localhost:8080/",
     "height": 102
    },
    "colab_type": "code",
    "executionInfo": {
     "elapsed": 1057,
     "status": "ok",
     "timestamp": 1530864526066,
     "user": {
      "displayName": "黃種平",
      "photoUrl": "//lh3.googleusercontent.com/-ay6h3dmyraY/AAAAAAAAAAI/AAAAAAAADhg/t8F2AGa00fc/s50-c-k-no/photo.jpg",
      "userId": "114874362450166068432"
     },
     "user_tz": -480
    },
    "id": "0VWJr5_PhrUF",
    "outputId": "4d867a0f-0914-444a-b2a1-59404e76642c"
   },
   "outputs": [
    {
     "name": "stdout",
     "output_type": "stream",
     "text": [
      "   AMB_TEMP  CH4    CO  NMHC   NO   NO2   NOx    O3  PM10  PM2.5  RAINFALL  \\\n",
      "0      29.0  1.9  0.19  0.04  1.3  11.0  11.0  35.0  42.0   20.0       0.2   \n",
      "\n",
      "     RH  SO2  THC  WD_HR  WIND_DIREC  WIND_SPEED  WS_HR  ONE   TSP  \n",
      "0  86.0  1.9  1.9   11.0        11.0         1.9    1.0    1  52.0  \n"
     ]
    }
   ],
   "source": [
    "# 例：計算各空氣品質監測項目的眾數\n",
    "print(df.mode())"
   ]
  },
  {
   "cell_type": "markdown",
   "metadata": {
    "colab_type": "text",
    "id": "8qyzKqX5My3E"
   },
   "source": [
    "### `.sum()`：計算總和\n",
    "\n",
    "* 常用 Parameters：\n",
    "    1. `min_count` : 設定非遺漏值的最小數量，預設為 `0`\n",
    "        * `0` : 若 Series 中全部是 `NaN` 或是空值，則回傳 `0.0`\n",
    "        * 其他數值 : 若 Series 中非 `NaN` 的數值筆數小於 `min_count` 所設定的數量 ，則回傳 `NaN`\n",
    "    1. `axis`：\n",
    "        * `1` : 以 column 方向計算\n",
    "        * `0` : 以 row 方向計算\n",
    "    1. `skipna`：預設為 `True`\n",
    "        * `True` : 計算統計量的時候忽略 NA (`np.nan`，`None`)\n",
    "        * `False` : 只要資料中出現一筆 NA，則回傳 `NaN`\n",
    "* Return : Series 或 DataFrame\n",
    "* 參考文件：\n",
    "    * [pandas.DataFrame.sum](https://pandas.pydata.org/pandas-docs/stable/generated/pandas.DataFrame.sum.html)\n",
    "    * [pandas.Series.sum](https://pandas.pydata.org/pandas-docs/stable/generated/pandas.Series.sum.html)"
   ]
  },
  {
   "cell_type": "code",
   "execution_count": 21,
   "metadata": {},
   "outputs": [
    {
     "data": {
      "text/plain": [
       "1540.6"
      ]
     },
     "execution_count": 21,
     "metadata": {},
     "output_type": "execute_result"
    }
   ],
   "source": [
    "# 例：計算年降雨量\n",
    "df['RAINFALL'].sum()"
   ]
  },
  {
   "cell_type": "markdown",
   "metadata": {},
   "source": [
    "以下補充針對 Parameter 'min_count' 的一些測試："
   ]
  },
  {
   "cell_type": "code",
   "execution_count": 22,
   "metadata": {
    "colab": {
     "autoexec": {
      "startup": false,
      "wait_interval": 0
     },
     "base_uri": "https://localhost:8080/",
     "height": 34
    },
    "colab_type": "code",
    "executionInfo": {
     "elapsed": 702,
     "status": "ok",
     "timestamp": 1530864527081,
     "user": {
      "displayName": "黃種平",
      "photoUrl": "//lh3.googleusercontent.com/-ay6h3dmyraY/AAAAAAAAAAI/AAAAAAAADhg/t8F2AGa00fc/s50-c-k-no/photo.jpg",
      "userId": "114874362450166068432"
     },
     "user_tz": -480
    },
    "id": "Dakc17paDgY5",
    "outputId": "28c6b776-5bc5-4f23-c3da-ded0577be491"
   },
   "outputs": [
    {
     "data": {
      "text/plain": [
       "0.0"
      ]
     },
     "execution_count": 22,
     "metadata": {},
     "output_type": "execute_result"
    }
   ],
   "source": [
    "# 狀況1. Series 為空的，min_count=0\n",
    "# output 為 0.0: 因為 min_count=0，Series 是空的，則回傳 0.0\n",
    "pd.Series([]).sum(skipna=True, min_count=0)"
   ]
  },
  {
   "cell_type": "code",
   "execution_count": 23,
   "metadata": {
    "colab": {
     "autoexec": {
      "startup": false,
      "wait_interval": 0
     },
     "base_uri": "https://localhost:8080/",
     "height": 34
    },
    "colab_type": "code",
    "executionInfo": {
     "elapsed": 1055,
     "status": "ok",
     "timestamp": 1530864528522,
     "user": {
      "displayName": "黃種平",
      "photoUrl": "//lh3.googleusercontent.com/-ay6h3dmyraY/AAAAAAAAAAI/AAAAAAAADhg/t8F2AGa00fc/s50-c-k-no/photo.jpg",
      "userId": "114874362450166068432"
     },
     "user_tz": -480
    },
    "id": "9DCfTRHVcDsf",
    "outputId": "3587ba67-1733-4caa-d82c-04c0fd69e634"
   },
   "outputs": [
    {
     "data": {
      "text/plain": [
       "nan"
      ]
     },
     "execution_count": 23,
     "metadata": {},
     "output_type": "execute_result"
    }
   ],
   "source": [
    "# 狀況2. Series 為空的，min_count=1\n",
    "# 因為 min_count=1，Series 被判定為空的，非 NaN 的數值筆數小於 min_count，則回傳 nan\n",
    "pd.Series([]).sum(skipna=True, min_count=1)"
   ]
  },
  {
   "cell_type": "code",
   "execution_count": 24,
   "metadata": {
    "colab": {
     "autoexec": {
      "startup": false,
      "wait_interval": 0
     },
     "base_uri": "https://localhost:8080/",
     "height": 34
    },
    "colab_type": "code",
    "executionInfo": {
     "elapsed": 1042,
     "status": "ok",
     "timestamp": 1530864529887,
     "user": {
      "displayName": "黃種平",
      "photoUrl": "//lh3.googleusercontent.com/-ay6h3dmyraY/AAAAAAAAAAI/AAAAAAAADhg/t8F2AGa00fc/s50-c-k-no/photo.jpg",
      "userId": "114874362450166068432"
     },
     "user_tz": -480
    },
    "id": "MKlqr3nJcEoU",
    "outputId": "9a4bca5f-68ee-450a-9cd8-10de477969b3"
   },
   "outputs": [
    {
     "data": {
      "text/plain": [
       "0.0"
      ]
     },
     "execution_count": 24,
     "metadata": {},
     "output_type": "execute_result"
    }
   ],
   "source": [
    "# 狀況3. Series 為 np.nan，min_count=0\n",
    "# 因為 skipna=True 則 Series 被判定為空的，又因為 min_count 被設定為 0，因此回傳 0.0\n",
    "pd.Series([np.nan]).sum(skipna=True, min_count=0)"
   ]
  },
  {
   "cell_type": "code",
   "execution_count": 25,
   "metadata": {
    "colab": {
     "autoexec": {
      "startup": false,
      "wait_interval": 0
     },
     "base_uri": "https://localhost:8080/",
     "height": 34
    },
    "colab_type": "code",
    "executionInfo": {
     "elapsed": 932,
     "status": "ok",
     "timestamp": 1530864531098,
     "user": {
      "displayName": "黃種平",
      "photoUrl": "//lh3.googleusercontent.com/-ay6h3dmyraY/AAAAAAAAAAI/AAAAAAAADhg/t8F2AGa00fc/s50-c-k-no/photo.jpg",
      "userId": "114874362450166068432"
     },
     "user_tz": -480
    },
    "id": "xl8B0C8jdGmI",
    "outputId": "8a12c0ee-448e-4c07-a617-f173fc267169"
   },
   "outputs": [
    {
     "data": {
      "text/plain": [
       "nan"
      ]
     },
     "execution_count": 25,
     "metadata": {},
     "output_type": "execute_result"
    }
   ],
   "source": [
    "# 如果 skipna=False，因為只要資料中出現一筆 NA，則回傳 NaN。\n",
    "# 即使 min_count=0 時，因為 Series 中也全都是 NaN，依然回傳 0.0\n",
    "pd.Series([np.nan]).sum(skipna=False, min_count=0)"
   ]
  },
  {
   "cell_type": "code",
   "execution_count": 26,
   "metadata": {
    "colab": {
     "autoexec": {
      "startup": false,
      "wait_interval": 0
     },
     "base_uri": "https://localhost:8080/",
     "height": 34
    },
    "colab_type": "code",
    "executionInfo": {
     "elapsed": 889,
     "status": "ok",
     "timestamp": 1530864532305,
     "user": {
      "displayName": "黃種平",
      "photoUrl": "//lh3.googleusercontent.com/-ay6h3dmyraY/AAAAAAAAAAI/AAAAAAAADhg/t8F2AGa00fc/s50-c-k-no/photo.jpg",
      "userId": "114874362450166068432"
     },
     "user_tz": -480
    },
    "id": "e0EsGWUFcFgj",
    "outputId": "89e8c291-9833-405c-e325-27573c8effc2"
   },
   "outputs": [
    {
     "data": {
      "text/plain": [
       "nan"
      ]
     },
     "execution_count": 26,
     "metadata": {},
     "output_type": "execute_result"
    }
   ],
   "source": [
    "# 狀況4. Series 為 np.nan，min_count=1\n",
    "pd.Series([np.nan]).sum(skipna=True, min_count=1)"
   ]
  },
  {
   "cell_type": "markdown",
   "metadata": {
    "colab_type": "text",
    "id": "qcZuluUD3Pe7"
   },
   "source": [
    "### `.round()`：將浮點數(dtype=float64)取到某位數並四捨五入\n",
    "\n",
    "\n",
    "\n",
    "* 參考文件：\n",
    "    * [pandas.DataFrame.round](https://pandas.pydata.org/pandas-docs/stable/generated/pandas.DataFrame.round.html)\n",
    "    * [pandas.Series.round](https://pandas.pydata.org/pandas-docs/stable/generated/pandas.Series.round.html)"
   ]
  },
  {
   "cell_type": "code",
   "execution_count": 27,
   "metadata": {
    "colab": {
     "autoexec": {
      "startup": false,
      "wait_interval": 0
     },
     "base_uri": "https://localhost:8080/",
     "height": 221
    },
    "colab_type": "code",
    "executionInfo": {
     "elapsed": 1195,
     "status": "ok",
     "timestamp": 1530864533844,
     "user": {
      "displayName": "黃種平",
      "photoUrl": "//lh3.googleusercontent.com/-ay6h3dmyraY/AAAAAAAAAAI/AAAAAAAADhg/t8F2AGa00fc/s50-c-k-no/photo.jpg",
      "userId": "114874362450166068432"
     },
     "user_tz": -480
    },
    "id": "MFKjXlX_79ot",
    "outputId": "16df6450-4388-4ff1-c44e-0fdf77472f8d"
   },
   "outputs": [
    {
     "data": {
      "text/plain": [
       "datetime\n",
       "2017-01-01 00:00:00    0.20\n",
       "2017-01-01 01:00:00    0.19\n",
       "2017-01-01 02:00:00    0.24\n",
       "2017-01-01 03:00:00    0.24\n",
       "2017-01-01 04:00:00    0.23\n",
       "2017-01-01 05:00:00    0.37\n",
       "2017-01-01 06:00:00    0.42\n",
       "2017-01-01 07:00:00    0.51\n",
       "2017-01-01 08:00:00    0.54\n",
       "2017-01-01 09:00:00    0.53\n",
       "Name: CO, dtype: float64"
      ]
     },
     "execution_count": 27,
     "metadata": {},
     "output_type": "execute_result"
    }
   ],
   "source": [
    "# 觀察原始一氧化碳濃度 (column label: 'CO') 資料\n",
    "df.loc[:, 'CO'].head(10)"
   ]
  },
  {
   "cell_type": "code",
   "execution_count": 28,
   "metadata": {
    "colab": {
     "autoexec": {
      "startup": false,
      "wait_interval": 0
     },
     "base_uri": "https://localhost:8080/",
     "height": 221
    },
    "colab_type": "code",
    "executionInfo": {
     "elapsed": 1085,
     "status": "ok",
     "timestamp": 1530864535356,
     "user": {
      "displayName": "黃種平",
      "photoUrl": "//lh3.googleusercontent.com/-ay6h3dmyraY/AAAAAAAAAAI/AAAAAAAADhg/t8F2AGa00fc/s50-c-k-no/photo.jpg",
      "userId": "114874362450166068432"
     },
     "user_tz": -480
    },
    "id": "Kv7abRjn7rJ_",
    "outputId": "4f4ade51-410b-4e07-ce38-195bffccbee9"
   },
   "outputs": [
    {
     "data": {
      "text/plain": [
       "datetime\n",
       "2017-01-01 00:00:00    0.2\n",
       "2017-01-01 01:00:00    0.2\n",
       "2017-01-01 02:00:00    0.2\n",
       "2017-01-01 03:00:00    0.2\n",
       "2017-01-01 04:00:00    0.2\n",
       "2017-01-01 05:00:00    0.4\n",
       "2017-01-01 06:00:00    0.4\n",
       "2017-01-01 07:00:00    0.5\n",
       "2017-01-01 08:00:00    0.5\n",
       "2017-01-01 09:00:00    0.5\n",
       "Name: CO, dtype: float64"
      ]
     },
     "execution_count": 28,
     "metadata": {},
     "output_type": "execute_result"
    }
   ],
   "source": [
    "# 例：將一氧化碳濃度 (column label: 'CO') 取到小數點底下第一位\n",
    "df.loc[:, 'CO'].round(1).head(10)"
   ]
  },
  {
   "cell_type": "markdown",
   "metadata": {
    "colab_type": "text",
    "id": "ePu5IuNFM0oI"
   },
   "source": [
    "### .corr()：計算 column 之間的線性關係的強度和方向\n",
    "\n",
    "調用 `.corr()` method 時，Pandas 會自動排除 NA，不列入計算。\n",
    "\n",
    "\n",
    "\n",
    "* 常用 Parameters：\n",
    "    1. `method` 選擇要計算的相關係數，預設為 `pearson`\n",
    "        * `pearson` : 即為 **Pearson standard correlation coefficient**，用來衡量兩個等距尺度或等比尺度變數之相關性。\n",
    "        * 參考文件：\n",
    "            * [Wikipedia | 相關](https://zh.wikipedia.org/zh-tw/相關)\n",
    "    1. `min_periods`：設定資料的 row 的最小數量，預設為`1`\n",
    "        * rows 的數量必須大於等於此值，否則回傳 `NaN`\n",
    "* 參考文件：\n",
    "    * [pandas.DataFrame.corr](https://pandas.pydata.org/pandas-docs/stable/generated/pandas.DataFrame.corr.html)\n",
    "    * [pandas.Series.corr](https://pandas.pydata.org/pandas-docs/stable/generated/pandas.Series.corr.html)"
   ]
  },
  {
   "cell_type": "code",
   "execution_count": 29,
   "metadata": {
    "colab": {
     "autoexec": {
      "startup": false,
      "wait_interval": 0
     },
     "base_uri": "https://localhost:8080/",
     "height": 658
    },
    "colab_type": "code",
    "executionInfo": {
     "elapsed": 986,
     "status": "ok",
     "timestamp": 1530864538400,
     "user": {
      "displayName": "黃種平",
      "photoUrl": "//lh3.googleusercontent.com/-ay6h3dmyraY/AAAAAAAAAAI/AAAAAAAADhg/t8F2AGa00fc/s50-c-k-no/photo.jpg",
      "userId": "114874362450166068432"
     },
     "user_tz": -480
    },
    "id": "aSA3pz5BGSEU",
    "outputId": "2051acde-5eb4-4d2e-f6ba-38fe77cf4d3b"
   },
   "outputs": [
    {
     "data": {
      "text/html": [
       "<div>\n",
       "<style scoped>\n",
       "    .dataframe tbody tr th:only-of-type {\n",
       "        vertical-align: middle;\n",
       "    }\n",
       "\n",
       "    .dataframe tbody tr th {\n",
       "        vertical-align: top;\n",
       "    }\n",
       "\n",
       "    .dataframe thead th {\n",
       "        text-align: right;\n",
       "    }\n",
       "</style>\n",
       "<table border=\"1\" class=\"dataframe\">\n",
       "  <thead>\n",
       "    <tr style=\"text-align: right;\">\n",
       "      <th></th>\n",
       "      <th>AMB_TEMP</th>\n",
       "      <th>CH4</th>\n",
       "      <th>CO</th>\n",
       "      <th>NMHC</th>\n",
       "      <th>NO</th>\n",
       "      <th>NO2</th>\n",
       "      <th>NOx</th>\n",
       "      <th>O3</th>\n",
       "      <th>PM10</th>\n",
       "      <th>PM2.5</th>\n",
       "      <th>RAINFALL</th>\n",
       "      <th>RH</th>\n",
       "      <th>SO2</th>\n",
       "      <th>THC</th>\n",
       "      <th>WD_HR</th>\n",
       "      <th>WIND_DIREC</th>\n",
       "      <th>WIND_SPEED</th>\n",
       "      <th>WS_HR</th>\n",
       "      <th>ONE</th>\n",
       "      <th>TSP</th>\n",
       "    </tr>\n",
       "  </thead>\n",
       "  <tbody>\n",
       "    <tr>\n",
       "      <th>AMB_TEMP</th>\n",
       "      <td>1.000000</td>\n",
       "      <td>-0.095646</td>\n",
       "      <td>-0.468451</td>\n",
       "      <td>0.001008</td>\n",
       "      <td>-0.015063</td>\n",
       "      <td>-0.417328</td>\n",
       "      <td>-0.348231</td>\n",
       "      <td>-0.101718</td>\n",
       "      <td>-0.314486</td>\n",
       "      <td>-0.317030</td>\n",
       "      <td>0.133390</td>\n",
       "      <td>0.005317</td>\n",
       "      <td>-0.121470</td>\n",
       "      <td>-0.086171</td>\n",
       "      <td>0.514243</td>\n",
       "      <td>0.498228</td>\n",
       "      <td>-0.345507</td>\n",
       "      <td>-0.105941</td>\n",
       "      <td>NaN</td>\n",
       "      <td>-0.346544</td>\n",
       "    </tr>\n",
       "    <tr>\n",
       "      <th>CH4</th>\n",
       "      <td>-0.095646</td>\n",
       "      <td>1.000000</td>\n",
       "      <td>0.362825</td>\n",
       "      <td>0.309408</td>\n",
       "      <td>0.252842</td>\n",
       "      <td>0.379967</td>\n",
       "      <td>0.398310</td>\n",
       "      <td>-0.411632</td>\n",
       "      <td>0.056986</td>\n",
       "      <td>0.352514</td>\n",
       "      <td>-0.102160</td>\n",
       "      <td>0.319289</td>\n",
       "      <td>-0.063315</td>\n",
       "      <td>0.971905</td>\n",
       "      <td>-0.172335</td>\n",
       "      <td>-0.151524</td>\n",
       "      <td>-0.428081</td>\n",
       "      <td>-0.384884</td>\n",
       "      <td>NaN</td>\n",
       "      <td>0.141120</td>\n",
       "    </tr>\n",
       "    <tr>\n",
       "      <th>CO</th>\n",
       "      <td>-0.468451</td>\n",
       "      <td>0.362825</td>\n",
       "      <td>1.000000</td>\n",
       "      <td>0.381404</td>\n",
       "      <td>0.348639</td>\n",
       "      <td>0.773510</td>\n",
       "      <td>0.754048</td>\n",
       "      <td>-0.059893</td>\n",
       "      <td>0.326570</td>\n",
       "      <td>0.621914</td>\n",
       "      <td>-0.250728</td>\n",
       "      <td>-0.066057</td>\n",
       "      <td>0.420317</td>\n",
       "      <td>0.412593</td>\n",
       "      <td>-0.311470</td>\n",
       "      <td>-0.287179</td>\n",
       "      <td>-0.035901</td>\n",
       "      <td>-0.114789</td>\n",
       "      <td>NaN</td>\n",
       "      <td>0.437229</td>\n",
       "    </tr>\n",
       "    <tr>\n",
       "      <th>NMHC</th>\n",
       "      <td>0.001008</td>\n",
       "      <td>0.309408</td>\n",
       "      <td>0.381404</td>\n",
       "      <td>1.000000</td>\n",
       "      <td>0.325209</td>\n",
       "      <td>0.450259</td>\n",
       "      <td>0.481549</td>\n",
       "      <td>-0.206016</td>\n",
       "      <td>0.040781</td>\n",
       "      <td>0.284723</td>\n",
       "      <td>-0.128383</td>\n",
       "      <td>0.031436</td>\n",
       "      <td>0.201809</td>\n",
       "      <td>0.494980</td>\n",
       "      <td>0.068997</td>\n",
       "      <td>0.073267</td>\n",
       "      <td>-0.257790</td>\n",
       "      <td>-0.223547</td>\n",
       "      <td>NaN</td>\n",
       "      <td>0.110005</td>\n",
       "    </tr>\n",
       "    <tr>\n",
       "      <th>NO</th>\n",
       "      <td>-0.015063</td>\n",
       "      <td>0.252842</td>\n",
       "      <td>0.348639</td>\n",
       "      <td>0.325209</td>\n",
       "      <td>1.000000</td>\n",
       "      <td>0.377324</td>\n",
       "      <td>0.649451</td>\n",
       "      <td>-0.295095</td>\n",
       "      <td>0.002166</td>\n",
       "      <td>0.103593</td>\n",
       "      <td>-0.106511</td>\n",
       "      <td>0.058932</td>\n",
       "      <td>0.197894</td>\n",
       "      <td>0.300532</td>\n",
       "      <td>0.014144</td>\n",
       "      <td>0.025690</td>\n",
       "      <td>-0.135503</td>\n",
       "      <td>-0.155452</td>\n",
       "      <td>NaN</td>\n",
       "      <td>0.030613</td>\n",
       "    </tr>\n",
       "    <tr>\n",
       "      <th>NO2</th>\n",
       "      <td>-0.417328</td>\n",
       "      <td>0.379967</td>\n",
       "      <td>0.773510</td>\n",
       "      <td>0.450259</td>\n",
       "      <td>0.377324</td>\n",
       "      <td>1.000000</td>\n",
       "      <td>0.948088</td>\n",
       "      <td>-0.235557</td>\n",
       "      <td>0.129795</td>\n",
       "      <td>0.428475</td>\n",
       "      <td>-0.209726</td>\n",
       "      <td>-0.034192</td>\n",
       "      <td>0.574450</td>\n",
       "      <td>0.442800</td>\n",
       "      <td>-0.241293</td>\n",
       "      <td>-0.224188</td>\n",
       "      <td>-0.158907</td>\n",
       "      <td>-0.204154</td>\n",
       "      <td>NaN</td>\n",
       "      <td>0.221738</td>\n",
       "    </tr>\n",
       "    <tr>\n",
       "      <th>NOx</th>\n",
       "      <td>-0.348231</td>\n",
       "      <td>0.398310</td>\n",
       "      <td>0.754048</td>\n",
       "      <td>0.481549</td>\n",
       "      <td>0.649451</td>\n",
       "      <td>0.948088</td>\n",
       "      <td>1.000000</td>\n",
       "      <td>-0.294146</td>\n",
       "      <td>0.107051</td>\n",
       "      <td>0.387123</td>\n",
       "      <td>-0.213853</td>\n",
       "      <td>-0.007901</td>\n",
       "      <td>0.538303</td>\n",
       "      <td>0.466453</td>\n",
       "      <td>-0.193207</td>\n",
       "      <td>-0.175685</td>\n",
       "      <td>-0.176970</td>\n",
       "      <td>-0.220944</td>\n",
       "      <td>NaN</td>\n",
       "      <td>0.192241</td>\n",
       "    </tr>\n",
       "    <tr>\n",
       "      <th>O3</th>\n",
       "      <td>-0.101718</td>\n",
       "      <td>-0.411632</td>\n",
       "      <td>-0.059893</td>\n",
       "      <td>-0.206016</td>\n",
       "      <td>-0.295095</td>\n",
       "      <td>-0.235557</td>\n",
       "      <td>-0.294146</td>\n",
       "      <td>1.000000</td>\n",
       "      <td>0.366435</td>\n",
       "      <td>0.223437</td>\n",
       "      <td>0.011866</td>\n",
       "      <td>-0.575484</td>\n",
       "      <td>0.114086</td>\n",
       "      <td>-0.422478</td>\n",
       "      <td>-0.012214</td>\n",
       "      <td>-0.016854</td>\n",
       "      <td>0.419541</td>\n",
       "      <td>0.201333</td>\n",
       "      <td>NaN</td>\n",
       "      <td>0.364012</td>\n",
       "    </tr>\n",
       "    <tr>\n",
       "      <th>PM10</th>\n",
       "      <td>-0.314486</td>\n",
       "      <td>0.056986</td>\n",
       "      <td>0.326570</td>\n",
       "      <td>0.040781</td>\n",
       "      <td>0.002166</td>\n",
       "      <td>0.129795</td>\n",
       "      <td>0.107051</td>\n",
       "      <td>0.366435</td>\n",
       "      <td>1.000000</td>\n",
       "      <td>0.534233</td>\n",
       "      <td>-0.236361</td>\n",
       "      <td>-0.292571</td>\n",
       "      <td>0.111875</td>\n",
       "      <td>0.061689</td>\n",
       "      <td>-0.248628</td>\n",
       "      <td>-0.226037</td>\n",
       "      <td>0.435866</td>\n",
       "      <td>0.278262</td>\n",
       "      <td>NaN</td>\n",
       "      <td>0.974828</td>\n",
       "    </tr>\n",
       "    <tr>\n",
       "      <th>PM2.5</th>\n",
       "      <td>-0.317030</td>\n",
       "      <td>0.352514</td>\n",
       "      <td>0.621914</td>\n",
       "      <td>0.284723</td>\n",
       "      <td>0.103593</td>\n",
       "      <td>0.428475</td>\n",
       "      <td>0.387123</td>\n",
       "      <td>0.223437</td>\n",
       "      <td>0.534233</td>\n",
       "      <td>1.000000</td>\n",
       "      <td>-0.223155</td>\n",
       "      <td>-0.120849</td>\n",
       "      <td>0.243551</td>\n",
       "      <td>0.382286</td>\n",
       "      <td>-0.147249</td>\n",
       "      <td>-0.120557</td>\n",
       "      <td>-0.097286</td>\n",
       "      <td>-0.201875</td>\n",
       "      <td>NaN</td>\n",
       "      <td>0.709260</td>\n",
       "    </tr>\n",
       "    <tr>\n",
       "      <th>RAINFALL</th>\n",
       "      <td>0.133390</td>\n",
       "      <td>-0.102160</td>\n",
       "      <td>-0.250728</td>\n",
       "      <td>-0.128383</td>\n",
       "      <td>-0.106511</td>\n",
       "      <td>-0.209726</td>\n",
       "      <td>-0.213853</td>\n",
       "      <td>0.011866</td>\n",
       "      <td>-0.236361</td>\n",
       "      <td>-0.223155</td>\n",
       "      <td>1.000000</td>\n",
       "      <td>0.279014</td>\n",
       "      <td>-0.192127</td>\n",
       "      <td>-0.126850</td>\n",
       "      <td>0.173335</td>\n",
       "      <td>0.172912</td>\n",
       "      <td>-0.080486</td>\n",
       "      <td>-0.080569</td>\n",
       "      <td>NaN</td>\n",
       "      <td>-0.253600</td>\n",
       "    </tr>\n",
       "    <tr>\n",
       "      <th>RH</th>\n",
       "      <td>0.005317</td>\n",
       "      <td>0.319289</td>\n",
       "      <td>-0.066057</td>\n",
       "      <td>0.031436</td>\n",
       "      <td>0.058932</td>\n",
       "      <td>-0.034192</td>\n",
       "      <td>-0.007901</td>\n",
       "      <td>-0.575484</td>\n",
       "      <td>-0.292571</td>\n",
       "      <td>-0.120849</td>\n",
       "      <td>0.279014</td>\n",
       "      <td>1.000000</td>\n",
       "      <td>-0.363914</td>\n",
       "      <td>0.298131</td>\n",
       "      <td>-0.121352</td>\n",
       "      <td>-0.117344</td>\n",
       "      <td>-0.364097</td>\n",
       "      <td>-0.252423</td>\n",
       "      <td>NaN</td>\n",
       "      <td>-0.276188</td>\n",
       "    </tr>\n",
       "    <tr>\n",
       "      <th>SO2</th>\n",
       "      <td>-0.121470</td>\n",
       "      <td>-0.063315</td>\n",
       "      <td>0.420317</td>\n",
       "      <td>0.201809</td>\n",
       "      <td>0.197894</td>\n",
       "      <td>0.574450</td>\n",
       "      <td>0.538303</td>\n",
       "      <td>0.114086</td>\n",
       "      <td>0.111875</td>\n",
       "      <td>0.243551</td>\n",
       "      <td>-0.192127</td>\n",
       "      <td>-0.363914</td>\n",
       "      <td>1.000000</td>\n",
       "      <td>-0.012178</td>\n",
       "      <td>-0.022655</td>\n",
       "      <td>-0.016075</td>\n",
       "      <td>0.059423</td>\n",
       "      <td>-0.015883</td>\n",
       "      <td>NaN</td>\n",
       "      <td>0.156579</td>\n",
       "    </tr>\n",
       "    <tr>\n",
       "      <th>THC</th>\n",
       "      <td>-0.086171</td>\n",
       "      <td>0.971905</td>\n",
       "      <td>0.412593</td>\n",
       "      <td>0.494980</td>\n",
       "      <td>0.300532</td>\n",
       "      <td>0.442800</td>\n",
       "      <td>0.466453</td>\n",
       "      <td>-0.422478</td>\n",
       "      <td>0.061689</td>\n",
       "      <td>0.382286</td>\n",
       "      <td>-0.126850</td>\n",
       "      <td>0.298131</td>\n",
       "      <td>-0.012178</td>\n",
       "      <td>1.000000</td>\n",
       "      <td>-0.140653</td>\n",
       "      <td>-0.120735</td>\n",
       "      <td>-0.444346</td>\n",
       "      <td>-0.396291</td>\n",
       "      <td>NaN</td>\n",
       "      <td>0.152879</td>\n",
       "    </tr>\n",
       "    <tr>\n",
       "      <th>WD_HR</th>\n",
       "      <td>0.514243</td>\n",
       "      <td>-0.172335</td>\n",
       "      <td>-0.311470</td>\n",
       "      <td>0.068997</td>\n",
       "      <td>0.014144</td>\n",
       "      <td>-0.241293</td>\n",
       "      <td>-0.193207</td>\n",
       "      <td>-0.012214</td>\n",
       "      <td>-0.248628</td>\n",
       "      <td>-0.147249</td>\n",
       "      <td>0.173335</td>\n",
       "      <td>-0.121352</td>\n",
       "      <td>-0.022655</td>\n",
       "      <td>-0.140653</td>\n",
       "      <td>1.000000</td>\n",
       "      <td>0.808654</td>\n",
       "      <td>-0.266882</td>\n",
       "      <td>-0.235165</td>\n",
       "      <td>NaN</td>\n",
       "      <td>-0.245405</td>\n",
       "    </tr>\n",
       "    <tr>\n",
       "      <th>WIND_DIREC</th>\n",
       "      <td>0.498228</td>\n",
       "      <td>-0.151524</td>\n",
       "      <td>-0.287179</td>\n",
       "      <td>0.073267</td>\n",
       "      <td>0.025690</td>\n",
       "      <td>-0.224188</td>\n",
       "      <td>-0.175685</td>\n",
       "      <td>-0.016854</td>\n",
       "      <td>-0.226037</td>\n",
       "      <td>-0.120557</td>\n",
       "      <td>0.172912</td>\n",
       "      <td>-0.117344</td>\n",
       "      <td>-0.016075</td>\n",
       "      <td>-0.120735</td>\n",
       "      <td>0.808654</td>\n",
       "      <td>1.000000</td>\n",
       "      <td>-0.284862</td>\n",
       "      <td>-0.242501</td>\n",
       "      <td>NaN</td>\n",
       "      <td>-0.219340</td>\n",
       "    </tr>\n",
       "    <tr>\n",
       "      <th>WIND_SPEED</th>\n",
       "      <td>-0.345507</td>\n",
       "      <td>-0.428081</td>\n",
       "      <td>-0.035901</td>\n",
       "      <td>-0.257790</td>\n",
       "      <td>-0.135503</td>\n",
       "      <td>-0.158907</td>\n",
       "      <td>-0.176970</td>\n",
       "      <td>0.419541</td>\n",
       "      <td>0.435866</td>\n",
       "      <td>-0.097286</td>\n",
       "      <td>-0.080486</td>\n",
       "      <td>-0.364097</td>\n",
       "      <td>0.059423</td>\n",
       "      <td>-0.444346</td>\n",
       "      <td>-0.266882</td>\n",
       "      <td>-0.284862</td>\n",
       "      <td>1.000000</td>\n",
       "      <td>0.807418</td>\n",
       "      <td>NaN</td>\n",
       "      <td>0.336412</td>\n",
       "    </tr>\n",
       "    <tr>\n",
       "      <th>WS_HR</th>\n",
       "      <td>-0.105941</td>\n",
       "      <td>-0.384884</td>\n",
       "      <td>-0.114789</td>\n",
       "      <td>-0.223547</td>\n",
       "      <td>-0.155452</td>\n",
       "      <td>-0.204154</td>\n",
       "      <td>-0.220944</td>\n",
       "      <td>0.201333</td>\n",
       "      <td>0.278262</td>\n",
       "      <td>-0.201875</td>\n",
       "      <td>-0.080569</td>\n",
       "      <td>-0.252423</td>\n",
       "      <td>-0.015883</td>\n",
       "      <td>-0.396291</td>\n",
       "      <td>-0.235165</td>\n",
       "      <td>-0.242501</td>\n",
       "      <td>0.807418</td>\n",
       "      <td>1.000000</td>\n",
       "      <td>NaN</td>\n",
       "      <td>0.177889</td>\n",
       "    </tr>\n",
       "    <tr>\n",
       "      <th>ONE</th>\n",
       "      <td>NaN</td>\n",
       "      <td>NaN</td>\n",
       "      <td>NaN</td>\n",
       "      <td>NaN</td>\n",
       "      <td>NaN</td>\n",
       "      <td>NaN</td>\n",
       "      <td>NaN</td>\n",
       "      <td>NaN</td>\n",
       "      <td>NaN</td>\n",
       "      <td>NaN</td>\n",
       "      <td>NaN</td>\n",
       "      <td>NaN</td>\n",
       "      <td>NaN</td>\n",
       "      <td>NaN</td>\n",
       "      <td>NaN</td>\n",
       "      <td>NaN</td>\n",
       "      <td>NaN</td>\n",
       "      <td>NaN</td>\n",
       "      <td>NaN</td>\n",
       "      <td>NaN</td>\n",
       "    </tr>\n",
       "    <tr>\n",
       "      <th>TSP</th>\n",
       "      <td>-0.346544</td>\n",
       "      <td>0.141120</td>\n",
       "      <td>0.437229</td>\n",
       "      <td>0.110005</td>\n",
       "      <td>0.030613</td>\n",
       "      <td>0.221738</td>\n",
       "      <td>0.192241</td>\n",
       "      <td>0.364012</td>\n",
       "      <td>0.974828</td>\n",
       "      <td>0.709260</td>\n",
       "      <td>-0.253600</td>\n",
       "      <td>-0.276188</td>\n",
       "      <td>0.156579</td>\n",
       "      <td>0.152879</td>\n",
       "      <td>-0.245405</td>\n",
       "      <td>-0.219340</td>\n",
       "      <td>0.336412</td>\n",
       "      <td>0.177889</td>\n",
       "      <td>NaN</td>\n",
       "      <td>1.000000</td>\n",
       "    </tr>\n",
       "  </tbody>\n",
       "</table>\n",
       "</div>"
      ],
      "text/plain": [
       "            AMB_TEMP       CH4        CO      NMHC        NO       NO2  \\\n",
       "AMB_TEMP    1.000000 -0.095646 -0.468451  0.001008 -0.015063 -0.417328   \n",
       "CH4        -0.095646  1.000000  0.362825  0.309408  0.252842  0.379967   \n",
       "CO         -0.468451  0.362825  1.000000  0.381404  0.348639  0.773510   \n",
       "NMHC        0.001008  0.309408  0.381404  1.000000  0.325209  0.450259   \n",
       "NO         -0.015063  0.252842  0.348639  0.325209  1.000000  0.377324   \n",
       "NO2        -0.417328  0.379967  0.773510  0.450259  0.377324  1.000000   \n",
       "NOx        -0.348231  0.398310  0.754048  0.481549  0.649451  0.948088   \n",
       "O3         -0.101718 -0.411632 -0.059893 -0.206016 -0.295095 -0.235557   \n",
       "PM10       -0.314486  0.056986  0.326570  0.040781  0.002166  0.129795   \n",
       "PM2.5      -0.317030  0.352514  0.621914  0.284723  0.103593  0.428475   \n",
       "RAINFALL    0.133390 -0.102160 -0.250728 -0.128383 -0.106511 -0.209726   \n",
       "RH          0.005317  0.319289 -0.066057  0.031436  0.058932 -0.034192   \n",
       "SO2        -0.121470 -0.063315  0.420317  0.201809  0.197894  0.574450   \n",
       "THC        -0.086171  0.971905  0.412593  0.494980  0.300532  0.442800   \n",
       "WD_HR       0.514243 -0.172335 -0.311470  0.068997  0.014144 -0.241293   \n",
       "WIND_DIREC  0.498228 -0.151524 -0.287179  0.073267  0.025690 -0.224188   \n",
       "WIND_SPEED -0.345507 -0.428081 -0.035901 -0.257790 -0.135503 -0.158907   \n",
       "WS_HR      -0.105941 -0.384884 -0.114789 -0.223547 -0.155452 -0.204154   \n",
       "ONE              NaN       NaN       NaN       NaN       NaN       NaN   \n",
       "TSP        -0.346544  0.141120  0.437229  0.110005  0.030613  0.221738   \n",
       "\n",
       "                 NOx        O3      PM10     PM2.5  RAINFALL        RH  \\\n",
       "AMB_TEMP   -0.348231 -0.101718 -0.314486 -0.317030  0.133390  0.005317   \n",
       "CH4         0.398310 -0.411632  0.056986  0.352514 -0.102160  0.319289   \n",
       "CO          0.754048 -0.059893  0.326570  0.621914 -0.250728 -0.066057   \n",
       "NMHC        0.481549 -0.206016  0.040781  0.284723 -0.128383  0.031436   \n",
       "NO          0.649451 -0.295095  0.002166  0.103593 -0.106511  0.058932   \n",
       "NO2         0.948088 -0.235557  0.129795  0.428475 -0.209726 -0.034192   \n",
       "NOx         1.000000 -0.294146  0.107051  0.387123 -0.213853 -0.007901   \n",
       "O3         -0.294146  1.000000  0.366435  0.223437  0.011866 -0.575484   \n",
       "PM10        0.107051  0.366435  1.000000  0.534233 -0.236361 -0.292571   \n",
       "PM2.5       0.387123  0.223437  0.534233  1.000000 -0.223155 -0.120849   \n",
       "RAINFALL   -0.213853  0.011866 -0.236361 -0.223155  1.000000  0.279014   \n",
       "RH         -0.007901 -0.575484 -0.292571 -0.120849  0.279014  1.000000   \n",
       "SO2         0.538303  0.114086  0.111875  0.243551 -0.192127 -0.363914   \n",
       "THC         0.466453 -0.422478  0.061689  0.382286 -0.126850  0.298131   \n",
       "WD_HR      -0.193207 -0.012214 -0.248628 -0.147249  0.173335 -0.121352   \n",
       "WIND_DIREC -0.175685 -0.016854 -0.226037 -0.120557  0.172912 -0.117344   \n",
       "WIND_SPEED -0.176970  0.419541  0.435866 -0.097286 -0.080486 -0.364097   \n",
       "WS_HR      -0.220944  0.201333  0.278262 -0.201875 -0.080569 -0.252423   \n",
       "ONE              NaN       NaN       NaN       NaN       NaN       NaN   \n",
       "TSP         0.192241  0.364012  0.974828  0.709260 -0.253600 -0.276188   \n",
       "\n",
       "                 SO2       THC     WD_HR  WIND_DIREC  WIND_SPEED     WS_HR  \\\n",
       "AMB_TEMP   -0.121470 -0.086171  0.514243    0.498228   -0.345507 -0.105941   \n",
       "CH4        -0.063315  0.971905 -0.172335   -0.151524   -0.428081 -0.384884   \n",
       "CO          0.420317  0.412593 -0.311470   -0.287179   -0.035901 -0.114789   \n",
       "NMHC        0.201809  0.494980  0.068997    0.073267   -0.257790 -0.223547   \n",
       "NO          0.197894  0.300532  0.014144    0.025690   -0.135503 -0.155452   \n",
       "NO2         0.574450  0.442800 -0.241293   -0.224188   -0.158907 -0.204154   \n",
       "NOx         0.538303  0.466453 -0.193207   -0.175685   -0.176970 -0.220944   \n",
       "O3          0.114086 -0.422478 -0.012214   -0.016854    0.419541  0.201333   \n",
       "PM10        0.111875  0.061689 -0.248628   -0.226037    0.435866  0.278262   \n",
       "PM2.5       0.243551  0.382286 -0.147249   -0.120557   -0.097286 -0.201875   \n",
       "RAINFALL   -0.192127 -0.126850  0.173335    0.172912   -0.080486 -0.080569   \n",
       "RH         -0.363914  0.298131 -0.121352   -0.117344   -0.364097 -0.252423   \n",
       "SO2         1.000000 -0.012178 -0.022655   -0.016075    0.059423 -0.015883   \n",
       "THC        -0.012178  1.000000 -0.140653   -0.120735   -0.444346 -0.396291   \n",
       "WD_HR      -0.022655 -0.140653  1.000000    0.808654   -0.266882 -0.235165   \n",
       "WIND_DIREC -0.016075 -0.120735  0.808654    1.000000   -0.284862 -0.242501   \n",
       "WIND_SPEED  0.059423 -0.444346 -0.266882   -0.284862    1.000000  0.807418   \n",
       "WS_HR      -0.015883 -0.396291 -0.235165   -0.242501    0.807418  1.000000   \n",
       "ONE              NaN       NaN       NaN         NaN         NaN       NaN   \n",
       "TSP         0.156579  0.152879 -0.245405   -0.219340    0.336412  0.177889   \n",
       "\n",
       "            ONE       TSP  \n",
       "AMB_TEMP    NaN -0.346544  \n",
       "CH4         NaN  0.141120  \n",
       "CO          NaN  0.437229  \n",
       "NMHC        NaN  0.110005  \n",
       "NO          NaN  0.030613  \n",
       "NO2         NaN  0.221738  \n",
       "NOx         NaN  0.192241  \n",
       "O3          NaN  0.364012  \n",
       "PM10        NaN  0.974828  \n",
       "PM2.5       NaN  0.709260  \n",
       "RAINFALL    NaN -0.253600  \n",
       "RH          NaN -0.276188  \n",
       "SO2         NaN  0.156579  \n",
       "THC         NaN  0.152879  \n",
       "WD_HR       NaN -0.245405  \n",
       "WIND_DIREC  NaN -0.219340  \n",
       "WIND_SPEED  NaN  0.336412  \n",
       "WS_HR       NaN  0.177889  \n",
       "ONE         NaN       NaN  \n",
       "TSP         NaN  1.000000  "
      ]
     },
     "execution_count": 29,
     "metadata": {},
     "output_type": "execute_result"
    }
   ],
   "source": [
    "# 利用 .corr() 計算 column 之間的相關係數\n",
    "df.corr()"
   ]
  },
  {
   "cell_type": "markdown",
   "metadata": {
    "colab_type": "text",
    "id": "BKroE29-ehxb"
   },
   "source": [
    "通常會搭配圖表一起觀察，一般是畫[散佈圖 (Scatter plot)](https://en.wikipedia.org/wiki/Scatter_plot) 或是 [Heatmap](https://en.wikipedia.org/wiki/Heat_map)。\n",
    "\n",
    "* 兩個 column 之間的散佈圖：[pandas.DataFrame.plot](https://pandas.pydata.org/pandas-docs/stable/generated/pandas.DataFrame.plot.html#pandas.DataFrame.plot)\n",
    "    * `pandas.DataFrame.plot(x='column-1', y='column-2', kind= 'scatter')`\n",
    "* 多個 column 之間的散佈圖：[pandas.plotting.scatter_matrix](https://pandas.pydata.org/pandas-docs/stable/generated/pandas.plotting.scatter_matrix.html)\n",
    "    * `pandas.plotting.scatter_matrix(dataframe, figsize=(3,3))`\n",
    "*  matplotlib.pyplot.imshow 繪製 heatmap : [Correlation in Python](http://benalexkeen.com/correlation-in-python/)\n"
   ]
  },
  {
   "cell_type": "code",
   "execution_count": 30,
   "metadata": {
    "colab": {
     "autoexec": {
      "startup": false,
      "wait_interval": 0
     },
     "base_uri": "https://localhost:8080/",
     "height": 331
    },
    "colab_type": "code",
    "executionInfo": {
     "elapsed": 1281,
     "status": "ok",
     "timestamp": 1530864540060,
     "user": {
      "displayName": "黃種平",
      "photoUrl": "//lh3.googleusercontent.com/-ay6h3dmyraY/AAAAAAAAAAI/AAAAAAAADhg/t8F2AGa00fc/s50-c-k-no/photo.jpg",
      "userId": "114874362450166068432"
     },
     "user_tz": -480
    },
    "id": "2SAzU_tTix_H",
    "outputId": "c0cbd514-0a61-4511-8013-fbd7c69d46b2"
   },
   "outputs": [
    {
     "data": {
      "text/plain": [
       "<matplotlib.axes._subplots.AxesSubplot at 0x10d64ba90>"
      ]
     },
     "execution_count": 30,
     "metadata": {},
     "output_type": "execute_result"
    },
    {
     "data": {
      "image/png": "[encoded data removed]",
      "text/plain": [
       "<Figure size 300x300 with 1 Axes>"
      ]
     },
     "metadata": {},
     "output_type": "display_data"
    }
   ],
   "source": [
    "# 使用 .plot(kind='scatter') 畫出\n",
    "# 一氧化碳 (column label: 'CO') 和二氧化氮 (column label: 'NO2') 的散佈圖\n",
    "df.plot(x='CO', y='NO2', kind='scatter', figsize=(3,3)) "
   ]
  },
  {
   "cell_type": "code",
   "execution_count": 31,
   "metadata": {
    "colab": {
     "autoexec": {
      "startup": false,
      "wait_interval": 0
     },
     "base_uri": "https://localhost:8080/",
     "height": 991
    },
    "colab_type": "code",
    "executionInfo": {
     "elapsed": 5880,
     "status": "ok",
     "timestamp": 1530864546333,
     "user": {
      "displayName": "黃種平",
      "photoUrl": "//lh3.googleusercontent.com/-ay6h3dmyraY/AAAAAAAAAAI/AAAAAAAADhg/t8F2AGa00fc/s50-c-k-no/photo.jpg",
      "userId": "114874362450166068432"
     },
     "user_tz": -480
    },
    "id": "5XG-SAX0fNYY",
    "outputId": "f6511538-39fd-4d66-b298-eb5de38da93d"
   },
   "outputs": [
    {
     "data": {
      "text/plain": [
       "array([[<matplotlib.axes._subplots.AxesSubplot object at 0x10d696358>,\n",
       "        <matplotlib.axes._subplots.AxesSubplot object at 0x10d6d35c0>,\n",
       "        <matplotlib.axes._subplots.AxesSubplot object at 0x10d6f9828>,\n",
       "        <matplotlib.axes._subplots.AxesSubplot object at 0x10dae8a90>,\n",
       "        <matplotlib.axes._subplots.AxesSubplot object at 0x110bf0cf8>],\n",
       "       [<matplotlib.axes._subplots.AxesSubplot object at 0x110c19f60>,\n",
       "        <matplotlib.axes._subplots.AxesSubplot object at 0x110c4c208>,\n",
       "        <matplotlib.axes._subplots.AxesSubplot object at 0x11403d4a8>,\n",
       "        <matplotlib.axes._subplots.AxesSubplot object at 0x11403d4e0>,\n",
       "        <matplotlib.axes._subplots.AxesSubplot object at 0x11453d940>],\n",
       "       [<matplotlib.axes._subplots.AxesSubplot object at 0x114567ba8>,\n",
       "        <matplotlib.axes._subplots.AxesSubplot object at 0x114592e10>,\n",
       "        <matplotlib.axes._subplots.AxesSubplot object at 0x1145c60f0>,\n",
       "        <matplotlib.axes._subplots.AxesSubplot object at 0x1145eb668>,\n",
       "        <matplotlib.axes._subplots.AxesSubplot object at 0x114613be0>],\n",
       "       [<matplotlib.axes._subplots.AxesSubplot object at 0x114644198>,\n",
       "        <matplotlib.axes._subplots.AxesSubplot object at 0x11466d710>,\n",
       "        <matplotlib.axes._subplots.AxesSubplot object at 0x114696c88>,\n",
       "        <matplotlib.axes._subplots.AxesSubplot object at 0x1146c7240>,\n",
       "        <matplotlib.axes._subplots.AxesSubplot object at 0x1146ee7b8>],\n",
       "       [<matplotlib.axes._subplots.AxesSubplot object at 0x114717d30>,\n",
       "        <matplotlib.axes._subplots.AxesSubplot object at 0x1147482e8>,\n",
       "        <matplotlib.axes._subplots.AxesSubplot object at 0x11476f860>,\n",
       "        <matplotlib.axes._subplots.AxesSubplot object at 0x114796dd8>,\n",
       "        <matplotlib.axes._subplots.AxesSubplot object at 0x1147c9390>]],\n",
       "      dtype=object)"
      ]
     },
     "execution_count": 31,
     "metadata": {},
     "output_type": "execute_result"
    },
    {
     "data": {
      "image/png": "[encoded data removed]",
      "text/plain": [
       "<Figure size 600x600 with 25 Axes>"
      ]
     },
     "metadata": {},
     "output_type": "display_data"
    }
   ],
   "source": [
    "# 使用 pandas.plotting.scatter_matrix() 一次畫出\n",
    "# 前 5 個 columns 彼此之間相關性的 scatter plots\n",
    "pd.plotting.scatter_matrix(df.iloc[:, 0:5], figsize=(6, 6))"
   ]
  },
  {
   "cell_type": "markdown",
   "metadata": {
    "colab_type": "text",
    "id": "7zvaL_FwfVuQ"
   },
   "source": [
    "> 備註：\n",
    "> \n",
    "> 說到畫圖，[Seaborn](https://seaborn.pydata.org) 也是另一個好用的套件，易學、美觀、好操作，這邊礙於篇幅暫不介紹，有興趣請自行移駕到官網去查看[用法](https://seaborn.pydata.org/tutorial.html)以及[可製作的圖表類型](https://seaborn.pydata.org/examples/index.html)。"
   ]
  },
  {
   "cell_type": "code",
   "execution_count": 32,
   "metadata": {},
   "outputs": [
    {
     "data": {
      "text/html": [
       "<div>\n",
       "<style scoped>\n",
       "    .dataframe tbody tr th:only-of-type {\n",
       "        vertical-align: middle;\n",
       "    }\n",
       "\n",
       "    .dataframe tbody tr th {\n",
       "        vertical-align: top;\n",
       "    }\n",
       "\n",
       "    .dataframe thead th {\n",
       "        text-align: right;\n",
       "    }\n",
       "</style>\n",
       "<table border=\"1\" class=\"dataframe\">\n",
       "  <thead>\n",
       "    <tr style=\"text-align: right;\">\n",
       "      <th></th>\n",
       "      <th>AMB_TEMP</th>\n",
       "      <th>CH4</th>\n",
       "      <th>CO</th>\n",
       "      <th>NMHC</th>\n",
       "      <th>NO</th>\n",
       "      <th>NO2</th>\n",
       "      <th>NOx</th>\n",
       "      <th>O3</th>\n",
       "      <th>PM10</th>\n",
       "      <th>PM2.5</th>\n",
       "      <th>RAINFALL</th>\n",
       "      <th>RH</th>\n",
       "      <th>SO2</th>\n",
       "      <th>THC</th>\n",
       "      <th>WD_HR</th>\n",
       "      <th>WIND_DIREC</th>\n",
       "      <th>WIND_SPEED</th>\n",
       "      <th>WS_HR</th>\n",
       "      <th>ONE</th>\n",
       "      <th>TSP</th>\n",
       "    </tr>\n",
       "  </thead>\n",
       "  <tbody>\n",
       "    <tr>\n",
       "      <th>AMB_TEMP</th>\n",
       "      <td>1.000000</td>\n",
       "      <td>-0.095646</td>\n",
       "      <td>-0.468451</td>\n",
       "      <td>0.001008</td>\n",
       "      <td>-0.015063</td>\n",
       "      <td>-0.417328</td>\n",
       "      <td>-0.348231</td>\n",
       "      <td>-0.101718</td>\n",
       "      <td>-0.314486</td>\n",
       "      <td>-0.317030</td>\n",
       "      <td>0.133390</td>\n",
       "      <td>0.005317</td>\n",
       "      <td>-0.121470</td>\n",
       "      <td>-0.086171</td>\n",
       "      <td>0.514243</td>\n",
       "      <td>0.498228</td>\n",
       "      <td>-0.345507</td>\n",
       "      <td>-0.105941</td>\n",
       "      <td>NaN</td>\n",
       "      <td>-0.346544</td>\n",
       "    </tr>\n",
       "    <tr>\n",
       "      <th>CH4</th>\n",
       "      <td>-0.095646</td>\n",
       "      <td>1.000000</td>\n",
       "      <td>0.362825</td>\n",
       "      <td>0.309408</td>\n",
       "      <td>0.252842</td>\n",
       "      <td>0.379967</td>\n",
       "      <td>0.398310</td>\n",
       "      <td>-0.411632</td>\n",
       "      <td>0.056986</td>\n",
       "      <td>0.352514</td>\n",
       "      <td>-0.102160</td>\n",
       "      <td>0.319289</td>\n",
       "      <td>-0.063315</td>\n",
       "      <td>0.971905</td>\n",
       "      <td>-0.172335</td>\n",
       "      <td>-0.151524</td>\n",
       "      <td>-0.428081</td>\n",
       "      <td>-0.384884</td>\n",
       "      <td>NaN</td>\n",
       "      <td>0.141120</td>\n",
       "    </tr>\n",
       "    <tr>\n",
       "      <th>CO</th>\n",
       "      <td>-0.468451</td>\n",
       "      <td>0.362825</td>\n",
       "      <td>1.000000</td>\n",
       "      <td>0.381404</td>\n",
       "      <td>0.348639</td>\n",
       "      <td>0.773510</td>\n",
       "      <td>0.754048</td>\n",
       "      <td>-0.059893</td>\n",
       "      <td>0.326570</td>\n",
       "      <td>0.621914</td>\n",
       "      <td>-0.250728</td>\n",
       "      <td>-0.066057</td>\n",
       "      <td>0.420317</td>\n",
       "      <td>0.412593</td>\n",
       "      <td>-0.311470</td>\n",
       "      <td>-0.287179</td>\n",
       "      <td>-0.035901</td>\n",
       "      <td>-0.114789</td>\n",
       "      <td>NaN</td>\n",
       "      <td>0.437229</td>\n",
       "    </tr>\n",
       "    <tr>\n",
       "      <th>NMHC</th>\n",
       "      <td>0.001008</td>\n",
       "      <td>0.309408</td>\n",
       "      <td>0.381404</td>\n",
       "      <td>1.000000</td>\n",
       "      <td>0.325209</td>\n",
       "      <td>0.450259</td>\n",
       "      <td>0.481549</td>\n",
       "      <td>-0.206016</td>\n",
       "      <td>0.040781</td>\n",
       "      <td>0.284723</td>\n",
       "      <td>-0.128383</td>\n",
       "      <td>0.031436</td>\n",
       "      <td>0.201809</td>\n",
       "      <td>0.494980</td>\n",
       "      <td>0.068997</td>\n",
       "      <td>0.073267</td>\n",
       "      <td>-0.257790</td>\n",
       "      <td>-0.223547</td>\n",
       "      <td>NaN</td>\n",
       "      <td>0.110005</td>\n",
       "    </tr>\n",
       "    <tr>\n",
       "      <th>NO</th>\n",
       "      <td>-0.015063</td>\n",
       "      <td>0.252842</td>\n",
       "      <td>0.348639</td>\n",
       "      <td>0.325209</td>\n",
       "      <td>1.000000</td>\n",
       "      <td>0.377324</td>\n",
       "      <td>0.649451</td>\n",
       "      <td>-0.295095</td>\n",
       "      <td>0.002166</td>\n",
       "      <td>0.103593</td>\n",
       "      <td>-0.106511</td>\n",
       "      <td>0.058932</td>\n",
       "      <td>0.197894</td>\n",
       "      <td>0.300532</td>\n",
       "      <td>0.014144</td>\n",
       "      <td>0.025690</td>\n",
       "      <td>-0.135503</td>\n",
       "      <td>-0.155452</td>\n",
       "      <td>NaN</td>\n",
       "      <td>0.030613</td>\n",
       "    </tr>\n",
       "    <tr>\n",
       "      <th>NO2</th>\n",
       "      <td>-0.417328</td>\n",
       "      <td>0.379967</td>\n",
       "      <td>0.773510</td>\n",
       "      <td>0.450259</td>\n",
       "      <td>0.377324</td>\n",
       "      <td>1.000000</td>\n",
       "      <td>0.948088</td>\n",
       "      <td>-0.235557</td>\n",
       "      <td>0.129795</td>\n",
       "      <td>0.428475</td>\n",
       "      <td>-0.209726</td>\n",
       "      <td>-0.034192</td>\n",
       "      <td>0.574450</td>\n",
       "      <td>0.442800</td>\n",
       "      <td>-0.241293</td>\n",
       "      <td>-0.224188</td>\n",
       "      <td>-0.158907</td>\n",
       "      <td>-0.204154</td>\n",
       "      <td>NaN</td>\n",
       "      <td>0.221738</td>\n",
       "    </tr>\n",
       "    <tr>\n",
       "      <th>NOx</th>\n",
       "      <td>-0.348231</td>\n",
       "      <td>0.398310</td>\n",
       "      <td>0.754048</td>\n",
       "      <td>0.481549</td>\n",
       "      <td>0.649451</td>\n",
       "      <td>0.948088</td>\n",
       "      <td>1.000000</td>\n",
       "      <td>-0.294146</td>\n",
       "      <td>0.107051</td>\n",
       "      <td>0.387123</td>\n",
       "      <td>-0.213853</td>\n",
       "      <td>-0.007901</td>\n",
       "      <td>0.538303</td>\n",
       "      <td>0.466453</td>\n",
       "      <td>-0.193207</td>\n",
       "      <td>-0.175685</td>\n",
       "      <td>-0.176970</td>\n",
       "      <td>-0.220944</td>\n",
       "      <td>NaN</td>\n",
       "      <td>0.192241</td>\n",
       "    </tr>\n",
       "    <tr>\n",
       "      <th>O3</th>\n",
       "      <td>-0.101718</td>\n",
       "      <td>-0.411632</td>\n",
       "      <td>-0.059893</td>\n",
       "      <td>-0.206016</td>\n",
       "      <td>-0.295095</td>\n",
       "      <td>-0.235557</td>\n",
       "      <td>-0.294146</td>\n",
       "      <td>1.000000</td>\n",
       "      <td>0.366435</td>\n",
       "      <td>0.223437</td>\n",
       "      <td>0.011866</td>\n",
       "      <td>-0.575484</td>\n",
       "      <td>0.114086</td>\n",
       "      <td>-0.422478</td>\n",
       "      <td>-0.012214</td>\n",
       "      <td>-0.016854</td>\n",
       "      <td>0.419541</td>\n",
       "      <td>0.201333</td>\n",
       "      <td>NaN</td>\n",
       "      <td>0.364012</td>\n",
       "    </tr>\n",
       "    <tr>\n",
       "      <th>PM10</th>\n",
       "      <td>-0.314486</td>\n",
       "      <td>0.056986</td>\n",
       "      <td>0.326570</td>\n",
       "      <td>0.040781</td>\n",
       "      <td>0.002166</td>\n",
       "      <td>0.129795</td>\n",
       "      <td>0.107051</td>\n",
       "      <td>0.366435</td>\n",
       "      <td>1.000000</td>\n",
       "      <td>0.534233</td>\n",
       "      <td>-0.236361</td>\n",
       "      <td>-0.292571</td>\n",
       "      <td>0.111875</td>\n",
       "      <td>0.061689</td>\n",
       "      <td>-0.248628</td>\n",
       "      <td>-0.226037</td>\n",
       "      <td>0.435866</td>\n",
       "      <td>0.278262</td>\n",
       "      <td>NaN</td>\n",
       "      <td>0.974828</td>\n",
       "    </tr>\n",
       "    <tr>\n",
       "      <th>PM2.5</th>\n",
       "      <td>-0.317030</td>\n",
       "      <td>0.352514</td>\n",
       "      <td>0.621914</td>\n",
       "      <td>0.284723</td>\n",
       "      <td>0.103593</td>\n",
       "      <td>0.428475</td>\n",
       "      <td>0.387123</td>\n",
       "      <td>0.223437</td>\n",
       "      <td>0.534233</td>\n",
       "      <td>1.000000</td>\n",
       "      <td>-0.223155</td>\n",
       "      <td>-0.120849</td>\n",
       "      <td>0.243551</td>\n",
       "      <td>0.382286</td>\n",
       "      <td>-0.147249</td>\n",
       "      <td>-0.120557</td>\n",
       "      <td>-0.097286</td>\n",
       "      <td>-0.201875</td>\n",
       "      <td>NaN</td>\n",
       "      <td>0.709260</td>\n",
       "    </tr>\n",
       "    <tr>\n",
       "      <th>RAINFALL</th>\n",
       "      <td>0.133390</td>\n",
       "      <td>-0.102160</td>\n",
       "      <td>-0.250728</td>\n",
       "      <td>-0.128383</td>\n",
       "      <td>-0.106511</td>\n",
       "      <td>-0.209726</td>\n",
       "      <td>-0.213853</td>\n",
       "      <td>0.011866</td>\n",
       "      <td>-0.236361</td>\n",
       "      <td>-0.223155</td>\n",
       "      <td>1.000000</td>\n",
       "      <td>0.279014</td>\n",
       "      <td>-0.192127</td>\n",
       "      <td>-0.126850</td>\n",
       "      <td>0.173335</td>\n",
       "      <td>0.172912</td>\n",
       "      <td>-0.080486</td>\n",
       "      <td>-0.080569</td>\n",
       "      <td>NaN</td>\n",
       "      <td>-0.253600</td>\n",
       "    </tr>\n",
       "    <tr>\n",
       "      <th>RH</th>\n",
       "      <td>0.005317</td>\n",
       "      <td>0.319289</td>\n",
       "      <td>-0.066057</td>\n",
       "      <td>0.031436</td>\n",
       "      <td>0.058932</td>\n",
       "      <td>-0.034192</td>\n",
       "      <td>-0.007901</td>\n",
       "      <td>-0.575484</td>\n",
       "      <td>-0.292571</td>\n",
       "      <td>-0.120849</td>\n",
       "      <td>0.279014</td>\n",
       "      <td>1.000000</td>\n",
       "      <td>-0.363914</td>\n",
       "      <td>0.298131</td>\n",
       "      <td>-0.121352</td>\n",
       "      <td>-0.117344</td>\n",
       "      <td>-0.364097</td>\n",
       "      <td>-0.252423</td>\n",
       "      <td>NaN</td>\n",
       "      <td>-0.276188</td>\n",
       "    </tr>\n",
       "    <tr>\n",
       "      <th>SO2</th>\n",
       "      <td>-0.121470</td>\n",
       "      <td>-0.063315</td>\n",
       "      <td>0.420317</td>\n",
       "      <td>0.201809</td>\n",
       "      <td>0.197894</td>\n",
       "      <td>0.574450</td>\n",
       "      <td>0.538303</td>\n",
       "      <td>0.114086</td>\n",
       "      <td>0.111875</td>\n",
       "      <td>0.243551</td>\n",
       "      <td>-0.192127</td>\n",
       "      <td>-0.363914</td>\n",
       "      <td>1.000000</td>\n",
       "      <td>-0.012178</td>\n",
       "      <td>-0.022655</td>\n",
       "      <td>-0.016075</td>\n",
       "      <td>0.059423</td>\n",
       "      <td>-0.015883</td>\n",
       "      <td>NaN</td>\n",
       "      <td>0.156579</td>\n",
       "    </tr>\n",
       "    <tr>\n",
       "      <th>THC</th>\n",
       "      <td>-0.086171</td>\n",
       "      <td>0.971905</td>\n",
       "      <td>0.412593</td>\n",
       "      <td>0.494980</td>\n",
       "      <td>0.300532</td>\n",
       "      <td>0.442800</td>\n",
       "      <td>0.466453</td>\n",
       "      <td>-0.422478</td>\n",
       "      <td>0.061689</td>\n",
       "      <td>0.382286</td>\n",
       "      <td>-0.126850</td>\n",
       "      <td>0.298131</td>\n",
       "      <td>-0.012178</td>\n",
       "      <td>1.000000</td>\n",
       "      <td>-0.140653</td>\n",
       "      <td>-0.120735</td>\n",
       "      <td>-0.444346</td>\n",
       "      <td>-0.396291</td>\n",
       "      <td>NaN</td>\n",
       "      <td>0.152879</td>\n",
       "    </tr>\n",
       "    <tr>\n",
       "      <th>WD_HR</th>\n",
       "      <td>0.514243</td>\n",
       "      <td>-0.172335</td>\n",
       "      <td>-0.311470</td>\n",
       "      <td>0.068997</td>\n",
       "      <td>0.014144</td>\n",
       "      <td>-0.241293</td>\n",
       "      <td>-0.193207</td>\n",
       "      <td>-0.012214</td>\n",
       "      <td>-0.248628</td>\n",
       "      <td>-0.147249</td>\n",
       "      <td>0.173335</td>\n",
       "      <td>-0.121352</td>\n",
       "      <td>-0.022655</td>\n",
       "      <td>-0.140653</td>\n",
       "      <td>1.000000</td>\n",
       "      <td>0.808654</td>\n",
       "      <td>-0.266882</td>\n",
       "      <td>-0.235165</td>\n",
       "      <td>NaN</td>\n",
       "      <td>-0.245405</td>\n",
       "    </tr>\n",
       "    <tr>\n",
       "      <th>WIND_DIREC</th>\n",
       "      <td>0.498228</td>\n",
       "      <td>-0.151524</td>\n",
       "      <td>-0.287179</td>\n",
       "      <td>0.073267</td>\n",
       "      <td>0.025690</td>\n",
       "      <td>-0.224188</td>\n",
       "      <td>-0.175685</td>\n",
       "      <td>-0.016854</td>\n",
       "      <td>-0.226037</td>\n",
       "      <td>-0.120557</td>\n",
       "      <td>0.172912</td>\n",
       "      <td>-0.117344</td>\n",
       "      <td>-0.016075</td>\n",
       "      <td>-0.120735</td>\n",
       "      <td>0.808654</td>\n",
       "      <td>1.000000</td>\n",
       "      <td>-0.284862</td>\n",
       "      <td>-0.242501</td>\n",
       "      <td>NaN</td>\n",
       "      <td>-0.219340</td>\n",
       "    </tr>\n",
       "    <tr>\n",
       "      <th>WIND_SPEED</th>\n",
       "      <td>-0.345507</td>\n",
       "      <td>-0.428081</td>\n",
       "      <td>-0.035901</td>\n",
       "      <td>-0.257790</td>\n",
       "      <td>-0.135503</td>\n",
       "      <td>-0.158907</td>\n",
       "      <td>-0.176970</td>\n",
       "      <td>0.419541</td>\n",
       "      <td>0.435866</td>\n",
       "      <td>-0.097286</td>\n",
       "      <td>-0.080486</td>\n",
       "      <td>-0.364097</td>\n",
       "      <td>0.059423</td>\n",
       "      <td>-0.444346</td>\n",
       "      <td>-0.266882</td>\n",
       "      <td>-0.284862</td>\n",
       "      <td>1.000000</td>\n",
       "      <td>0.807418</td>\n",
       "      <td>NaN</td>\n",
       "      <td>0.336412</td>\n",
       "    </tr>\n",
       "    <tr>\n",
       "      <th>WS_HR</th>\n",
       "      <td>-0.105941</td>\n",
       "      <td>-0.384884</td>\n",
       "      <td>-0.114789</td>\n",
       "      <td>-0.223547</td>\n",
       "      <td>-0.155452</td>\n",
       "      <td>-0.204154</td>\n",
       "      <td>-0.220944</td>\n",
       "      <td>0.201333</td>\n",
       "      <td>0.278262</td>\n",
       "      <td>-0.201875</td>\n",
       "      <td>-0.080569</td>\n",
       "      <td>-0.252423</td>\n",
       "      <td>-0.015883</td>\n",
       "      <td>-0.396291</td>\n",
       "      <td>-0.235165</td>\n",
       "      <td>-0.242501</td>\n",
       "      <td>0.807418</td>\n",
       "      <td>1.000000</td>\n",
       "      <td>NaN</td>\n",
       "      <td>0.177889</td>\n",
       "    </tr>\n",
       "    <tr>\n",
       "      <th>ONE</th>\n",
       "      <td>NaN</td>\n",
       "      <td>NaN</td>\n",
       "      <td>NaN</td>\n",
       "      <td>NaN</td>\n",
       "      <td>NaN</td>\n",
       "      <td>NaN</td>\n",
       "      <td>NaN</td>\n",
       "      <td>NaN</td>\n",
       "      <td>NaN</td>\n",
       "      <td>NaN</td>\n",
       "      <td>NaN</td>\n",
       "      <td>NaN</td>\n",
       "      <td>NaN</td>\n",
       "      <td>NaN</td>\n",
       "      <td>NaN</td>\n",
       "      <td>NaN</td>\n",
       "      <td>NaN</td>\n",
       "      <td>NaN</td>\n",
       "      <td>NaN</td>\n",
       "      <td>NaN</td>\n",
       "    </tr>\n",
       "    <tr>\n",
       "      <th>TSP</th>\n",
       "      <td>-0.346544</td>\n",
       "      <td>0.141120</td>\n",
       "      <td>0.437229</td>\n",
       "      <td>0.110005</td>\n",
       "      <td>0.030613</td>\n",
       "      <td>0.221738</td>\n",
       "      <td>0.192241</td>\n",
       "      <td>0.364012</td>\n",
       "      <td>0.974828</td>\n",
       "      <td>0.709260</td>\n",
       "      <td>-0.253600</td>\n",
       "      <td>-0.276188</td>\n",
       "      <td>0.156579</td>\n",
       "      <td>0.152879</td>\n",
       "      <td>-0.245405</td>\n",
       "      <td>-0.219340</td>\n",
       "      <td>0.336412</td>\n",
       "      <td>0.177889</td>\n",
       "      <td>NaN</td>\n",
       "      <td>1.000000</td>\n",
       "    </tr>\n",
       "  </tbody>\n",
       "</table>\n",
       "</div>"
      ],
      "text/plain": [
       "            AMB_TEMP       CH4        CO      NMHC        NO       NO2  \\\n",
       "AMB_TEMP    1.000000 -0.095646 -0.468451  0.001008 -0.015063 -0.417328   \n",
       "CH4        -0.095646  1.000000  0.362825  0.309408  0.252842  0.379967   \n",
       "CO         -0.468451  0.362825  1.000000  0.381404  0.348639  0.773510   \n",
       "NMHC        0.001008  0.309408  0.381404  1.000000  0.325209  0.450259   \n",
       "NO         -0.015063  0.252842  0.348639  0.325209  1.000000  0.377324   \n",
       "NO2        -0.417328  0.379967  0.773510  0.450259  0.377324  1.000000   \n",
       "NOx        -0.348231  0.398310  0.754048  0.481549  0.649451  0.948088   \n",
       "O3         -0.101718 -0.411632 -0.059893 -0.206016 -0.295095 -0.235557   \n",
       "PM10       -0.314486  0.056986  0.326570  0.040781  0.002166  0.129795   \n",
       "PM2.5      -0.317030  0.352514  0.621914  0.284723  0.103593  0.428475   \n",
       "RAINFALL    0.133390 -0.102160 -0.250728 -0.128383 -0.106511 -0.209726   \n",
       "RH          0.005317  0.319289 -0.066057  0.031436  0.058932 -0.034192   \n",
       "SO2        -0.121470 -0.063315  0.420317  0.201809  0.197894  0.574450   \n",
       "THC        -0.086171  0.971905  0.412593  0.494980  0.300532  0.442800   \n",
       "WD_HR       0.514243 -0.172335 -0.311470  0.068997  0.014144 -0.241293   \n",
       "WIND_DIREC  0.498228 -0.151524 -0.287179  0.073267  0.025690 -0.224188   \n",
       "WIND_SPEED -0.345507 -0.428081 -0.035901 -0.257790 -0.135503 -0.158907   \n",
       "WS_HR      -0.105941 -0.384884 -0.114789 -0.223547 -0.155452 -0.204154   \n",
       "ONE              NaN       NaN       NaN       NaN       NaN       NaN   \n",
       "TSP        -0.346544  0.141120  0.437229  0.110005  0.030613  0.221738   \n",
       "\n",
       "                 NOx        O3      PM10     PM2.5  RAINFALL        RH  \\\n",
       "AMB_TEMP   -0.348231 -0.101718 -0.314486 -0.317030  0.133390  0.005317   \n",
       "CH4         0.398310 -0.411632  0.056986  0.352514 -0.102160  0.319289   \n",
       "CO          0.754048 -0.059893  0.326570  0.621914 -0.250728 -0.066057   \n",
       "NMHC        0.481549 -0.206016  0.040781  0.284723 -0.128383  0.031436   \n",
       "NO          0.649451 -0.295095  0.002166  0.103593 -0.106511  0.058932   \n",
       "NO2         0.948088 -0.235557  0.129795  0.428475 -0.209726 -0.034192   \n",
       "NOx         1.000000 -0.294146  0.107051  0.387123 -0.213853 -0.007901   \n",
       "O3         -0.294146  1.000000  0.366435  0.223437  0.011866 -0.575484   \n",
       "PM10        0.107051  0.366435  1.000000  0.534233 -0.236361 -0.292571   \n",
       "PM2.5       0.387123  0.223437  0.534233  1.000000 -0.223155 -0.120849   \n",
       "RAINFALL   -0.213853  0.011866 -0.236361 -0.223155  1.000000  0.279014   \n",
       "RH         -0.007901 -0.575484 -0.292571 -0.120849  0.279014  1.000000   \n",
       "SO2         0.538303  0.114086  0.111875  0.243551 -0.192127 -0.363914   \n",
       "THC         0.466453 -0.422478  0.061689  0.382286 -0.126850  0.298131   \n",
       "WD_HR      -0.193207 -0.012214 -0.248628 -0.147249  0.173335 -0.121352   \n",
       "WIND_DIREC -0.175685 -0.016854 -0.226037 -0.120557  0.172912 -0.117344   \n",
       "WIND_SPEED -0.176970  0.419541  0.435866 -0.097286 -0.080486 -0.364097   \n",
       "WS_HR      -0.220944  0.201333  0.278262 -0.201875 -0.080569 -0.252423   \n",
       "ONE              NaN       NaN       NaN       NaN       NaN       NaN   \n",
       "TSP         0.192241  0.364012  0.974828  0.709260 -0.253600 -0.276188   \n",
       "\n",
       "                 SO2       THC     WD_HR  WIND_DIREC  WIND_SPEED     WS_HR  \\\n",
       "AMB_TEMP   -0.121470 -0.086171  0.514243    0.498228   -0.345507 -0.105941   \n",
       "CH4        -0.063315  0.971905 -0.172335   -0.151524   -0.428081 -0.384884   \n",
       "CO          0.420317  0.412593 -0.311470   -0.287179   -0.035901 -0.114789   \n",
       "NMHC        0.201809  0.494980  0.068997    0.073267   -0.257790 -0.223547   \n",
       "NO          0.197894  0.300532  0.014144    0.025690   -0.135503 -0.155452   \n",
       "NO2         0.574450  0.442800 -0.241293   -0.224188   -0.158907 -0.204154   \n",
       "NOx         0.538303  0.466453 -0.193207   -0.175685   -0.176970 -0.220944   \n",
       "O3          0.114086 -0.422478 -0.012214   -0.016854    0.419541  0.201333   \n",
       "PM10        0.111875  0.061689 -0.248628   -0.226037    0.435866  0.278262   \n",
       "PM2.5       0.243551  0.382286 -0.147249   -0.120557   -0.097286 -0.201875   \n",
       "RAINFALL   -0.192127 -0.126850  0.173335    0.172912   -0.080486 -0.080569   \n",
       "RH         -0.363914  0.298131 -0.121352   -0.117344   -0.364097 -0.252423   \n",
       "SO2         1.000000 -0.012178 -0.022655   -0.016075    0.059423 -0.015883   \n",
       "THC        -0.012178  1.000000 -0.140653   -0.120735   -0.444346 -0.396291   \n",
       "WD_HR      -0.022655 -0.140653  1.000000    0.808654   -0.266882 -0.235165   \n",
       "WIND_DIREC -0.016075 -0.120735  0.808654    1.000000   -0.284862 -0.242501   \n",
       "WIND_SPEED  0.059423 -0.444346 -0.266882   -0.284862    1.000000  0.807418   \n",
       "WS_HR      -0.015883 -0.396291 -0.235165   -0.242501    0.807418  1.000000   \n",
       "ONE              NaN       NaN       NaN         NaN         NaN       NaN   \n",
       "TSP         0.156579  0.152879 -0.245405   -0.219340    0.336412  0.177889   \n",
       "\n",
       "            ONE       TSP  \n",
       "AMB_TEMP    NaN -0.346544  \n",
       "CH4         NaN  0.141120  \n",
       "CO          NaN  0.437229  \n",
       "NMHC        NaN  0.110005  \n",
       "NO          NaN  0.030613  \n",
       "NO2         NaN  0.221738  \n",
       "NOx         NaN  0.192241  \n",
       "O3          NaN  0.364012  \n",
       "PM10        NaN  0.974828  \n",
       "PM2.5       NaN  0.709260  \n",
       "RAINFALL    NaN -0.253600  \n",
       "RH          NaN -0.276188  \n",
       "SO2         NaN  0.156579  \n",
       "THC         NaN  0.152879  \n",
       "WD_HR       NaN -0.245405  \n",
       "WIND_DIREC  NaN -0.219340  \n",
       "WIND_SPEED  NaN  0.336412  \n",
       "WS_HR       NaN  0.177889  \n",
       "ONE         NaN       NaN  \n",
       "TSP         NaN  1.000000  "
      ]
     },
     "execution_count": 32,
     "metadata": {},
     "output_type": "execute_result"
    }
   ],
   "source": [
    "df.corr()"
   ]
  },
  {
   "cell_type": "code",
   "execution_count": 33,
   "metadata": {},
   "outputs": [
    {
     "data": {
      "text/plain": [
       "<matplotlib.axes._subplots.AxesSubplot at 0x118abd438>"
      ]
     },
     "execution_count": 33,
     "metadata": {},
     "output_type": "execute_result"
    },
    {
     "data": {
      "image/png": "[encoded data removed]",
      "text/plain": [
       "<Figure size 900x900 with 2 Axes>"
      ]
     },
     "metadata": {},
     "output_type": "display_data"
    }
   ],
   "source": [
    "import matplotlib.pyplot as plt\n",
    "import seaborn as sns\n",
    "sns.set()\n",
    "\n",
    "# Draw a heatmap with the numeric values in each cell\n",
    "f, ax = plt.subplots(figsize=(9, 9))\n",
    "sns.heatmap(df.corr(), annot=True, annot_kws={'fontsize': 8}, linewidths=.5, ax=ax)"
   ]
  },
  {
   "cell_type": "code",
   "execution_count": 34,
   "metadata": {
    "colab": {
     "autoexec": {
      "startup": false,
      "wait_interval": 0
     },
     "base_uri": "https://localhost:8080/",
     "height": 490
    },
    "colab_type": "code",
    "executionInfo": {
     "elapsed": 1479,
     "status": "ok",
     "timestamp": 1530864547889,
     "user": {
      "displayName": "黃種平",
      "photoUrl": "//lh3.googleusercontent.com/-ay6h3dmyraY/AAAAAAAAAAI/AAAAAAAADhg/t8F2AGa00fc/s50-c-k-no/photo.jpg",
      "userId": "114874362450166068432"
     },
     "user_tz": -480
    },
    "id": "-UUP170uWoqd",
    "outputId": "1cdc4b0c-4b3b-43fb-b81f-6ac010406ec6"
   },
   "outputs": [
    {
     "data": {
      "image/png": "[encoded data removed]",
      "text/plain": [
       "<Figure size 500x500 with 2 Axes>"
      ]
     },
     "metadata": {},
     "output_type": "display_data"
    }
   ],
   "source": [
    "plt.figure(figsize=(5,5))\n",
    "plt.imshow(df.corr(), cmap='hot', interpolation='nearest')\n",
    "plt.xticks(range(len(df.columns)), df.columns, rotation=90) # rotation (文字)旋轉角度\n",
    "plt.yticks(range(len(df.columns)), df.columns)\n",
    "plt.colorbar()\n",
    "plt.show()"
   ]
  },
  {
   "cell_type": "markdown",
   "metadata": {
    "colab_type": "text",
    "id": "bYQDjUu6hjWq"
   },
   "source": [
    "### `.idxmin()`, `idxmax()`：回傳最小值或最大值的 Index Label\n",
    "\n",
    "* 常用 Parameters：\n",
    "    1. `axis`：\n",
    "        * `1` : 以 column 方向計算\n",
    "        * `0` : 以 row 方向計算\n",
    "    1. `skipna`：預設為 `True`\n",
    "        * `True` : 計算統計量的時候忽略 NA (`np.nan`，`None`)\n",
    "        * `False` : 只要資料中出現一筆 NA，則回傳 `NaN`\n",
    "* Return：Series\n",
    "* 參考文件：\n",
    "    * [pandas.DataFrame.idxmin](https://pandas.pydata.org/pandas-docs/stable/generated/pandas.DataFrame.idxmin.html)\n",
    "    * [pandas.DataFrame.idxmax](https://pandas.pydata.org/pandas-docs/stable/generated/pandas.DataFrame.idxmax.html)\n",
    "    * [pandas.Series.idxmin](https://pandas.pydata.org/pandas-docs/stable/generated/pandas.Series.idxmin.html)\n",
    "    * [pandas.Series.idxmax](https://pandas.pydata.org/pandas-docs/stable/generated/pandas.Series.idxmax.html)\n",
    "\n"
   ]
  },
  {
   "cell_type": "code",
   "execution_count": 35,
   "metadata": {
    "colab": {
     "autoexec": {
      "startup": false,
      "wait_interval": 0
     },
     "base_uri": "https://localhost:8080/",
     "height": 34
    },
    "colab_type": "code",
    "executionInfo": {
     "elapsed": 1155,
     "status": "ok",
     "timestamp": 1530864549458,
     "user": {
      "displayName": "黃種平",
      "photoUrl": "//lh3.googleusercontent.com/-ay6h3dmyraY/AAAAAAAAAAI/AAAAAAAADhg/t8F2AGa00fc/s50-c-k-no/photo.jpg",
      "userId": "114874362450166068432"
     },
     "user_tz": -480
    },
    "id": "3S89hItspx9k",
    "outputId": "f24bb984-f298-45e7-8294-d09c23de5878"
   },
   "outputs": [
    {
     "data": {
      "text/plain": [
       "Timestamp('2017-03-26 06:00:00')"
      ]
     },
     "execution_count": 35,
     "metadata": {},
     "output_type": "execute_result"
    }
   ],
   "source": [
    "# 找出非甲烷碳氫化合物 (column label: 'NMHC') 最小值的 index label\n",
    "df.loc[:, 'NMHC'].idxmin()"
   ]
  },
  {
   "cell_type": "code",
   "execution_count": 36,
   "metadata": {
    "colab": {
     "autoexec": {
      "startup": false,
      "wait_interval": 0
     },
     "base_uri": "https://localhost:8080/",
     "height": 357
    },
    "colab_type": "code",
    "executionInfo": {
     "elapsed": 1607,
     "status": "ok",
     "timestamp": 1530864551393,
     "user": {
      "displayName": "黃種平",
      "photoUrl": "//lh3.googleusercontent.com/-ay6h3dmyraY/AAAAAAAAAAI/AAAAAAAADhg/t8F2AGa00fc/s50-c-k-no/photo.jpg",
      "userId": "114874362450166068432"
     },
     "user_tz": -480
    },
    "id": "aKDukrDmGUe8",
    "outputId": "7936948c-f54e-4086-ae0e-94a184fd28b1"
   },
   "outputs": [
    {
     "data": {
      "text/plain": [
       "AMB_TEMP      15.00\n",
       "CH4            2.10\n",
       "CO             0.30\n",
       "NMHC          -0.03\n",
       "NO             1.70\n",
       "NO2            6.80\n",
       "NOx            8.50\n",
       "O3            46.00\n",
       "PM10          25.00\n",
       "PM2.5         16.00\n",
       "RAINFALL        NaN\n",
       "RH            82.00\n",
       "SO2            2.20\n",
       "THC            2.00\n",
       "WD_HR         65.00\n",
       "WIND_DIREC    62.00\n",
       "WIND_SPEED     5.30\n",
       "WS_HR          2.30\n",
       "ONE            1.00\n",
       "TSP           41.00\n",
       "Name: 2017-03-26 06:00:00, dtype: float64"
      ]
     },
     "execution_count": 36,
     "metadata": {},
     "output_type": "execute_result"
    }
   ],
   "source": [
    "# 之後就可以拿來找尋當時的資料狀況\n",
    "time_mnhc_min = df.loc[:, 'NMHC'].idxmin()\n",
    "df.loc[time_mnhc_min, :]"
   ]
  }
 ],
 "metadata": {
  "colab": {
   "default_view": {},
   "name": "Chapter 5 - Calculating.ipynb",
   "provenance": [],
   "toc_visible": true,
   "version": "0.3.2",
   "views": {}
  },
  "kernelspec": {
   "display_name": "Python 3",
   "language": "python",
   "name": "python3"
  },
  "language_info": {
   "codemirror_mode": {
    "name": "ipython",
    "version": 3
   },
   "file_extension": ".py",
   "mimetype": "text/x-python",
   "name": "python",
   "nbconvert_exporter": "python",
   "pygments_lexer": "ipython3",
   "version": "3.6.4"
  }
 },
 "nbformat": 4,
 "nbformat_minor": 2
}
