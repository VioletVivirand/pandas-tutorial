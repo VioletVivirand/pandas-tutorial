{
 "cells": [
  {
   "cell_type": "code",
   "execution_count": 1,
   "metadata": {
    "colab": {
     "autoexec": {
      "startup": false,
      "wait_interval": 0
     }
    },
    "colab_type": "code",
    "id": "uWE64OO25RXi"
   },
   "outputs": [],
   "source": [
    "import os\n",
    "import numpy as np\n",
    "import pandas as pd\n",
    "import matplotlib.pyplot as plt"
   ]
  },
  {
   "cell_type": "code",
   "execution_count": 2,
   "metadata": {
    "colab": {
     "autoexec": {
      "startup": false,
      "wait_interval": 0
     }
    },
    "colab_type": "code",
    "id": "nzeYG7whum_S"
   },
   "outputs": [],
   "source": [
    "pd.set_option('max_rows', 20)\n",
    "\n",
    "plt.style.use('default')\n",
    "plt.rcParams['figure.figsize'] = (12, 3)\n",
    "plt.rcParams['font.family'] = 'sans-serif'"
   ]
  },
  {
   "cell_type": "markdown",
   "metadata": {
    "colab_type": "text",
    "id": "d8LFzvX6pprA"
   },
   "source": [
    "# 第 1 章：介紹及檢視資料集"
   ]
  },
  {
   "cell_type": "markdown",
   "metadata": {
    "colab_type": "text",
    "id": "Elih4mNFp0Rj"
   },
   "source": [
    "資料分析的第一步，通常將透過工具取得的資料數據檔案給載入，並且先簡單的瀏覽一下數據，確認檔案是否有損毀、數據是否有錯誤、格式是否正確、數據是否合理⋯⋯等等。\n",
    "\n",
    "接下來的課程將介紹我們在整個課程中使用的範例資料集，以及簡單地觀察資料。"
   ]
  },
  {
   "cell_type": "markdown",
   "metadata": {
    "colab_type": "text",
    "id": "b2yXe3RHOtPX"
   },
   "source": [
    "## 範例資料集介紹：行政院環保署空氣品質測站歷年監測資料"
   ]
  },
  {
   "cell_type": "markdown",
   "metadata": {
    "colab_type": "text",
    "id": "u4DbvOGs_3tv"
   },
   "source": [
    "這次為了讓各位熟悉分析工具，我們找了行政院環保署提供的空氣品質監測資料，作為給各位練習的範例資料集。\n",
    "\n",
    "由於資料集包含**名目 (Nominal) 尺度**以及**比例 (Ratio) 尺度**的資料，加上選擇的地區就是我們正在上課的地點，希望讓各位在處理資料的時候，可以實際體驗到資料分析工作可能會遇到的狀況並依此練習，也可以在生活中找到資料科學應用的場景。"
   ]
  },
  {
   "cell_type": "markdown",
   "metadata": {
    "colab_type": "text",
    "id": "G1g8NT8eENcx"
   },
   "source": [
    "### 資料集簡介"
   ]
  },
  {
   "cell_type": "markdown",
   "metadata": {
    "colab_type": "text",
    "id": "ii953i7qEYA3"
   },
   "source": [
    "* 主題：空氣品質測站歷年監測資料\n",
    "* 資料來源：https://taqm.epa.gov.tw/taqm/tw/YearlyDataDownload.aspx\n",
    "* 地點：台灣雲林麥寮\n",
    "* 年份：2017 年\n",
    "* 資料收集頻率：每天 24 筆監測數據，共 8760 筆\n",
    "* 原始檔案中共有 19 個 columns，包含 1 column 的監測時間資料，18 columns 的監測項目資料\n",
    "* 監測時間說明：`datetime` type"
   ]
  },
  {
   "cell_type": "markdown",
   "metadata": {
    "colab_type": "text",
    "id": "RFqQxXCgFXZI"
   },
   "source": [
    "> 備註：\n",
    ">\n",
    "> 這裡所謂的原始資料，為講師在上課前已經執行部分預處理 (Preprocessing) 後的資料，若各位有興趣查看「真正」的原始資料（也就是未處理過的檔案）的狀況，請自行訪問資料來源網站並獲得資料集。\n"
   ]
  },
  {
   "cell_type": "markdown",
   "metadata": {
    "colab_type": "text",
    "id": "s-CgRPpnEQME"
   },
   "source": [
    "### 資料預覽\n"
   ]
  },
  {
   "cell_type": "markdown",
   "metadata": {
    "colab_type": "text",
    "id": "gVIQI0v3EWbd"
   },
   "source": [
    "時間 | 測項1 | 測項2 | 測項3 \n",
    "--- | --- | --- | ---\n",
    "2017-01-01 00:00:00\n",
    "2017-01-01 01:00:00\n",
    "2017-01-01 02:00:00\n",
    "...\n",
    "2017-01-01 23:00:00\n"
   ]
  },
  {
   "cell_type": "markdown",
   "metadata": {
    "colab_type": "text",
    "id": "FQbJ1QykESR9"
   },
   "source": [
    "### 監測項目說明"
   ]
  },
  {
   "cell_type": "markdown",
   "metadata": {
    "colab_type": "text",
    "id": "3BYmY4nGlR6H"
   },
   "source": [
    "測項簡稱 | 單位 | 測項名稱\n",
    "--- | --- | ---\n",
    "SO2 | ppb | 二氧化硫\n",
    "CO | ppm | 一氧化碳\n",
    "O3 | ppb | 臭氧\n",
    "PM10 | μg/m<sup>3</sup> | 粒徑小於等於十微米 (μm) 之懸浮微粒\n",
    "PM2.5 | μg/m<sup>3</sup> | 粒徑小於等於二‧五微米 (μm) 之懸浮微粒\n",
    "NOX | ppb | 氮氧化物。所有含氮的氧化物的化學物質通稱為氮氧化物 (NOx)。當燃燒工序以高溫進行時，例如發電廠及汽車引擎操作時，這等氣體便會形成，排放入大氣中。\n",
    "NO | ppb | 一氧化氮。燃燒過程中所產生的主要的NOx，也可轉化為二氧化氮。\n",
    "NO2 | ppb | 二氧化氮。腐蝕性高和氧化能力強的淺啡色氣體，濃度高時會含刺激性酸味。在陽光下生成臭氧。 市區霞氣或光化學霧的主要成分。\n",
    "THC | ppm | 總碳氫合物\n",
    "NMHC | ppm | 非甲烷碳氫化合物\n",
    "CH4 | ppm | 甲烷\n",
    "UVB | UVI | 紫外線指數\n",
    "AMB_TEMP | ℃ | 大氣溫度\n",
    "RAINFALL | mm | 雨量\n",
    "RH | % | 相對溼度\n",
    "WIND_SPEED | m/sec | 風速（以每小時最後 10 分鐘算術平均）\n",
    "WIND_DIREC | degress | 風向（以每小時最後 10 分鐘向量平均）\n",
    "WS_HR | m/sec | 風速小時值（以整個小時算術平均）\n",
    "WD_HR | degress | 風向小時值（以整個小時向量平均）\n",
    "PH_RAIN | pH | 酸鹼值（酸雨）\n",
    "RAIN_COND | μS/cm | 導電度（酸雨）\n",
    "\n",
    "* 單位說明：\n",
    "    * μg/m<sup>3</sup>：微克／立方公尺\n",
    "    * ppm：體積濃度百萬分之一\n",
    "    * ppb：體積濃度十億分之一"
   ]
  },
  {
   "cell_type": "markdown",
   "metadata": {
    "colab_type": "text",
    "id": "XPok4y2kKywr"
   },
   "source": [
    "## `read_csv()`：讀取 CSV 資料檔案"
   ]
  },
  {
   "cell_type": "markdown",
   "metadata": {
    "colab_type": "text",
    "id": "zj5pp9RWGfAQ"
   },
   "source": [
    "[CSV 檔案](https://zh.wikipedia.org/zh-tw/逗號分隔值)是一種常見的資料類型，比起 Microsoft Excel 或是其他試算表工具的專用格式，CSV 檔案顯得相當容易維護，且檔案容量相對其他格式顯得較小，在傳送時也相當方便，是我們相當推薦的格式。讀取時只要調用 `read_csv()` function 即可。\n",
    "\n",
    "常用 Parameters : \n",
    "\n",
    "1. `filepath_or_buffer` : 路徑名稱\n",
    "1. `parse_dates` : 將欲轉成  `datetime` 格式的 column 放入 list，預設為 `False`\n",
    "1. `index_col` : 欲設定成 index 的 column，預設為 `None`\n",
    "\n",
    "一般的試算表應用程式或是資料分析程式都有支援輸出資料檔案為 CSV 檔案的功能。如果還是有讀取 Excel 檔案的需求，也可以選擇調用 `read_excel()`（需要事先安裝 [`xlrd` 套件](https://pypi.org/project/xlrd/)）function 來完成。\n",
    "\n",
    "讀取檔案時需要指定路徑及檔案名稱，這裡我們會利用 Python 內建的 `os` Library 裡的 function 來輔助。主要是可以避免在不同平台時可能會有路徑格式不同的問題，這時就建議使用 `os.path.join()` function 來標示完整路徑。\n",
    "\n",
    "參考文件：\n",
    "\n",
    "* [pandas.read_csv()](http://pandas.pydata.org/pandas-docs/stable/io.html#io-read-csv-table)\n",
    "* [pandas.read_excel()](http://pandas.pydata.org/pandas-docs/stable/io.html#io-excel-reader)\n",
    "* [10 minutes to pandas | Getting Data In/Out](http://pandas.pydata.org/pandas-docs/stable/10min.html#getting-data-in-out)\n",
    "* [IO Tools (Text, CSV, HDF5, …)](http://pandas.pydata.org/pandas-docs/stable/io.html)\n",
    "* [os.path.join](https://docs.python.org/3/library/os.path.html#os.path.join)"
   ]
  },
  {
   "cell_type": "code",
   "execution_count": 3,
   "metadata": {
    "colab": {
     "autoexec": {
      "startup": false,
      "wait_interval": 0
     },
     "base_uri": "https://localhost:8080/",
     "height": 34
    },
    "colab_type": "code",
    "executionInfo": {
     "elapsed": 1273,
     "status": "ok",
     "timestamp": 1530863746501,
     "user": {
      "displayName": "黃種平",
      "photoUrl": "//lh3.googleusercontent.com/-ay6h3dmyraY/AAAAAAAAAAI/AAAAAAAADhg/t8F2AGa00fc/s50-c-k-no/photo.jpg",
      "userId": "114874362450166068432"
     },
     "user_tz": -480
    },
    "id": "ftyvhZWsD4wC",
    "outputId": "4c1b53e0-7506-4f0c-dc84-adca204de7fb"
   },
   "outputs": [
    {
     "name": "stdout",
     "output_type": "stream",
     "text": [
      "./data/aqi.csv\n"
     ]
    }
   ],
   "source": [
    "# 指定檔案位置，包含完整路徑以及檔案名稱\n",
    "# os.curdir: 回傳目前目錄的路徑\n",
    "AQI_FILEPATH = os.path.join(os.curdir, 'data', 'aqi.csv')\n",
    "\n",
    "# 檢視檔案位置\n",
    "print(AQI_FILEPATH)"
   ]
  },
  {
   "cell_type": "code",
   "execution_count": 4,
   "metadata": {
    "colab": {
     "autoexec": {
      "startup": false,
      "wait_interval": 0
     },
     "base_uri": "https://localhost:8080/",
     "height": 425
    },
    "colab_type": "code",
    "executionInfo": {
     "elapsed": 10321,
     "status": "ok",
     "timestamp": 1530863785106,
     "user": {
      "displayName": "黃種平",
      "photoUrl": "//lh3.googleusercontent.com/-ay6h3dmyraY/AAAAAAAAAAI/AAAAAAAADhg/t8F2AGa00fc/s50-c-k-no/photo.jpg",
      "userId": "114874362450166068432"
     },
     "user_tz": -480
    },
    "id": "i_-WEjO2eDIw",
    "outputId": "33385e06-ea35-48d4-dc2b-d0a2b06c5721"
   },
   "outputs": [
    {
     "data": {
      "text/html": [
       "<div>\n",
       "<style scoped>\n",
       "    .dataframe tbody tr th:only-of-type {\n",
       "        vertical-align: middle;\n",
       "    }\n",
       "\n",
       "    .dataframe tbody tr th {\n",
       "        vertical-align: top;\n",
       "    }\n",
       "\n",
       "    .dataframe thead th {\n",
       "        text-align: right;\n",
       "    }\n",
       "</style>\n",
       "<table border=\"1\" class=\"dataframe\">\n",
       "  <thead>\n",
       "    <tr style=\"text-align: right;\">\n",
       "      <th></th>\n",
       "      <th>AMB_TEMP</th>\n",
       "      <th>CH4</th>\n",
       "      <th>CO</th>\n",
       "      <th>NMHC</th>\n",
       "      <th>NO</th>\n",
       "      <th>NO2</th>\n",
       "      <th>NOx</th>\n",
       "      <th>O3</th>\n",
       "      <th>PM10</th>\n",
       "      <th>PM2.5</th>\n",
       "      <th>RAINFALL</th>\n",
       "      <th>RH</th>\n",
       "      <th>SO2</th>\n",
       "      <th>THC</th>\n",
       "      <th>WD_HR</th>\n",
       "      <th>WIND_DIREC</th>\n",
       "      <th>WIND_SPEED</th>\n",
       "      <th>WS_HR</th>\n",
       "    </tr>\n",
       "    <tr>\n",
       "      <th>datetime</th>\n",
       "      <th></th>\n",
       "      <th></th>\n",
       "      <th></th>\n",
       "      <th></th>\n",
       "      <th></th>\n",
       "      <th></th>\n",
       "      <th></th>\n",
       "      <th></th>\n",
       "      <th></th>\n",
       "      <th></th>\n",
       "      <th></th>\n",
       "      <th></th>\n",
       "      <th></th>\n",
       "      <th></th>\n",
       "      <th></th>\n",
       "      <th></th>\n",
       "      <th></th>\n",
       "      <th></th>\n",
       "    </tr>\n",
       "  </thead>\n",
       "  <tbody>\n",
       "    <tr>\n",
       "      <th>2017-01-01 00:00:00</th>\n",
       "      <td>20.0</td>\n",
       "      <td>2.0</td>\n",
       "      <td>0.20</td>\n",
       "      <td>0.04</td>\n",
       "      <td>1.7</td>\n",
       "      <td>7.5</td>\n",
       "      <td>9.2</td>\n",
       "      <td>25.0</td>\n",
       "      <td>67.0</td>\n",
       "      <td>18.0</td>\n",
       "      <td>NR</td>\n",
       "      <td>88.0</td>\n",
       "      <td>1.5</td>\n",
       "      <td>2.0</td>\n",
       "      <td>33.0</td>\n",
       "      <td>37.0</td>\n",
       "      <td>1.4</td>\n",
       "      <td>0.1</td>\n",
       "    </tr>\n",
       "    <tr>\n",
       "      <th>2017-01-01 01:00:00</th>\n",
       "      <td>20.0</td>\n",
       "      <td>2.2</td>\n",
       "      <td>0.19</td>\n",
       "      <td>0.05</td>\n",
       "      <td>1.9</td>\n",
       "      <td>7.9</td>\n",
       "      <td>9.8</td>\n",
       "      <td>18.0</td>\n",
       "      <td>52.0</td>\n",
       "      <td>14.0</td>\n",
       "      <td>NR</td>\n",
       "      <td>88.0</td>\n",
       "      <td>2.1</td>\n",
       "      <td>2.2</td>\n",
       "      <td>76.0</td>\n",
       "      <td>143.0</td>\n",
       "      <td>0.5</td>\n",
       "      <td>0.6</td>\n",
       "    </tr>\n",
       "    <tr>\n",
       "      <th>2017-01-01 02:00:00</th>\n",
       "      <td>19.0</td>\n",
       "      <td>2.2</td>\n",
       "      <td>0.24</td>\n",
       "      <td>0.08</td>\n",
       "      <td>2.0</td>\n",
       "      <td>9.3</td>\n",
       "      <td>11.0</td>\n",
       "      <td>13.0</td>\n",
       "      <td>59.0</td>\n",
       "      <td>17.0</td>\n",
       "      <td>NR</td>\n",
       "      <td>89.0</td>\n",
       "      <td>2.0</td>\n",
       "      <td>2.3</td>\n",
       "      <td>140.0</td>\n",
       "      <td>142.0</td>\n",
       "      <td>0.5</td>\n",
       "      <td>0.6</td>\n",
       "    </tr>\n",
       "    <tr>\n",
       "      <th>2017-01-01 03:00:00</th>\n",
       "      <td>19.0</td>\n",
       "      <td>2.4</td>\n",
       "      <td>0.24</td>\n",
       "      <td>0.11</td>\n",
       "      <td>1.4</td>\n",
       "      <td>9.5</td>\n",
       "      <td>11.0</td>\n",
       "      <td>8.5</td>\n",
       "      <td>53.0</td>\n",
       "      <td>24.0</td>\n",
       "      <td>NR</td>\n",
       "      <td>90.0</td>\n",
       "      <td>1.8</td>\n",
       "      <td>2.5</td>\n",
       "      <td>107.0</td>\n",
       "      <td>51.0</td>\n",
       "      <td>0.5</td>\n",
       "      <td>0.4</td>\n",
       "    </tr>\n",
       "    <tr>\n",
       "      <th>2017-01-01 04:00:00</th>\n",
       "      <td>18.0</td>\n",
       "      <td>3.4</td>\n",
       "      <td>0.23</td>\n",
       "      <td>0.12</td>\n",
       "      <td>6.8</td>\n",
       "      <td>11.0</td>\n",
       "      <td>17.0</td>\n",
       "      <td>1.8</td>\n",
       "      <td>37.0</td>\n",
       "      <td>25.0</td>\n",
       "      <td>NR</td>\n",
       "      <td>90.0</td>\n",
       "      <td>1.7</td>\n",
       "      <td>3.6</td>\n",
       "      <td>96.0</td>\n",
       "      <td>106.0</td>\n",
       "      <td>1.0</td>\n",
       "      <td>0.5</td>\n",
       "    </tr>\n",
       "  </tbody>\n",
       "</table>\n",
       "</div>"
      ],
      "text/plain": [
       "                     AMB_TEMP  CH4    CO  NMHC   NO   NO2   NOx    O3  PM10  \\\n",
       "datetime                                                                      \n",
       "2017-01-01 00:00:00      20.0  2.0  0.20  0.04  1.7   7.5   9.2  25.0  67.0   \n",
       "2017-01-01 01:00:00      20.0  2.2  0.19  0.05  1.9   7.9   9.8  18.0  52.0   \n",
       "2017-01-01 02:00:00      19.0  2.2  0.24  0.08  2.0   9.3  11.0  13.0  59.0   \n",
       "2017-01-01 03:00:00      19.0  2.4  0.24  0.11  1.4   9.5  11.0   8.5  53.0   \n",
       "2017-01-01 04:00:00      18.0  3.4  0.23  0.12  6.8  11.0  17.0   1.8  37.0   \n",
       "\n",
       "                     PM2.5 RAINFALL    RH  SO2  THC  WD_HR  WIND_DIREC  \\\n",
       "datetime                                                                 \n",
       "2017-01-01 00:00:00   18.0       NR  88.0  1.5  2.0   33.0        37.0   \n",
       "2017-01-01 01:00:00   14.0       NR  88.0  2.1  2.2   76.0       143.0   \n",
       "2017-01-01 02:00:00   17.0       NR  89.0  2.0  2.3  140.0       142.0   \n",
       "2017-01-01 03:00:00   24.0       NR  90.0  1.8  2.5  107.0        51.0   \n",
       "2017-01-01 04:00:00   25.0       NR  90.0  1.7  3.6   96.0       106.0   \n",
       "\n",
       "                     WIND_SPEED  WS_HR  \n",
       "datetime                                \n",
       "2017-01-01 00:00:00         1.4    0.1  \n",
       "2017-01-01 01:00:00         0.5    0.6  \n",
       "2017-01-01 02:00:00         0.5    0.6  \n",
       "2017-01-01 03:00:00         0.5    0.4  \n",
       "2017-01-01 04:00:00         1.0    0.5  "
      ]
     },
     "execution_count": 4,
     "metadata": {},
     "output_type": "execute_result"
    }
   ],
   "source": [
    "# 讀取 CSV 檔案，並將其指定為名稱是 df (DataFrame) 的物件\n",
    "df = pd.read_csv(filepath_or_buffer=AQI_FILEPATH, parse_dates=['datetime'], index_col='datetime')\n",
    "df_bak = df.copy()\n",
    "\n",
    "# 使用 head() method 大略地瀏覽資料\n",
    "df.head()"
   ]
  },
  {
   "cell_type": "code",
   "execution_count": 5,
   "metadata": {},
   "outputs": [
    {
     "data": {
      "text/html": [
       "<div>\n",
       "<style scoped>\n",
       "    .dataframe tbody tr th:only-of-type {\n",
       "        vertical-align: middle;\n",
       "    }\n",
       "\n",
       "    .dataframe tbody tr th {\n",
       "        vertical-align: top;\n",
       "    }\n",
       "\n",
       "    .dataframe thead th {\n",
       "        text-align: right;\n",
       "    }\n",
       "</style>\n",
       "<table border=\"1\" class=\"dataframe\">\n",
       "  <thead>\n",
       "    <tr style=\"text-align: right;\">\n",
       "      <th></th>\n",
       "      <th>AMB_TEMP</th>\n",
       "      <th>CH4</th>\n",
       "      <th>CO</th>\n",
       "      <th>NMHC</th>\n",
       "      <th>NO</th>\n",
       "      <th>NO2</th>\n",
       "      <th>NOx</th>\n",
       "      <th>O3</th>\n",
       "      <th>PM10</th>\n",
       "      <th>PM2.5</th>\n",
       "      <th>RAINFALL</th>\n",
       "      <th>RH</th>\n",
       "      <th>SO2</th>\n",
       "      <th>THC</th>\n",
       "      <th>WD_HR</th>\n",
       "      <th>WIND_DIREC</th>\n",
       "      <th>WIND_SPEED</th>\n",
       "      <th>WS_HR</th>\n",
       "    </tr>\n",
       "    <tr>\n",
       "      <th>datetime</th>\n",
       "      <th></th>\n",
       "      <th></th>\n",
       "      <th></th>\n",
       "      <th></th>\n",
       "      <th></th>\n",
       "      <th></th>\n",
       "      <th></th>\n",
       "      <th></th>\n",
       "      <th></th>\n",
       "      <th></th>\n",
       "      <th></th>\n",
       "      <th></th>\n",
       "      <th></th>\n",
       "      <th></th>\n",
       "      <th></th>\n",
       "      <th></th>\n",
       "      <th></th>\n",
       "      <th></th>\n",
       "    </tr>\n",
       "  </thead>\n",
       "  <tbody>\n",
       "    <tr>\n",
       "      <th>2017-12-31 19:00:00</th>\n",
       "      <td>17.0</td>\n",
       "      <td>2.0</td>\n",
       "      <td>0.57</td>\n",
       "      <td>0.11</td>\n",
       "      <td>0.9</td>\n",
       "      <td>16.0</td>\n",
       "      <td>17.0</td>\n",
       "      <td>25.0</td>\n",
       "      <td>88.0</td>\n",
       "      <td>53.0</td>\n",
       "      <td>NR</td>\n",
       "      <td>73.0</td>\n",
       "      <td>3.8</td>\n",
       "      <td>2.1</td>\n",
       "      <td>11.0</td>\n",
       "      <td>11.0</td>\n",
       "      <td>5.6</td>\n",
       "      <td>5.6</td>\n",
       "    </tr>\n",
       "    <tr>\n",
       "      <th>2017-12-31 20:00:00</th>\n",
       "      <td>17.0</td>\n",
       "      <td>2.0</td>\n",
       "      <td>0.53</td>\n",
       "      <td>0.10</td>\n",
       "      <td>0.9</td>\n",
       "      <td>18.0</td>\n",
       "      <td>19.0</td>\n",
       "      <td>23.0</td>\n",
       "      <td>82.0</td>\n",
       "      <td>48.0</td>\n",
       "      <td>NR</td>\n",
       "      <td>73.0</td>\n",
       "      <td>4.8</td>\n",
       "      <td>2.1</td>\n",
       "      <td>11.0</td>\n",
       "      <td>11.0</td>\n",
       "      <td>4.5</td>\n",
       "      <td>5.0</td>\n",
       "    </tr>\n",
       "    <tr>\n",
       "      <th>2017-12-31 21:00:00</th>\n",
       "      <td>17.0</td>\n",
       "      <td>1.9</td>\n",
       "      <td>0.49</td>\n",
       "      <td>0.09</td>\n",
       "      <td>0.9</td>\n",
       "      <td>17.0</td>\n",
       "      <td>18.0</td>\n",
       "      <td>25.0</td>\n",
       "      <td>91.0</td>\n",
       "      <td>44.0</td>\n",
       "      <td>NR</td>\n",
       "      <td>73.0</td>\n",
       "      <td>4.3</td>\n",
       "      <td>2.0</td>\n",
       "      <td>12.0</td>\n",
       "      <td>14.0</td>\n",
       "      <td>3.8</td>\n",
       "      <td>4.6</td>\n",
       "    </tr>\n",
       "    <tr>\n",
       "      <th>2017-12-31 22:00:00</th>\n",
       "      <td>17.0</td>\n",
       "      <td>1.9</td>\n",
       "      <td>0.46</td>\n",
       "      <td>0.08</td>\n",
       "      <td>0.9</td>\n",
       "      <td>20.0</td>\n",
       "      <td>21.0</td>\n",
       "      <td>21.0</td>\n",
       "      <td>82.0</td>\n",
       "      <td>41.0</td>\n",
       "      <td>NR</td>\n",
       "      <td>72.0</td>\n",
       "      <td>6.0</td>\n",
       "      <td>2.0</td>\n",
       "      <td>14.0</td>\n",
       "      <td>15.0</td>\n",
       "      <td>4.2</td>\n",
       "      <td>4.0</td>\n",
       "    </tr>\n",
       "    <tr>\n",
       "      <th>2017-12-31 23:00:00</th>\n",
       "      <td>17.0</td>\n",
       "      <td>1.9</td>\n",
       "      <td>0.45</td>\n",
       "      <td>0.06</td>\n",
       "      <td>1.0</td>\n",
       "      <td>20.0</td>\n",
       "      <td>21.0</td>\n",
       "      <td>21.0</td>\n",
       "      <td>77.0</td>\n",
       "      <td>35.0</td>\n",
       "      <td>NR</td>\n",
       "      <td>70.0</td>\n",
       "      <td>6.8</td>\n",
       "      <td>2.0</td>\n",
       "      <td>16.0</td>\n",
       "      <td>19.0</td>\n",
       "      <td>3.8</td>\n",
       "      <td>3.9</td>\n",
       "    </tr>\n",
       "  </tbody>\n",
       "</table>\n",
       "</div>"
      ],
      "text/plain": [
       "                     AMB_TEMP  CH4    CO  NMHC   NO   NO2   NOx    O3  PM10  \\\n",
       "datetime                                                                      \n",
       "2017-12-31 19:00:00      17.0  2.0  0.57  0.11  0.9  16.0  17.0  25.0  88.0   \n",
       "2017-12-31 20:00:00      17.0  2.0  0.53  0.10  0.9  18.0  19.0  23.0  82.0   \n",
       "2017-12-31 21:00:00      17.0  1.9  0.49  0.09  0.9  17.0  18.0  25.0  91.0   \n",
       "2017-12-31 22:00:00      17.0  1.9  0.46  0.08  0.9  20.0  21.0  21.0  82.0   \n",
       "2017-12-31 23:00:00      17.0  1.9  0.45  0.06  1.0  20.0  21.0  21.0  77.0   \n",
       "\n",
       "                     PM2.5 RAINFALL    RH  SO2  THC  WD_HR  WIND_DIREC  \\\n",
       "datetime                                                                 \n",
       "2017-12-31 19:00:00   53.0       NR  73.0  3.8  2.1   11.0        11.0   \n",
       "2017-12-31 20:00:00   48.0       NR  73.0  4.8  2.1   11.0        11.0   \n",
       "2017-12-31 21:00:00   44.0       NR  73.0  4.3  2.0   12.0        14.0   \n",
       "2017-12-31 22:00:00   41.0       NR  72.0  6.0  2.0   14.0        15.0   \n",
       "2017-12-31 23:00:00   35.0       NR  70.0  6.8  2.0   16.0        19.0   \n",
       "\n",
       "                     WIND_SPEED  WS_HR  \n",
       "datetime                                \n",
       "2017-12-31 19:00:00         5.6    5.6  \n",
       "2017-12-31 20:00:00         4.5    5.0  \n",
       "2017-12-31 21:00:00         3.8    4.6  \n",
       "2017-12-31 22:00:00         4.2    4.0  \n",
       "2017-12-31 23:00:00         3.8    3.9  "
      ]
     },
     "execution_count": 5,
     "metadata": {},
     "output_type": "execute_result"
    }
   ],
   "source": [
    "df.tail()"
   ]
  },
  {
   "cell_type": "code",
   "execution_count": 6,
   "metadata": {
    "colab": {
     "autoexec": {
      "startup": false,
      "wait_interval": 0
     },
     "base_uri": "https://localhost:8080/",
     "height": 34
    },
    "colab_type": "code",
    "executionInfo": {
     "elapsed": 1094,
     "status": "ok",
     "timestamp": 1530863786265,
     "user": {
      "displayName": "黃種平",
      "photoUrl": "//lh3.googleusercontent.com/-ay6h3dmyraY/AAAAAAAAAAI/AAAAAAAADhg/t8F2AGa00fc/s50-c-k-no/photo.jpg",
      "userId": "114874362450166068432"
     },
     "user_tz": -480
    },
    "id": "UZhMwmehI12g",
    "outputId": "b68c4cd7-fc93-4971-acd1-029a934d2e33"
   },
   "outputs": [
    {
     "data": {
      "text/plain": [
       "pandas.core.frame.DataFrame"
      ]
     },
     "execution_count": 6,
     "metadata": {},
     "output_type": "execute_result"
    }
   ],
   "source": [
    "# 使用內建的 type() function 來確認讀取後的物件類型\n",
    "# https://docs.python.org/3/library/functions.html#type\n",
    "type(df)"
   ]
  },
  {
   "cell_type": "code",
   "execution_count": 7,
   "metadata": {
    "colab": {
     "autoexec": {
      "startup": false,
      "wait_interval": 0
     },
     "base_uri": "https://localhost:8080/",
     "height": 34
    },
    "colab_type": "code",
    "executionInfo": {
     "elapsed": 1002,
     "status": "ok",
     "timestamp": 1530863787568,
     "user": {
      "displayName": "黃種平",
      "photoUrl": "//lh3.googleusercontent.com/-ay6h3dmyraY/AAAAAAAAAAI/AAAAAAAADhg/t8F2AGa00fc/s50-c-k-no/photo.jpg",
      "userId": "114874362450166068432"
     },
     "user_tz": -480
    },
    "id": "nc7i1Mu6odu7",
    "outputId": "a1a2ed33-37a8-4d4e-d708-07ee9cc1bb1e"
   },
   "outputs": [
    {
     "data": {
      "text/plain": [
       "pandas.core.indexes.datetimes.DatetimeIndex"
      ]
     },
     "execution_count": 7,
     "metadata": {},
     "output_type": "execute_result"
    }
   ],
   "source": [
    "# 檢視資料 DataFrame 的索引的物件類型\n",
    "type(df.index)"
   ]
  },
  {
   "cell_type": "code",
   "execution_count": 8,
   "metadata": {},
   "outputs": [
    {
     "data": {
      "text/plain": [
       "pandas.core.series.Series"
      ]
     },
     "execution_count": 8,
     "metadata": {},
     "output_type": "execute_result"
    }
   ],
   "source": [
    "s = df['PM2.5']\n",
    "type(s)"
   ]
  },
  {
   "cell_type": "code",
   "execution_count": 9,
   "metadata": {},
   "outputs": [
    {
     "data": {
      "text/plain": [
       "str"
      ]
     },
     "execution_count": 9,
     "metadata": {},
     "output_type": "execute_result"
    }
   ],
   "source": [
    "string = 'Hello World!'\n",
    "type(string)"
   ]
  },
  {
   "cell_type": "markdown",
   "metadata": {
    "colab_type": "text",
    "id": "F5xi_Sk4K55x"
   },
   "source": [
    "## 資料初探"
   ]
  },
  {
   "cell_type": "markdown",
   "metadata": {
    "colab_type": "text",
    "id": "FiF54u3XL8Hn"
   },
   "source": [
    "### 名詞解釋：欄 (Column) 與列 (Row)\n",
    "\n",
    "下表由縱向來看，日期為**索引 (Index)**，而 `AMB_TEMP`, `CH4`, `CO`, `NMHC` 則稱為排或是**欄 (Column)**，所以這個表格中總共有 4 個 Column。\n",
    "\n",
    "而由橫向來看時，每一**列 (Row)** 為一筆資料。\n",
    "\n",
    "| AMB_TEMP | CH4 | CO | NMHC\n",
    "--- | ---\n",
    "2017-01-01 00:00:00 | 20.0 | 2.0 | 0.20 | 0.04\n",
    "2017-01-01 00:00:00 | 20.0 | 2.2 | 0.19 | 0.05\n",
    "2017-01-01 00:00:00 | 19.0 | 2.2 | 0.24 | 0.08\n"
   ]
  },
  {
   "cell_type": "markdown",
   "metadata": {
    "colab_type": "text",
    "id": "wKFUFXlcgn5o"
   },
   "source": [
    "> [NOTE] 若各位之後有機會閱讀中國大陸的文件，他們在稱呼欄與列時，與我們的方向是相反的。\n",
    "> \n",
    "> 因為怕各位混淆，往後我們在觀察資料時，將直接標註為 Column 或 Row，不再使用中文稱呼。\n",
    ">\n",
    "> 也因為基於翻譯在不同的地區、作者可能會有不同的中文名詞，我們也會儘量使用原始的英文名詞來描述。"
   ]
  },
  {
   "cell_type": "markdown",
   "metadata": {
    "colab_type": "text",
    "id": "YI9WE38elfpT"
   },
   "source": [
    "### 檢視特定欄位的資料"
   ]
  },
  {
   "cell_type": "markdown",
   "metadata": {
    "colab_type": "text",
    "id": "GK9BKn4chbgS"
   },
   "source": [
    "接著我們簡單示範一下如何觀察剛才載入的部分資料。"
   ]
  },
  {
   "cell_type": "code",
   "execution_count": 10,
   "metadata": {
    "colab": {
     "autoexec": {
      "startup": false,
      "wait_interval": 0
     },
     "base_uri": "https://localhost:8080/",
     "height": 408
    },
    "colab_type": "code",
    "executionInfo": {
     "elapsed": 958,
     "status": "ok",
     "timestamp": 1530863788994,
     "user": {
      "displayName": "黃種平",
      "photoUrl": "//lh3.googleusercontent.com/-ay6h3dmyraY/AAAAAAAAAAI/AAAAAAAADhg/t8F2AGa00fc/s50-c-k-no/photo.jpg",
      "userId": "114874362450166068432"
     },
     "user_tz": -480
    },
    "id": "fvkEJ16YKTv5",
    "outputId": "6a71ff98-2ff1-4bdf-e4a7-6d040d9fc282"
   },
   "outputs": [
    {
     "data": {
      "text/plain": [
       "datetime\n",
       "2017-01-01 00:00:00    18.0\n",
       "2017-01-01 01:00:00    14.0\n",
       "2017-01-01 02:00:00    17.0\n",
       "2017-01-01 03:00:00    24.0\n",
       "2017-01-01 04:00:00    25.0\n",
       "2017-01-01 05:00:00    28.0\n",
       "2017-01-01 06:00:00    33.0\n",
       "2017-01-01 07:00:00    36.0\n",
       "2017-01-01 08:00:00    41.0\n",
       "2017-01-01 09:00:00    46.0\n",
       "                       ... \n",
       "2017-12-31 14:00:00    95.0\n",
       "2017-12-31 15:00:00    95.0\n",
       "2017-12-31 16:00:00    94.0\n",
       "2017-12-31 17:00:00    82.0\n",
       "2017-12-31 18:00:00    64.0\n",
       "2017-12-31 19:00:00    53.0\n",
       "2017-12-31 20:00:00    48.0\n",
       "2017-12-31 21:00:00    44.0\n",
       "2017-12-31 22:00:00    41.0\n",
       "2017-12-31 23:00:00    35.0\n",
       "Name: PM2.5, Length: 8760, dtype: float64"
      ]
     },
     "execution_count": 10,
     "metadata": {},
     "output_type": "execute_result"
    }
   ],
   "source": [
    "# 取得某一個 column 名稱的資料\n",
    "# 舉例說明：取得 PM 2.5（Column 名稱：'PM 2.5'）的資料\n",
    "df['PM2.5']"
   ]
  },
  {
   "cell_type": "code",
   "execution_count": 14,
   "metadata": {
    "colab": {
     "autoexec": {
      "startup": false,
      "wait_interval": 0
     },
     "base_uri": "https://localhost:8080/",
     "height": 760
    },
    "colab_type": "code",
    "executionInfo": {
     "elapsed": 1267,
     "status": "ok",
     "timestamp": 1530863790655,
     "user": {
      "displayName": "黃種平",
      "photoUrl": "//lh3.googleusercontent.com/-ay6h3dmyraY/AAAAAAAAAAI/AAAAAAAADhg/t8F2AGa00fc/s50-c-k-no/photo.jpg",
      "userId": "114874362450166068432"
     },
     "user_tz": -480
    },
    "id": "g7fMSSrCVfww",
    "outputId": "e012add2-88a8-4aaa-81b5-9e2861f3bf32"
   },
   "outputs": [
    {
     "data": {
      "text/html": [
       "<div>\n",
       "<style scoped>\n",
       "    .dataframe tbody tr th:only-of-type {\n",
       "        vertical-align: middle;\n",
       "    }\n",
       "\n",
       "    .dataframe tbody tr th {\n",
       "        vertical-align: top;\n",
       "    }\n",
       "\n",
       "    .dataframe thead th {\n",
       "        text-align: right;\n",
       "    }\n",
       "</style>\n",
       "<table border=\"1\" class=\"dataframe\">\n",
       "  <thead>\n",
       "    <tr style=\"text-align: right;\">\n",
       "      <th></th>\n",
       "      <th>O3</th>\n",
       "      <th>PM2.5</th>\n",
       "      <th>SO2</th>\n",
       "    </tr>\n",
       "    <tr>\n",
       "      <th>datetime</th>\n",
       "      <th></th>\n",
       "      <th></th>\n",
       "      <th></th>\n",
       "    </tr>\n",
       "  </thead>\n",
       "  <tbody>\n",
       "    <tr>\n",
       "      <th>2017-01-01 00:00:00</th>\n",
       "      <td>25.0</td>\n",
       "      <td>18.0</td>\n",
       "      <td>1.5</td>\n",
       "    </tr>\n",
       "    <tr>\n",
       "      <th>2017-01-01 01:00:00</th>\n",
       "      <td>18.0</td>\n",
       "      <td>14.0</td>\n",
       "      <td>2.1</td>\n",
       "    </tr>\n",
       "    <tr>\n",
       "      <th>2017-01-01 02:00:00</th>\n",
       "      <td>13.0</td>\n",
       "      <td>17.0</td>\n",
       "      <td>2.0</td>\n",
       "    </tr>\n",
       "    <tr>\n",
       "      <th>2017-01-01 03:00:00</th>\n",
       "      <td>8.5</td>\n",
       "      <td>24.0</td>\n",
       "      <td>1.8</td>\n",
       "    </tr>\n",
       "    <tr>\n",
       "      <th>2017-01-01 04:00:00</th>\n",
       "      <td>1.8</td>\n",
       "      <td>25.0</td>\n",
       "      <td>1.7</td>\n",
       "    </tr>\n",
       "  </tbody>\n",
       "</table>\n",
       "</div>"
      ],
      "text/plain": [
       "                       O3  PM2.5  SO2\n",
       "datetime                             \n",
       "2017-01-01 00:00:00  25.0   18.0  1.5\n",
       "2017-01-01 01:00:00  18.0   14.0  2.1\n",
       "2017-01-01 02:00:00  13.0   17.0  2.0\n",
       "2017-01-01 03:00:00   8.5   24.0  1.8\n",
       "2017-01-01 04:00:00   1.8   25.0  1.7"
      ]
     },
     "execution_count": 14,
     "metadata": {},
     "output_type": "execute_result"
    }
   ],
   "source": [
    "# 取得多個 columns 的資料\n",
    "# 舉例說明：取得臭氧、PM 2.5、二氧化硫（Column 名稱：'O3', 'PM2.5', 'SO2'）的資料\n",
    "df[['O3', 'PM2.5', 'SO2']].head()"
   ]
  },
  {
   "cell_type": "markdown",
   "metadata": {
    "colab_type": "text",
    "id": "Pryi1zCWk5Cu"
   },
   "source": [
    "還有許多的方法可以瀏覽資料，我們將在之後的章節一一說明。"
   ]
  },
  {
   "cell_type": "markdown",
   "metadata": {
    "colab_type": "text",
    "id": "jAnMn-eaP_yB"
   },
   "source": [
    "## 資料視覺化初探"
   ]
  },
  {
   "cell_type": "markdown",
   "metadata": {
    "colab_type": "text",
    "id": "5o3NSoDPm8OA"
   },
   "source": [
    "將數值類型的資料畫成圖表，在檢視資料時也是相當好用的工具。"
   ]
  },
  {
   "cell_type": "code",
   "execution_count": 13,
   "metadata": {
    "colab": {
     "autoexec": {
      "startup": false,
      "wait_interval": 0
     },
     "base_uri": "https://localhost:8080/",
     "height": 347
    },
    "colab_type": "code",
    "executionInfo": {
     "elapsed": 1334,
     "status": "ok",
     "timestamp": 1530863792580,
     "user": {
      "displayName": "黃種平",
      "photoUrl": "//lh3.googleusercontent.com/-ay6h3dmyraY/AAAAAAAAAAI/AAAAAAAADhg/t8F2AGa00fc/s50-c-k-no/photo.jpg",
      "userId": "114874362450166068432"
     },
     "user_tz": -480
    },
    "id": "JhCVd_K_Pj7H",
    "outputId": "311c75c7-6566-47b1-c21b-604b029e95fb"
   },
   "outputs": [
    {
     "data": {
      "text/plain": [
       "<matplotlib.axes._subplots.AxesSubplot at 0x11ae325f8>"
      ]
     },
     "execution_count": 13,
     "metadata": {},
     "output_type": "execute_result"
    },
    {
     "data": {
      "image/png": "[encoded data removed]",
      "text/plain": [
       "<Figure size 1200x300 with 1 Axes>"
      ]
     },
     "metadata": {},
     "output_type": "display_data"
    }
   ],
   "source": [
    "# 取得某一個 column 資料，利用 dataframe 的 methods plot() 將資料轉成圖表\n",
    "# 舉例說明：取得 PM2.5 （Column 名稱：'PM 2.5'）的資料，並轉成折線圖表\n",
    "df[['PM2.5']].plot()"
   ]
  },
  {
   "cell_type": "markdown",
   "metadata": {
    "colab_type": "text",
    "id": "lF3KkUslgiB_"
   },
   "source": [
    "除了**折線圖**以外，Pandas 還提供了不同的圖表類型可供選擇，之後的章節也會說明。"
   ]
  },
  {
   "cell_type": "code",
   "execution_count": null,
   "metadata": {
    "colab": {
     "autoexec": {
      "startup": false,
      "wait_interval": 0
     }
    },
    "colab_type": "code",
    "id": "XL7UQY2enkOs"
   },
   "outputs": [],
   "source": []
  }
 ],
 "metadata": {
  "colab": {
   "collapsed_sections": [],
   "default_view": {},
   "name": "Chapter 1 - Read from file.ipynb",
   "provenance": [],
   "toc_visible": true,
   "version": "0.3.2",
   "views": {}
  },
  "kernelspec": {
   "display_name": "Python 3",
   "language": "python",
   "name": "python3"
  },
  "language_info": {
   "codemirror_mode": {
    "name": "ipython",
    "version": 3
   },
   "file_extension": ".py",
   "mimetype": "text/x-python",
   "name": "python",
   "nbconvert_exporter": "python",
   "pygments_lexer": "ipython3",
   "version": "3.6.4"
  }
 },
 "nbformat": 4,
 "nbformat_minor": 2
}
